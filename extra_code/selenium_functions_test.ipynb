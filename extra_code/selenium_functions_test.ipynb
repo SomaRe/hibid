{
 "cells": [
  {
   "cell_type": "code",
   "execution_count": 10,
   "metadata": {},
   "outputs": [],
   "source": [
    "# imports\n",
    "import os\n",
    "import re\n",
    "import time\n",
    "import pandas as pd\n",
    "from datetime import datetime\n",
    "from selenium import webdriver\n",
    "from selenium.webdriver.common.by import By\n",
    "from selenium.webdriver.common.keys import Keys\n",
    "from selenium.webdriver.firefox.service import Service\n",
    "from selenium.webdriver.firefox.options import Options\n",
    "from selenium.webdriver.support.ui import WebDriverWait\n",
    "from selenium.webdriver.support import expected_conditions as EC"
   ]
  },
  {
   "cell_type": "code",
   "execution_count": 11,
   "metadata": {},
   "outputs": [],
   "source": [
    "# initialize driver\n",
    "def init_driver(headless=False):\n",
    "    service = Service(executable_path=\"geckodriver/geckodriver.exe\")\n",
    "    options = Options()\n",
    "    options.add_argument(\"--headless\") if headless else None\n",
    "    driver = webdriver.Firefox(service=service, options=options)\n",
    "    driver.implicitly_wait(10) # seconds\n",
    "    return driver"
   ]
  },
  {
   "cell_type": "code",
   "execution_count": 12,
   "metadata": {},
   "outputs": [],
   "source": [
    "def search_auction_house(auction_house_name: str, url: str=\"https://hibid.com/companysearch\", headless = False) -> dict[str, dict[str, str]]:\n",
    "    \"\"\"\n",
    "    Search for an auction house on the specified URL and return its details.\n",
    "    \n",
    "    Parameters:\n",
    "    - driver (WebDriver): The Selenium web driver instance.\n",
    "    - auction_house_name (str): The name of the auction house to search for.\n",
    "    - url (str, optional): The URL of the auction house search page. Default is \"https://hibid.com/companysearch\".\n",
    "    \n",
    "    Returns:\n",
    "    Dict[str, Dict[str, str]]: A dictionary containing details about the found auction houses. The structure is:\n",
    "    {\n",
    "        'auction_house_name': {\n",
    "            'id': 'auction_house_id',\n",
    "            'href': 'auction_house_url',\n",
    "            'location': 'auction_house_location'\n",
    "        },\n",
    "        ...\n",
    "    }\n",
    "    \"\"\"\n",
    "    driver = init_driver(headless=headless)\n",
    "    driver.get(url)\n",
    "    \n",
    "    search_input = driver.find_element(By.CLASS_NAME, \"search-input\")\n",
    "    search_input.find_element(By.TAG_NAME, \"input\").send_keys(auction_house_name)\n",
    "    search_input.find_element(By.CLASS_NAME, \"btn-primary\").click()\n",
    "    \n",
    "    table_body = driver.find_element(By.CSS_SELECTOR, \"#companySearch tbody\")\n",
    "    auction_house_rows = table_body.find_elements(By.TAG_NAME, \"tr\")\n",
    "    \n",
    "    auction_houses = {}\n",
    "    \n",
    "    for auction_house_row in auction_house_rows:\n",
    "        name_elem = auction_house_row.find_element(By.CSS_SELECTOR, \"td a\")\n",
    "        location_elem = auction_house_row.find_element(By.CSS_SELECTOR, \"td:nth-child(2) a\")\n",
    "            \n",
    "        auction_house_name = name_elem.text\n",
    "        auction_house_href = name_elem.get_attribute(\"href\")\n",
    "        auction_house_id = auction_house_href.split(\"/\")[-2]\n",
    "        auction_house_location = location_elem.get_attribute(\"href\")\n",
    "        \n",
    "        auction_houses[auction_house_name] = {\n",
    "            \"id\": auction_house_id, \n",
    "            \"href\": auction_house_href, \n",
    "            \"location\": auction_house_location\n",
    "        }\n",
    "    \n",
    "    driver.quit()\n",
    "\n",
    "    return auction_houses\n"
   ]
  },
  {
   "cell_type": "code",
   "execution_count": 13,
   "metadata": {},
   "outputs": [],
   "source": [
    "def extract_auction_details(auction_header):\n",
    "    \"\"\"Extract details for a single auction.\"\"\"\n",
    "    \n",
    "    auction_title = auction_header.find_element(By.CLASS_NAME, \"auction-title\").text\n",
    "\n",
    "    date_range_text = auction_header.find_element(By.XPATH, \".//p[contains(text(), 'Date(s)')]\").text\n",
    "    start_date_text, end_date_text = date_range_text.replace(\"Date(s) \", \"\").split(\" - \")\n",
    "    start_date = datetime.strptime(start_date_text, '%m/%d/%Y').date()\n",
    "    end_date = datetime.strptime(end_date_text, '%m/%d/%Y').date()\n",
    "\n",
    "    auction_type = auction_header.find_element(By.CSS_SELECTOR, \".bid-type.ng-star-inserted\").text\n",
    "\n",
    "    auction_status = auction_header.find_element(By.TAG_NAME,\"app-auction-status\")\n",
    "    bidding_status = auction_status.find_element(By.TAG_NAME, \"span\").text\n",
    "    is_bidding_open = True if \"Open\" in bidding_status else False\n",
    "\n",
    "    shipping_status_element = auction_header.find_element(By.CSS_SELECTOR, \".shipping-type.text-primary.ng-star-inserted\")\n",
    "    shipping_status = \"Not\" not in shipping_status_element.text if shipping_status_element else False\n",
    "\n",
    "    auction_links, lots = extract_auction_links_and_lots(auction_header)\n",
    "\n",
    "    return {\n",
    "        \"auction_title\": auction_title,\n",
    "        \"dates\": {\n",
    "            'start': start_date,\n",
    "            'end': end_date\n",
    "        },\n",
    "        \"auction_type\": auction_type,\n",
    "        \"is_bidding_open\": is_bidding_open,\n",
    "        \"shipping_available\": shipping_status,\n",
    "        \"links\": auction_links,\n",
    "        \"number_of_lots\": lots\n",
    "    }\n",
    "\n",
    "\n",
    "def extract_auction_links_and_lots(auction_header):\n",
    "    \"\"\"Extract auction links and number of lots for a single auction.\"\"\"\n",
    "    \n",
    "    auction_buttons = auction_header.find_elements(By.CSS_SELECTOR, \".auction-btn.btn.btn-primary.btn-block.ng-star-inserted\")\n",
    "    auction_links = {}\n",
    "    lots = None\n",
    "\n",
    "    for btn in auction_buttons:\n",
    "        text = btn.text.strip()\n",
    "        link = btn.get_attribute('href')\n",
    "        if \"Auction Details\" in text:\n",
    "            auction_links[\"register\"] = link\n",
    "        elif \"View Catalog\" in text:\n",
    "            auction_links[\"catalog\"] = link\n",
    "            lots_text = btn.find_element(By.TAG_NAME, \"span\").text\n",
    "            lots = re.search(r'\\((\\d+) [Ll][Oo][Tt][Ss]\\)', lots_text)\n",
    "            lots = int(lots.group(1)) if lots else None\n",
    "\n",
    "    return auction_links, lots\n",
    "\n",
    "\n",
    "def get_auction_company_details_and_listings(url=\"https://hibid.com/company/92115/encore-auctions-inc\", headless=False):\n",
    "    \"\"\"\n",
    "    Fetch the details of an auction company from the specified URL.\n",
    "\n",
    "    This function scrapes and returns details about the auctioneer as well as information about each auction listing. \n",
    "    The auction information includes title, date range, type, bidding status, shipping availability, associated links, \n",
    "    and the number of lots.\n",
    "\n",
    "    Parameters:\n",
    "    - driver (webdriver object): The Selenium WebDriver object to interact with the browser.\n",
    "    - url (str, optional): The URL of the auction company to scrape. Defaults to Encore Auctions Inc on HiBid.\n",
    "\n",
    "    Returns:\n",
    "    - dict: \n",
    "        - \"auctioneer_details\": A string containing details about the auctioneer.\n",
    "        - \"auctions\": A dictionary where:\n",
    "            - key (str): The title of the auction.\n",
    "            - value (dict): A dictionary containing:\n",
    "                - \"dates\": A dictionary with 'start' and 'end' dates of the auction.\n",
    "                - \"number_of_lots\": An integer indicating the number of lots in the auction (if available).\n",
    "                - \"auction_type\": A string describing the type of the auction.\n",
    "                - \"is_bidding_open\": A boolean indicating if bidding is currently open.\n",
    "                - \"shipping_available\": A boolean indicating if shipping is available for the auction.\n",
    "                - \"links\": A dictionary containing links associated with the auction. Possible keys include \"register\" and \"catalog\".\n",
    "\n",
    "    Example usage:\n",
    "    ```\n",
    "    from selenium import webdriver\n",
    "\n",
    "    driver = webdriver.Chrome()\n",
    "    result = fetch_auction_company(driver)\n",
    "    print(result)\n",
    "    driver.quit()\n",
    "    ```\n",
    "    \"\"\"\n",
    "    driver = init_driver()\n",
    "    driver.get(url)\n",
    "    \n",
    "    auctioneer_details = driver.find_element(By.CLASS_NAME, \"auctioneer-details\").text\n",
    "    \n",
    "    auction_headers = driver.find_elements(By.TAG_NAME, \"app-auction-header\")\n",
    "\n",
    "    all_auctions = {\"auctioneer_details\": auctioneer_details, \"auctions\": {}}\n",
    "    \n",
    "    for auction_header in auction_headers:\n",
    "        details = extract_auction_details(auction_header)\n",
    "        all_auctions[\"auctions\"][details[\"auction_title\"]] = {\n",
    "            key: value for key, value in details.items() if key != \"auction_title\"\n",
    "        }\n",
    "    \n",
    "    driver.quit()\n",
    "\n",
    "    return all_auctions\n"
   ]
  },
  {
   "cell_type": "code",
   "execution_count": 14,
   "metadata": {},
   "outputs": [],
   "source": [
    "\n",
    "def scrape_detailed_auction_data(driver):\n",
    "    \"\"\"\n",
    "    Extract detailed auction data from the given webpage.\n",
    "\n",
    "    Parameters:\n",
    "    - driver (webdriver instance): An active Selenium webdriver instance.\n",
    "\n",
    "    Returns:\n",
    "    - list[dict]: A list of dictionaries containing details of each auction element.\n",
    "\n",
    "    Each dictionary has the following structure:\n",
    "    {\n",
    "        \"link\": <auction link>,\n",
    "        \"title\": <auction title>,\n",
    "        \"lot_number\": <lot number>,\n",
    "        \"number_of_bids\": <number of bids made>,\n",
    "        \"currency\": <currency of the bid>,\n",
    "        \"max_bid\": <highest bid amount>\n",
    "    }\n",
    "    \"\"\"\n",
    "    auction_elements = driver.find_elements(By.CSS_SELECTOR, 'app-lot-tile')\n",
    "    print(f\"Number of detailed auctions: {len(auction_elements)}\")    \n",
    "\n",
    "    auctions_data = []\n",
    "    for auction in auction_elements:\n",
    "        auction_dict = {}\n",
    "        \n",
    "        try:\n",
    "            auction_dict[\"link\"] = auction.find_element(By.CSS_SELECTOR, '.lot-link.lot-preview-link.link').get_attribute('href')\n",
    "            auction_dict[\"title\"] = auction.find_element(By.CSS_SELECTOR, 'h2.lot-title').text\n",
    "            auction_dict[\"lot_number\"] = auction.find_element(By.CSS_SELECTOR, '.text-primary.fw-bold').text.split(' ')[1]\n",
    "            auction_dict[\"number_of_bids\"] = int(auction.find_element(By.CSS_SELECTOR, '.lot-bid-history.btn-link').text.split(' ')[0])\n",
    "            max_bid = auction.find_element(By.CSS_SELECTOR, '.lot-high-bid.font-weight-bold').text.split(':')[1].strip().split()\n",
    "            auction_dict['currency'] = max_bid[1]\n",
    "            auction_dict[\"max_bid\"] = float(max_bid[0].strip())\n",
    "        except Exception as e:\n",
    "            print(f\"Error extracting data for one of the auctions: {e}\")\n",
    "\n",
    "        auctions_data.append(auction_dict)\n",
    "\n",
    "    \n",
    "    return auctions_data\n",
    "\n",
    "def scrape_condensed_auction_data(driver):\n",
    "    \"\"\"\n",
    "    Extract condensed auction data from the given webpage.\n",
    "\n",
    "    Parameters:\n",
    "    - driver (webdriver instance): An active Selenium webdriver instance.\n",
    "\n",
    "    Returns:\n",
    "    - list[dict]: A list of dictionaries containing details of each condensed auction element.\n",
    "\n",
    "    Each dictionary has the following structure:\n",
    "    {\n",
    "        \"link\": <auction link>,\n",
    "        \"title\": <auction title>,\n",
    "        \"lot_number\": <lot number>,\n",
    "        \"number_of_bids\": <number of bids made>,\n",
    "        \"max_bid\": <highest bid amount>\n",
    "    }\n",
    "    \"\"\"\n",
    "    auction_elements = driver.find_elements(By.TAG_NAME, 'app-lot-condensed')\n",
    "    print(f\"Number of condensed auctions: {len(auction_elements)}\")\n",
    "\n",
    "    auctions_data = []\n",
    "    for auction in auction_elements:    \n",
    "        auction_dict = {}\n",
    "        \n",
    "        try:\n",
    "            auction_dict[\"link\"] = auction.find_element(By.CSS_SELECTOR, '.lot-link').get_attribute('href')\n",
    "            auction_dict[\"title\"] = auction.find_element(By.CSS_SELECTOR, 'h2.lot-title').text\n",
    "            auction_dict[\"lot_number\"] = auction.find_element(By.TAG_NAME, 'strong').text.split(' ')[1]\n",
    "            auction_dict[\"number_of_bids\"] = int(auction.find_element(By.CSS_SELECTOR, '.lot-bid-history.btn-link').text.split(' ')[0])\n",
    "            max_bid = auction.find_element(By.CSS_SELECTOR, 'dd.lot-high-bid').text.strip().split()\n",
    "            auction_dict['currency'] = max_bid[1]\n",
    "            auction_dict[\"max_bid\"] = float(max_bid[0].strip())\n",
    "        except Exception as e:\n",
    "            print(f\"Error extracting data for one of the auctions: {e}\")\n",
    "\n",
    "        auctions_data.append(auction_dict)\n",
    "\n",
    "    \n",
    "    return auctions_data\n",
    "\n",
    "\n",
    "def scrape_auction_data(url, headless=False):\n",
    "    \"\"\"\n",
    "    Extracts both detailed and condensed auction data from the given webpage.\n",
    "\n",
    "    Parameters:\n",
    "    - url (str): URL of the webpage containing auction elements (both detailed and condensed).\n",
    "\n",
    "    Returns:\n",
    "    - list[dict]: A list of dictionaries containing details of each auction element \n",
    "                  (combining both detailed and condensed auctions).\n",
    "    Each dictionary has the following structure:\n",
    "    {\n",
    "        \"link\": <auction link>,\n",
    "        \"title\": <auction title>,\n",
    "        \"lot_number\": <lot number>,\n",
    "        \"number_of_bids\": <number of bids made>,\n",
    "        \"currency\": <currency of the bid>,\n",
    "        \"max_bid\": <highest bid amount>\n",
    "    }\n",
    "\n",
    "    Each dictionary has the structure as described in the previous functions.\n",
    "    \"\"\"\n",
    "    driver = init_driver(headless=headless)\n",
    "    driver.get(url)\n",
    "    time.sleep(5)\n",
    "    # Wait for the elements to load or add an explicit wait if needed\n",
    "    dad = scrape_detailed_auction_data(driver)\n",
    "    cad = scrape_condensed_auction_data(driver)\n",
    "    driver.quit()\n",
    "    dad.extend(cad)\n",
    "    print(f\"Total number of auctions: {len(dad)}\")\n",
    "    return dad"
   ]
  },
  {
   "cell_type": "code",
   "execution_count": 15,
   "metadata": {},
   "outputs": [],
   "source": [
    "# scrape_auction_data('https://hibid.com/livecatalog/481241/335--new--returned-and-over-stock-items-sunday-03-sep-2023')"
   ]
  },
  {
   "cell_type": "code",
   "execution_count": 20,
   "metadata": {},
   "outputs": [],
   "source": [
    "def update_csv_with_data(filename, data):\n",
    "    # If the CSV exists, load it into a DataFrame. Otherwise, create a new DataFrame\n",
    "    if os.path.exists(filename):\n",
    "        df = pd.read_csv(filename)\n",
    "    else:\n",
    "        df = pd.DataFrame(columns=[\"link\", \"title\", \"lot_number\", \"number_of_bids\", \"currency\", \"max_bid\"])\n",
    "\n",
    "    for item in data:\n",
    "        try:\n",
    "            # Check if item already exists in the DataFrame\n",
    "            existing_entry = df[df['link'] == item['link']]\n",
    "            \n",
    "            # If it does not exist, append it to the DataFrame\n",
    "            if existing_entry.empty:\n",
    "                df = pd.concat([df, pd.DataFrame([item])], ignore_index=True)\n",
    "            else:\n",
    "                # If it does and has a different max_bid, update the max_bid\n",
    "                if existing_entry.iloc[0]['max_bid'] != item['max_bid']:\n",
    "                    df.loc[df['link'] == item['link'], 'max_bid'] = item['max_bid']\n",
    "        except Exception as e:\n",
    "            print(f\"Error updating the DataFrame: {e}\")\n",
    "\n",
    "    # Save the updated DataFrame to the CSV\n",
    "    df.to_csv(filename, index=False)"
   ]
  },
  {
   "cell_type": "code",
   "execution_count": 17,
   "metadata": {},
   "outputs": [],
   "source": [
    "def main(scrape_interval=60, headless=True):\n",
    "    while True:\n",
    "        data = scrape_auction_data(\"https://hibid.com/livecatalog/478452/undeliverable-freight-return-merchandise-closes-sept-3--2023\", headless=headless)\n",
    "        update_csv_with_data(\"auctions.csv\", data)\n",
    "        time.sleep(scrape_interval)"
   ]
  },
  {
   "cell_type": "code",
   "execution_count": 21,
   "metadata": {},
   "outputs": [
    {
     "name": "stderr",
     "output_type": "stream",
     "text": [
      "C:\\Users\\shiva\\AppData\\Local\\Temp\\ipykernel_2096\\2574675377.py:3: DeprecationWarning: Firefox will soon stop logging to geckodriver.log by default; Specify desired logs with log_output\n",
      "  service = Service(executable_path=\"geckodriver/geckodriver.exe\")\n"
     ]
    },
    {
     "name": "stdout",
     "output_type": "stream",
     "text": [
      "Number of detailed auctions: 31\n",
      "Number of condensed auctions: 30\n",
      "Total number of auctions: 61\n"
     ]
    },
    {
     "name": "stderr",
     "output_type": "stream",
     "text": [
      "C:\\Users\\shiva\\AppData\\Local\\Temp\\ipykernel_2096\\2574675377.py:3: DeprecationWarning: Firefox will soon stop logging to geckodriver.log by default; Specify desired logs with log_output\n",
      "  service = Service(executable_path=\"geckodriver/geckodriver.exe\")\n"
     ]
    },
    {
     "name": "stdout",
     "output_type": "stream",
     "text": [
      "Number of detailed auctions: 30\n",
      "Number of condensed auctions: 29\n",
      "Total number of auctions: 59\n"
     ]
    },
    {
     "name": "stderr",
     "output_type": "stream",
     "text": [
      "C:\\Users\\shiva\\AppData\\Local\\Temp\\ipykernel_2096\\2574675377.py:3: DeprecationWarning: Firefox will soon stop logging to geckodriver.log by default; Specify desired logs with log_output\n",
      "  service = Service(executable_path=\"geckodriver/geckodriver.exe\")\n"
     ]
    },
    {
     "name": "stdout",
     "output_type": "stream",
     "text": [
      "Number of detailed auctions: 31\n",
      "Number of condensed auctions: 29\n",
      "Total number of auctions: 60\n"
     ]
    },
    {
     "name": "stderr",
     "output_type": "stream",
     "text": [
      "C:\\Users\\shiva\\AppData\\Local\\Temp\\ipykernel_2096\\2574675377.py:3: DeprecationWarning: Firefox will soon stop logging to geckodriver.log by default; Specify desired logs with log_output\n",
      "  service = Service(executable_path=\"geckodriver/geckodriver.exe\")\n"
     ]
    },
    {
     "name": "stdout",
     "output_type": "stream",
     "text": [
      "Number of detailed auctions: 29\n",
      "Error extracting data for one of the auctions: Message: The element with the reference fb9cecf1-3114-45a3-88ca-c4cd50ca962d is stale; either its node document is not the active document, or it is no longer connected to the DOM; For documentation on this error, please visit: https://www.selenium.dev/documentation/webdriver/troubleshooting/errors#stale-element-reference-exception\n",
      "Stacktrace:\n",
      "RemoteError@chrome://remote/content/shared/RemoteError.sys.mjs:8:8\n",
      "WebDriverError@chrome://remote/content/shared/webdriver/Errors.sys.mjs:188:5\n",
      "StaleElementReferenceError@chrome://remote/content/shared/webdriver/Errors.sys.mjs:660:5\n",
      "getKnownElement@chrome://remote/content/marionette/json.sys.mjs:286:11\n",
      "deserializeJSON@chrome://remote/content/marionette/json.sys.mjs:233:20\n",
      "cloneObject@chrome://remote/content/marionette/json.sys.mjs:54:24\n",
      "deserializeJSON@chrome://remote/content/marionette/json.sys.mjs:240:16\n",
      "cloneObject@chrome://remote/content/marionette/json.sys.mjs:54:24\n",
      "deserializeJSON@chrome://remote/content/marionette/json.sys.mjs:240:16\n",
      "json.deserialize@chrome://remote/content/marionette/json.sys.mjs:244:10\n",
      "receiveMessage@chrome://remote/content/marionette/actors/MarionetteCommandsChild.sys.mjs:72:30\n",
      "\n",
      "Number of condensed auctions: 30\n",
      "Total number of auctions: 59\n",
      "Error updating the DataFrame: 'link'\n",
      "{}\n",
      "[{'link': 'https://hibid.com/lot/168248898/3-seater-air-leather-recliner-sofa--black', 'title': '3 SEATER AIR LEATHER RECLINER SOFA, BLACK', 'lot_number': '1802a', 'number_of_bids': 55, 'currency': 'CAD', 'max_bid': 230.0}, {'link': 'https://hibid.com/lot/167896317/-sealed--akso-folding-treadmill--walking-pad-with', 'title': '(SEALED) AKSO FOLDING TREADMILL, WALKING PAD WITH', 'lot_number': '1841', 'number_of_bids': 19, 'currency': 'CAD', 'max_bid': 150.0}, {'link': 'https://hibid.com/lot/167896356/vileda-easy-wring-and-clean-microfibre-mop-and', 'title': 'VILEDA EASY WRING AND CLEAN MICROFIBRE MOP AND', 'lot_number': '1880', 'number_of_bids': 20, 'currency': 'CAD', 'max_bid': 21.0}, {'link': 'https://hibid.com/lot/168048663/16-pcs--set-of-2-sizes--libbey-glassware', 'title': '16 PCS, SET OF 2 SIZES, LIBBEY GLASSWARE', 'lot_number': '1904', 'number_of_bids': 22, 'currency': 'CAD', 'max_bid': 30.0}, {'link': 'https://hibid.com/lot/168048676/-sealed--set-of-4-pcs--fh-group-rubber-car-floor', 'title': '(SEALED) SET OF 4 PCS, FH GROUP RUBBER CAR FLOOR', 'lot_number': '1917', 'number_of_bids': 10, 'currency': 'CAD', 'max_bid': 14.0}, {'link': 'https://hibid.com/lot/168048678/12-cup--braun-coffee-maker', 'title': '12 CUP, BRAUN COFFEE MAKER', 'lot_number': '1919', 'number_of_bids': 16, 'currency': 'CAD', 'max_bid': 19.0}, {'link': 'https://hibid.com/lot/168048687/biobidet-dual-nozzle-spray-bidet-attachment', 'title': 'BIOBIDET DUAL NOZZLE SPRAY-BIDET ATTACHMENT', 'lot_number': '1928', 'number_of_bids': 8, 'currency': 'CAD', 'max_bid': 11.0}, {'link': 'https://hibid.com/lot/167896372/midea-duo-12-000-btu-inverter-portable-air', 'title': 'MIDEA DUO 12,000 BTU INVERTER PORTABLE AIR', 'lot_number': '1943', 'number_of_bids': 15, 'currency': 'CAD', 'max_bid': 70.0}, {'link': 'https://hibid.com/lot/167896391/technivorm-moccamaster-53930-kbgv-10-cup-coffee', 'title': 'TECHNIVORM MOCCAMASTER 53930 KBGV 10-CUP COFFEE', 'lot_number': '1962', 'number_of_bids': 36, 'currency': 'CAD', 'max_bid': 170.0}, {'link': 'https://hibid.com/lot/167896392/tiny-love-boho-chic-xl-supermat', 'title': 'TINY LOVE BOHO CHIC XL SUPERMAT', 'lot_number': '1963', 'number_of_bids': 8, 'currency': 'CAD', 'max_bid': 11.0}, {'link': 'https://hibid.com/lot/167896393/1-7-liter-hamiton-beach-40864c-glass-electric', 'title': '1.7 LITER HAMITON BEACH 40864C GLASS ELECTRIC', 'lot_number': '1964', 'number_of_bids': 17, 'currency': 'CAD', 'max_bid': 19.0}, {'link': 'https://hibid.com/lot/167896394/pro-lift-f-2315pe-grey-hydraulic-trolley-jack-car', 'title': 'PRO-LIFT F-2315PE GREY HYDRAULIC TROLLEY JACK CAR', 'lot_number': '1965', 'number_of_bids': 32, 'currency': 'CAD', 'max_bid': 42.5}, {'link': 'https://hibid.com/lot/167896395/summer-infant--3d-mini-convenience-stroller', 'title': 'SUMMER INFANT, 3D MINI CONVENIENCE STROLLER', 'lot_number': '1966', 'number_of_bids': 22, 'currency': 'CAD', 'max_bid': 32.5}, {'link': 'https://hibid.com/lot/167896399/missing-piece---drying-rack', 'title': 'MISSING PIECE - DRYING RACK', 'lot_number': '1970', 'number_of_bids': 4, 'currency': 'CAD', 'max_bid': 4.0}, {'link': 'https://hibid.com/lot/167896401/proctor-silex-34300r-proctor-silex-buffet', 'title': 'PROCTOR SILEX 34300R PROCTOR SILEX BUFFET', 'lot_number': '1972', 'number_of_bids': 11, 'currency': 'CAD', 'max_bid': 14.0}, {'link': 'https://hibid.com/lot/167896402/4-set---1-2-inch-npt-set-skid-steer-loader-quick', 'title': '4 SET - 1/2 INCH NPT SET SKID STEER LOADER QUICK', 'lot_number': '1973', 'number_of_bids': 22, 'currency': 'CAD', 'max_bid': 52.5}, {}, {'link': 'https://hibid.com/lot/167896413/twin-size-linenspa-8-inch-memory-foam-and', 'title': 'TWIN SIZE LINENSPA 8 INCH MEMORY FOAM AND', 'lot_number': '1984', 'number_of_bids': 15, 'currency': 'CAD', 'max_bid': 95.0}, {'link': 'https://hibid.com/lot/167896414/2-pcs-51-inch--sportrack-car-roof-rack', 'title': '2 PCS 51 INCH, SPORTRACK CAR ROOF RACK', 'lot_number': '1985', 'number_of_bids': 5, 'currency': 'CAD', 'max_bid': 45.0}, {'link': 'https://hibid.com/lot/167896415/80-inch--design-house-lamp-post-with-cross-arm', 'title': '80 INCH, DESIGN HOUSE LAMP POST WITH CROSS ARM', 'lot_number': '1986', 'number_of_bids': 5, 'currency': 'CAD', 'max_bid': 27.0}, {'link': 'https://hibid.com/lot/167896416/narrow-twin-4-inch-zinus-memory-foam-mattress', 'title': 'NARROW TWIN 4 INCH ZINUS MEMORY FOAM MATTRESS', 'lot_number': '1987', 'number_of_bids': 12, 'currency': 'CAD', 'max_bid': 29.0}, {'link': 'https://hibid.com/lot/167896417/64-x-17-x-14-inch--lft-huimei2y-4-shelf-glass', 'title': '64 x 17 X 14 INCH, LFT HUIMEI2Y 4 SHELF GLASS', 'lot_number': '1988', 'number_of_bids': 13, 'currency': 'CAD', 'max_bid': 57.5}, {'link': 'https://hibid.com/lot/167896418/-rail-part-only--twin-size--storkcraft-caribou', 'title': '(RAIL PART ONLY) TWIN SIZE, STORKCRAFT CARIBOU', 'lot_number': '1989', 'number_of_bids': 0, 'currency': 'CAD', 'max_bid': 0.0}, {'link': 'https://hibid.com/lot/167896419/midea-8-000-btu-u-shaped-air-conditioner', 'title': 'MIDEA 8,000 BTU U SHAPED AIR CONDITIONER', 'lot_number': '1990', 'number_of_bids': 6, 'currency': 'CAD', 'max_bid': 45.0}, {'link': 'https://hibid.com/lot/167896420/intex-sand-filter-pump-and-saltwater-system', 'title': 'INTEX SAND FILTER PUMP AND SALTWATER SYSTEM', 'lot_number': '1991', 'number_of_bids': 8, 'currency': 'CAD', 'max_bid': 52.5}, {'link': 'https://hibid.com/lot/167896421/tvilum-austin-8-drawer-dresser--white--7007349', 'title': 'TVILUM AUSTIN 8-DRAWER DRESSER, WHITE, 7007349', 'lot_number': '1992', 'number_of_bids': 24, 'currency': 'CAD', 'max_bid': 77.5}, {'link': 'https://hibid.com/lot/167896422/6-cu-ft--steel-tray--steel-handle--black', 'title': '6 CU.FT. STEEL TRAY, STEEL HANDLE, BLACK', 'lot_number': '1993', 'number_of_bids': 23, 'currency': 'CAD', 'max_bid': 100.0}, {'link': 'https://hibid.com/lot/167896423/stanbroil-stainless-steel-grill-griddle-flat-top', 'title': 'STANBROIL STAINLESS STEEL GRILL GRIDDLE FLAT TOP', 'lot_number': '1994', 'number_of_bids': 11, 'currency': 'CAD', 'max_bid': 26.0}, {'link': 'https://hibid.com/lot/167896424/midea-6-000btu-air-conditioner', 'title': 'MIDEA 6,000BTU AIR CONDITIONER', 'lot_number': '1995', 'number_of_bids': 6, 'currency': 'CAD', 'max_bid': 32.5}, {'link': 'https://hibid.com/lot/167896426/-headboard-only--king-size-flash-furniture', 'title': '(HEADBOARD ONLY) KING SIZE FLASH FURNITURE', 'lot_number': '1997', 'number_of_bids': 9, 'currency': 'CAD', 'max_bid': 47.5}, {'link': 'https://hibid.com/lot/167896427/2-tier-shoe-rack', 'title': '2-TIER SHOE RACK', 'lot_number': '1998', 'number_of_bids': 2, 'currency': 'CAD', 'max_bid': 2.0}, {'link': 'https://hibid.com/lot/167896428/portable-air-conditioners--3-in-1-portable-ac', 'title': 'PORTABLE AIR CONDITIONERS, 3-IN-1 PORTABLE AC', 'lot_number': '1999', 'number_of_bids': 6, 'currency': 'CAD', 'max_bid': 6.0}, {'link': 'https://hibid.com/lot/167896429/thrustmaster-t300-rs', 'title': 'THRUSTMASTER T300 RS', 'lot_number': '2000', 'number_of_bids': 25, 'currency': 'CAD', 'max_bid': 120.0}, {'link': 'https://hibid.com/lot/168493107/-with-sign-of-usage-no-charger--razor-dirt-rocket', 'title': '(WITH SIGN OF USAGE NO CHARGER) RAZOR DIRT ROCKET', 'lot_number': '2000a', 'number_of_bids': 20, 'currency': 'CAD', 'max_bid': 110.0}, {'link': 'https://hibid.com/lot/167896430/delonghi-ecp3630-15-bar-espresso-and-cappuccino', 'title': \"DE'LONGHI ECP3630 15 BAR ESPRESSO AND CAPPUCCINO\", 'lot_number': '2001', 'number_of_bids': 14, 'currency': 'CAD', 'max_bid': 45.0}, {'link': 'https://hibid.com/lot/167896431/window-sill-protector', 'title': 'WINDOW SILL PROTECTOR', 'lot_number': '2002', 'number_of_bids': 2, 'currency': 'CAD', 'max_bid': 2.0}, {'link': 'https://hibid.com/lot/167896432/10--little-tikes-first-washer-dryer', 'title': '10+ LITTLE TIKES FIRST WASHER DRYER', 'lot_number': '2003', 'number_of_bids': 7, 'currency': 'CAD', 'max_bid': 18.0}, {'link': 'https://hibid.com/lot/167896433/kitchenaid-stand-mixer', 'title': 'KITCHENAID STAND MIXER', 'lot_number': '2004', 'number_of_bids': 30, 'currency': 'CAD', 'max_bid': 140.0}, {'link': 'https://hibid.com/lot/167896434/fisher-price-walk-bounce-and-ride-pony', 'title': 'FISHER-PRICE WALK BOUNCE & RIDE PONY', 'lot_number': '2005', 'number_of_bids': 9, 'currency': 'CAD', 'max_bid': 16.0}, {'link': 'https://hibid.com/lot/167896435/infantino-music-and-lights-3-in-1-discovery-seat', 'title': 'INFANTINO MUSIC & LIGHTS 3-IN-1 DISCOVERY SEAT', 'lot_number': '2006', 'number_of_bids': 6, 'currency': 'CAD', 'max_bid': 8.0}, {'link': 'https://hibid.com/lot/167896436/27--senville-senfz10-19m-oscillating-tower-fan', 'title': '27” SENVILLE SENFZ10-19M OSCILLATING TOWER FAN', 'lot_number': '2007', 'number_of_bids': 10, 'currency': 'CAD', 'max_bid': 17.0}, {'link': 'https://hibid.com/lot/167896437/napoleon-cast-iron-charcoal-and-smoker-tray', 'title': 'NAPOLEON CAST IRON CHARCOAL AND SMOKER TRAY', 'lot_number': '2008', 'number_of_bids': 7, 'currency': 'CAD', 'max_bid': 8.0}, {'link': 'https://hibid.com/lot/167896438/23--enya-concert-ukulele-acousticplus-nova', 'title': '23” ENYA CONCERT UKULELE ACOUSTICPLUS NOVA', 'lot_number': '2009', 'number_of_bids': 6, 'currency': 'CAD', 'max_bid': 17.0}, {'link': 'https://hibid.com/lot/167896439/lavish-home-80-endtbl-18-end-tables', 'title': 'LAVISH HOME 80-ENDTBL-18 END TABLES', 'lot_number': '2010', 'number_of_bids': 11, 'currency': 'CAD', 'max_bid': 14.0}, {'link': 'https://hibid.com/lot/167896440/final-sale--missing-pieces---onix-pickleball', 'title': 'FINAL SALE, MISSING PIECES - ONIX PICKLEBALL', 'lot_number': '2011', 'number_of_bids': 6, 'currency': 'CAD', 'max_bid': 11.0}, {'link': 'https://hibid.com/lot/167896441/3l---3-2-qt-frigidaire-digital-control-air-fryer', 'title': '3L / 3.2-QT FRIGIDAIRE DIGITAL CONTROL AIR FRYER', 'lot_number': '2012', 'number_of_bids': 29, 'currency': 'CAD', 'max_bid': 37.5}, {'link': 'https://hibid.com/lot/167896442/nespresso-vertuo-next-coffee-and-espresso-machine', 'title': 'NESPRESSO VERTUO NEXT COFFEE AND ESPRESSO MACHINE', 'lot_number': '2013', 'number_of_bids': 20, 'currency': 'CAD', 'max_bid': 19.0}, {'link': 'https://hibid.com/lot/167896443/600-02092-premium-brake-rotors', 'title': '600-02092 PREMIUM BRAKE ROTORS', 'lot_number': '2014', 'number_of_bids': 6, 'currency': 'CAD', 'max_bid': 5.0}, {'link': 'https://hibid.com/lot/167896444/conair-ultimate-garment-steamer', 'title': 'CONAIR ULTIMATE GARMENT STEAMER', 'lot_number': '2015', 'number_of_bids': 4, 'currency': 'CAD', 'max_bid': 4.0}, {'link': 'https://hibid.com/lot/167896445/6l-large-air-fryer', 'title': '6L LARGE AIR FRYER', 'lot_number': '2016', 'number_of_bids': 19, 'currency': 'CAD', 'max_bid': 35.0}, {'link': 'https://hibid.com/lot/168048691/20-inch-black-series-rough-country-dual-row-led', 'title': '20 INCH BLACK SERIES ROUGH COUNTRY DUAL ROW LED', 'lot_number': '2017', 'number_of_bids': 11, 'currency': 'CAD', 'max_bid': 13.0}, {'link': 'https://hibid.com/lot/168048692/30-lbs-rubber-hex-dumbbell-in-rack-g', 'title': '30 LBS RUBBER HEX DUMBBELL-IN RACK G', 'lot_number': '2018', 'number_of_bids': 15, 'currency': 'CAD', 'max_bid': 15.0}, {'link': 'https://hibid.com/lot/168048693/46-inches-grandmei-chair-umbrella', 'title': '46 INCHES GRANDMEI CHAIR UMBRELLA', 'lot_number': '2019', 'number_of_bids': 6, 'currency': 'CAD', 'max_bid': 7.0}, {'link': 'https://hibid.com/lot/168048694/44-inches-powell-dining-table-base-only', 'title': '44 INCHES POWELL DINING TABLE BASE ONLY', 'lot_number': '2020', 'number_of_bids': 1, 'currency': 'CAD', 'max_bid': 1.0}, {'link': 'https://hibid.com/lot/168048695/dirt-devil-endura-light-compact-upright-vacuum', 'title': 'DIRT DEVIL ENDURA LIGHT COMPACT UPRIGHT VACUUM', 'lot_number': '2021', 'number_of_bids': 23, 'currency': 'CAD', 'max_bid': 35.0}, {'link': 'https://hibid.com/lot/168048696/ecozy-portable-ice-maker', 'title': 'ECOZY PORTABLE ICE MAKER', 'lot_number': '2022', 'number_of_bids': 11, 'currency': 'CAD', 'max_bid': 37.5}, {'link': 'https://hibid.com/lot/168048697/6-pcs-cook-n-home-cookware-set', 'title': '6 PCS COOK N HOME COOKWARE SET', 'lot_number': '2023', 'number_of_bids': 17, 'currency': 'CAD', 'max_bid': 18.0}, {'link': 'https://hibid.com/lot/168048698/30-lbs-rubber-hex-dumbbell-in-rack-g', 'title': '30 LBS RUBBER HEX DUMBBELL-IN RACK G', 'lot_number': '2024', 'number_of_bids': 16, 'currency': 'CAD', 'max_bid': 16.0}, {'link': 'https://hibid.com/lot/168048699/yardforce-brushless-pressure-washer', 'title': 'YARDFORCE BRUSHLESS PRESSURE WASHER', 'lot_number': '2025', 'number_of_bids': 28, 'currency': 'CAD', 'max_bid': 60.0}]\n"
     ]
    },
    {
     "name": "stderr",
     "output_type": "stream",
     "text": [
      "C:\\Users\\shiva\\AppData\\Local\\Temp\\ipykernel_2096\\2574675377.py:3: DeprecationWarning: Firefox will soon stop logging to geckodriver.log by default; Specify desired logs with log_output\n",
      "  service = Service(executable_path=\"geckodriver/geckodriver.exe\")\n"
     ]
    },
    {
     "name": "stdout",
     "output_type": "stream",
     "text": [
      "Number of detailed auctions: 27\n",
      "Number of condensed auctions: 30\n",
      "Total number of auctions: 57\n"
     ]
    },
    {
     "name": "stderr",
     "output_type": "stream",
     "text": [
      "C:\\Users\\shiva\\AppData\\Local\\Temp\\ipykernel_2096\\2574675377.py:3: DeprecationWarning: Firefox will soon stop logging to geckodriver.log by default; Specify desired logs with log_output\n",
      "  service = Service(executable_path=\"geckodriver/geckodriver.exe\")\n"
     ]
    },
    {
     "name": "stdout",
     "output_type": "stream",
     "text": [
      "Number of detailed auctions: 28\n",
      "Number of condensed auctions: 29\n",
      "Total number of auctions: 57\n"
     ]
    },
    {
     "name": "stderr",
     "output_type": "stream",
     "text": [
      "C:\\Users\\shiva\\AppData\\Local\\Temp\\ipykernel_2096\\2574675377.py:3: DeprecationWarning: Firefox will soon stop logging to geckodriver.log by default; Specify desired logs with log_output\n",
      "  service = Service(executable_path=\"geckodriver/geckodriver.exe\")\n"
     ]
    },
    {
     "name": "stdout",
     "output_type": "stream",
     "text": [
      "Number of detailed auctions: 29\n",
      "Number of condensed auctions: 29\n",
      "Total number of auctions: 58\n"
     ]
    },
    {
     "name": "stderr",
     "output_type": "stream",
     "text": [
      "C:\\Users\\shiva\\AppData\\Local\\Temp\\ipykernel_2096\\2574675377.py:3: DeprecationWarning: Firefox will soon stop logging to geckodriver.log by default; Specify desired logs with log_output\n",
      "  service = Service(executable_path=\"geckodriver/geckodriver.exe\")\n"
     ]
    },
    {
     "name": "stdout",
     "output_type": "stream",
     "text": [
      "Number of detailed auctions: 32\n",
      "Number of condensed auctions: 31\n",
      "Total number of auctions: 63\n"
     ]
    },
    {
     "name": "stderr",
     "output_type": "stream",
     "text": [
      "C:\\Users\\shiva\\AppData\\Local\\Temp\\ipykernel_2096\\2574675377.py:3: DeprecationWarning: Firefox will soon stop logging to geckodriver.log by default; Specify desired logs with log_output\n",
      "  service = Service(executable_path=\"geckodriver/geckodriver.exe\")\n"
     ]
    },
    {
     "name": "stdout",
     "output_type": "stream",
     "text": [
      "Number of detailed auctions: 36\n",
      "Number of condensed auctions: 29\n",
      "Total number of auctions: 65\n"
     ]
    },
    {
     "name": "stderr",
     "output_type": "stream",
     "text": [
      "C:\\Users\\shiva\\AppData\\Local\\Temp\\ipykernel_2096\\2574675377.py:3: DeprecationWarning: Firefox will soon stop logging to geckodriver.log by default; Specify desired logs with log_output\n",
      "  service = Service(executable_path=\"geckodriver/geckodriver.exe\")\n"
     ]
    },
    {
     "name": "stdout",
     "output_type": "stream",
     "text": [
      "Number of detailed auctions: 46\n",
      "Number of condensed auctions: 26\n",
      "Total number of auctions: 72\n"
     ]
    },
    {
     "name": "stderr",
     "output_type": "stream",
     "text": [
      "C:\\Users\\shiva\\AppData\\Local\\Temp\\ipykernel_2096\\2574675377.py:3: DeprecationWarning: Firefox will soon stop logging to geckodriver.log by default; Specify desired logs with log_output\n",
      "  service = Service(executable_path=\"geckodriver/geckodriver.exe\")\n"
     ]
    },
    {
     "name": "stdout",
     "output_type": "stream",
     "text": [
      "Number of detailed auctions: 43\n",
      "Number of condensed auctions: 30\n",
      "Error extracting data for one of the auctions: Message: The element with the reference 2543f740-417c-49fd-93db-6741aab9fee8 is stale; either its node document is not the active document, or it is no longer connected to the DOM; For documentation on this error, please visit: https://www.selenium.dev/documentation/webdriver/troubleshooting/errors#stale-element-reference-exception\n",
      "Stacktrace:\n",
      "RemoteError@chrome://remote/content/shared/RemoteError.sys.mjs:8:8\n",
      "WebDriverError@chrome://remote/content/shared/webdriver/Errors.sys.mjs:188:5\n",
      "StaleElementReferenceError@chrome://remote/content/shared/webdriver/Errors.sys.mjs:660:5\n",
      "getKnownElement@chrome://remote/content/marionette/json.sys.mjs:286:11\n",
      "deserializeJSON@chrome://remote/content/marionette/json.sys.mjs:233:20\n",
      "cloneObject@chrome://remote/content/marionette/json.sys.mjs:54:24\n",
      "deserializeJSON@chrome://remote/content/marionette/json.sys.mjs:240:16\n",
      "cloneObject@chrome://remote/content/marionette/json.sys.mjs:54:24\n",
      "deserializeJSON@chrome://remote/content/marionette/json.sys.mjs:240:16\n",
      "json.deserialize@chrome://remote/content/marionette/json.sys.mjs:244:10\n",
      "receiveMessage@chrome://remote/content/marionette/actors/MarionetteCommandsChild.sys.mjs:72:30\n",
      "\n",
      "Total number of auctions: 73\n",
      "Error updating the DataFrame: 'link'\n",
      "{}\n",
      "[{'link': 'https://hibid.com/lot/168248898/3-seater-air-leather-recliner-sofa--black', 'title': '3 SEATER AIR LEATHER RECLINER SOFA, BLACK', 'lot_number': '1802a', 'number_of_bids': 63, 'currency': 'CAD', 'max_bid': 310.0}, {'link': 'https://hibid.com/lot/168048678/12-cup--braun-coffee-maker', 'title': '12 CUP, BRAUN COFFEE MAKER', 'lot_number': '1919', 'number_of_bids': 20, 'currency': 'CAD', 'max_bid': 25.0}, {'link': 'https://hibid.com/lot/167896401/proctor-silex-34300r-proctor-silex-buffet', 'title': 'PROCTOR SILEX 34300R PROCTOR SILEX BUFFET', 'lot_number': '1972', 'number_of_bids': 16, 'currency': 'CAD', 'max_bid': 19.0}, {'link': 'https://hibid.com/lot/168048698/30-lbs-rubber-hex-dumbbell-in-rack-g', 'title': '30 LBS RUBBER HEX DUMBBELL-IN RACK G', 'lot_number': '2024', 'number_of_bids': 22, 'currency': 'CAD', 'max_bid': 22.0}, {'link': 'https://hibid.com/lot/168048699/yardforce-brushless-pressure-washer', 'title': 'YARDFORCE BRUSHLESS PRESSURE WASHER', 'lot_number': '2025', 'number_of_bids': 40, 'currency': 'CAD', 'max_bid': 92.5}, {'link': 'https://hibid.com/lot/168048704/30-lbs-rubber-hex-dumbbell-in-rack-g', 'title': '30 LBS RUBBER HEX DUMBBELL-IN RACK G', 'lot_number': '2030', 'number_of_bids': 15, 'currency': 'CAD', 'max_bid': 23.0}, {'link': 'https://hibid.com/lot/168048705/3-ton-hydraulic-service-jack', 'title': '3 TON HYDRAULIC SERVICE JACK', 'lot_number': '2031', 'number_of_bids': 43, 'currency': 'CAD', 'max_bid': 80.0}, {'link': 'https://hibid.com/lot/168048708/65-lbs-hex-dumbbell', 'title': '65 LBS HEX DUMBBELL', 'lot_number': '2034', 'number_of_bids': 16, 'currency': 'CAD', 'max_bid': 19.0}, {'link': 'https://hibid.com/lot/168048709/4000-pcs-bostitch-21-degree-round-head-nails', 'title': '4000 PCS BOSTITCH 21 DEGREE ROUND HEAD NAILS', 'lot_number': '2035', 'number_of_bids': 19, 'currency': 'CAD', 'max_bid': 37.5}, {'link': 'https://hibid.com/lot/168048714/76-x-80-inches-dreamcloud-premier-hybrid-bed', 'title': '76 X 80 INCHES DREAMCLOUD PREMIER HYBRID BED', 'lot_number': '2040', 'number_of_bids': 39, 'currency': 'CAD', 'max_bid': 200.0}, {'link': 'https://hibid.com/lot/168048718/greenworks-hedgre-trimmer-tool-only', 'title': 'GREENWORKS HEDGRE TRIMMER TOOL ONLY', 'lot_number': '2044', 'number_of_bids': 12, 'currency': 'CAD', 'max_bid': 21.0}, {'link': 'https://hibid.com/lot/168048719/king-size-9-inch-zinus-metal-boxspring-bed', 'title': 'KING SIZE 9 INCH ZINUS METAL BOXSPRING BED', 'lot_number': '2045', 'number_of_bids': 29, 'currency': 'CAD', 'max_bid': 50.0}, {'link': 'https://hibid.com/lot/168048725/6000-btu-frigidaire-window-type-room-air', 'title': '6000 BTU FRIGIDAIRE WINDOW TYPE ROOM AIR', 'lot_number': '2051', 'number_of_bids': 9, 'currency': 'CAD', 'max_bid': 32.5}, {'link': 'https://hibid.com/lot/168048730/34-liters-koolatron-kool-kaddy-cooler-warmer', 'title': '34 LITERS KOOLATRON KOOL KADDY COOLER/WARMER', 'lot_number': '2056', 'number_of_bids': 17, 'currency': 'CAD', 'max_bid': 23.0}, {'link': 'https://hibid.com/lot/168048732/queen-size-22-inch-dura-beeam-deluxe-high-rise', 'title': 'QUEEN SIZE 22 INCH DURA BEEAM DELUXE HIGH RISE', 'lot_number': '2058', 'number_of_bids': 12, 'currency': 'CAD', 'max_bid': 11.0}, {'link': 'https://hibid.com/lot/167896453/reese-pro-series-weld-on-square-tube-jack', 'title': 'REESE PRO SERIES WELD ON SQUARE TUBE JACK', 'lot_number': '2068', 'number_of_bids': 27, 'currency': 'CAD', 'max_bid': 80.0}, {'link': 'https://hibid.com/lot/167896454/-sealed--14000-btu-midea-inverter-portable-air', 'title': '(SEALED) 14000 BTU MIDEA INVERTER PORTABLE AIR', 'lot_number': '2069', 'number_of_bids': 32, 'currency': 'CAD', 'max_bid': 65.0}, {'link': 'https://hibid.com/lot/167896457/final-sale-sign-of-usage-14000-btu-midea-inverter', 'title': 'FINAL SALE SIGN OF USAGE 14000 BTU MIDEA INVERTER', 'lot_number': '2072', 'number_of_bids': 7, 'currency': 'CAD', 'max_bid': 7.0}, {'link': 'https://hibid.com/lot/167896458/18-inches-sun-joe-cordless-hedge-trimmer', 'title': '18 INCHES SUN JOE CORDLESS HEDGE TRIMMER', 'lot_number': '2073', 'number_of_bids': 16, 'currency': 'CAD', 'max_bid': 26.0}, {'link': 'https://hibid.com/lot/167896459/final-sale-replacement-parts-trampoline-metal', 'title': 'FINAL SALE REPLACEMENT PARTS TRAMPOLINE METAL', 'lot_number': '2074', 'number_of_bids': 2, 'currency': 'CAD', 'max_bid': 2.0}, {'link': 'https://hibid.com/lot/167896460/-sealed--full-12-inches-zinus-green-tea-memory', 'title': '(SEALED) FULL 12 INCHES ZINUS GREEN TEA MEMORY', 'lot_number': '2075', 'number_of_bids': 40, 'currency': 'CAD', 'max_bid': 120.0}, {'link': 'https://hibid.com/lot/167896461/boulder-baminton-pickle-ball-net-adjustable', 'title': 'BOULDER BAMINTON PICKLE BALL NET ADJUSTABLE', 'lot_number': '2076', 'number_of_bids': 18, 'currency': 'CAD', 'max_bid': 30.0}, {'link': 'https://hibid.com/lot/167896463/-sealed--greenworks-cold-water-electric-pressure', 'title': '(SEALED) GREENWORKS COLD WATER ELECTRIC PRESSURE', 'lot_number': '2078', 'number_of_bids': 27, 'currency': 'CAD', 'max_bid': 140.0}, {'link': 'https://hibid.com/lot/167896464/5-gallon-sulten-step-trash-can-stainless-steel', 'title': '5 GALLON SULTEN STEP TRASH CAN STAINLESS STEEL', 'lot_number': '2079', 'number_of_bids': 23, 'currency': 'CAD', 'max_bid': 35.0}, {'link': 'https://hibid.com/lot/167896469/bissell-spot-cleaner--professional', 'title': 'BISSELL SPOT CLEANER PROFESSIONAL', 'lot_number': '2084', 'number_of_bids': 19, 'currency': 'CAD', 'max_bid': 47.5}, {'link': 'https://hibid.com/lot/167896470/ingenuity-comfort-2-go-portable-swing', 'title': 'INGENUITY COMFORT 2 GO PORTABLE SWING', 'lot_number': '2085', 'number_of_bids': 8, 'currency': 'CAD', 'max_bid': 8.0}, {'link': 'https://hibid.com/lot/167896471/fisher-price-deluxe-kick-and-play-piano-gym', 'title': 'FISHER PRICE DELUXE KICK AND PLAY PIANO GYM', 'lot_number': '2086', 'number_of_bids': 14, 'currency': 'CAD', 'max_bid': 16.0}, {'link': 'https://hibid.com/lot/167896474/11-7-inches-frigidaire-freestanding-icemaker', 'title': '11.7 INCHES FRIGIDAIRE FREESTANDING ICEMAKER', 'lot_number': '2089', 'number_of_bids': 22, 'currency': 'CAD', 'max_bid': 42.5}, {'link': 'https://hibid.com/lot/167896475/keurig-k-cafe-single-serve-latte-and-cappuccino', 'title': 'KEURIG K CAFE SINGLE SERVE LATTE AND CAPPUCCINO', 'lot_number': '2090', 'number_of_bids': 13, 'currency': 'CAD', 'max_bid': 32.5}, {'link': 'https://hibid.com/lot/167896476/weston-cuber-tn-60-6-aluminum', 'title': 'WESTON CUBER TN-60 6 ALUMINUM', 'lot_number': '2091', 'number_of_bids': 4, 'currency': 'CAD', 'max_bid': 9.0}, {'link': 'https://hibid.com/lot/167896478/2-pieces-queen-dr-pillow', 'title': '2 PIECES QUEEN DR PILLOW', 'lot_number': '2093', 'number_of_bids': 18, 'currency': 'CAD', 'max_bid': 21.0}, {'link': 'https://hibid.com/lot/167896479/full-mattress-topper', 'title': 'FULL MATTRESS TOPPER', 'lot_number': '2094', 'number_of_bids': 12, 'currency': 'CAD', 'max_bid': 14.0}, {'link': 'https://hibid.com/lot/167896480/keurig-k-slim-single-serve-coffee-maker', 'title': 'KEURIG K SLIM SINGLE SERVE COFFEE MAKER', 'lot_number': '2095', 'number_of_bids': 19, 'currency': 'CAD', 'max_bid': 26.0}, {'link': 'https://hibid.com/lot/167896481/paw-patrol-lookout-tower-playset', 'title': 'PAW PATROL LOOKOUT TOWER PLAYSET', 'lot_number': '2096', 'number_of_bids': 14, 'currency': 'CAD', 'max_bid': 17.0}, {'link': 'https://hibid.com/lot/167896482/kan-jam-disc-toss-target-game', 'title': 'KAN JAM DISC TOSS TARGET GAME', 'lot_number': '2097', 'number_of_bids': 13, 'currency': 'CAD', 'max_bid': 13.0}, {'link': 'https://hibid.com/lot/167896483/2-pieces-beckham-gel-sleeping-pillow', 'title': '2 PIECES BECKHAM GEL SLEEPING PILLOW', 'lot_number': '2098', 'number_of_bids': 18, 'currency': 'CAD', 'max_bid': 18.0}, {'link': 'https://hibid.com/lot/167896484/52-count-size-large-for-women-tena-ultimate', 'title': '52 COUNT SIZE LARGE FOR WOMEN TENA ULTIMATE', 'lot_number': '2099', 'number_of_bids': 11, 'currency': 'CAD', 'max_bid': 18.0}, {'link': 'https://hibid.com/lot/167896485/100-pieces-amazon-basics-pet-training-pads', 'title': '100 PIECES AMAZON BASICS PET TRAINING PADS', 'lot_number': '2100', 'number_of_bids': 6, 'currency': 'CAD', 'max_bid': 9.0}, {'link': 'https://hibid.com/lot/167896486/summer-2-in-1-bouncer-and-rocker-duo', 'title': 'SUMMER 2 IN 1 BOUNCER AND ROCKER DUO', 'lot_number': '2101', 'number_of_bids': 12, 'currency': 'CAD', 'max_bid': 15.0}, {'link': 'https://hibid.com/lot/167896487/nice-c-patio-dining-chair-foldable', 'title': 'NICE C PATIO DINING CHAIR FOLDABLE', 'lot_number': '2102', 'number_of_bids': 10, 'currency': 'CAD', 'max_bid': 10.0}, {'link': 'https://hibid.com/lot/167896488/-sealed--echelon-ex5-smart-connect-fitness-bike', 'title': '(SEALED) ECHELON EX5 SMART CONNECT FITNESS BIKE', 'lot_number': '2103', 'number_of_bids': 34, 'currency': 'CAD', 'max_bid': 250.0}, {'link': 'https://hibid.com/lot/167896489/electric-height-adjustable-standing-desk', 'title': 'ELECTRIC HEIGHT ADJUSTABLE STANDING DESK', 'lot_number': '2104', 'number_of_bids': 24, 'currency': 'CAD', 'max_bid': 100.0}, {'link': 'https://hibid.com/lot/167896490/-sealed--home-source-charcoal-corner-cabinet', 'title': '(SEALED) HOME SOURCE CHARCOAL CORNER CABINET', 'lot_number': '2105', 'number_of_bids': 8, 'currency': 'CAD', 'max_bid': 45.0}, {'link': 'https://hibid.com/lot/167896491/final-sale-missing-parts-queen-size-hahrir-m', 'title': 'FINAL SALE MISSING PARTS QUEEN SIZE HAHRIR M', 'lot_number': '2106', 'number_of_bids': 0, 'currency': 'CAD', 'max_bid': 0.0}, {'link': 'https://hibid.com/lot/167896492/6-cubic-feet-x-large-ctt-dryer', 'title': '6 CUBIC FEET X LARGE CTT DRYER', 'lot_number': '2107', 'number_of_bids': 6, 'currency': 'CAD', 'max_bid': 140.0}, {'link': 'https://hibid.com/lot/167896493/snode-motorized-magnetic-elliptical-machine', 'title': 'SNODE MOTORIZED MAGNETIC ELLIPTICAL MACHINE', 'lot_number': '2108', 'number_of_bids': 11, 'currency': 'CAD', 'max_bid': 21.0}, {'link': 'https://hibid.com/lot/167896494/king-10-inches-hoxufry-hybrid-mattress', 'title': 'KING 10 INCHES HOXUFRY HYBRID MATTRESS', 'lot_number': '2109', 'number_of_bids': 11, 'currency': 'CAD', 'max_bid': 160.0}, {'link': 'https://hibid.com/lot/167896495/54-inches-midwest-giant-rop-pin-double-door-dog', 'title': '54 INCHES MIDWEST GIANT ROP PIN DOUBLE DOOR DOG', 'lot_number': '2110', 'number_of_bids': 5, 'currency': 'CAD', 'max_bid': 110.0}, {}, {'link': 'https://hibid.com/lot/167896497/diono-solana-single-backless-booster-car-seat', 'title': 'DIONO SOLANA SINGLE BACKLESS BOOSTER CAR SEAT', 'lot_number': '2112', 'number_of_bids': 5, 'currency': 'CAD', 'max_bid': 7.0}, {'link': 'https://hibid.com/lot/167896498/safety-1st-extra-car-seat-base', 'title': 'SAFETY 1ST EXTRA CAR SEAT BASE', 'lot_number': '2113', 'number_of_bids': 1, 'currency': 'CAD', 'max_bid': 1.0}, {'link': 'https://hibid.com/lot/167896499/cosco-topside-booster-seat', 'title': 'COSCO TOPSIDE BOOSTER SEAT', 'lot_number': '2114', 'number_of_bids': 3, 'currency': 'CAD', 'max_bid': 3.0}, {'link': 'https://hibid.com/lot/167896500/classic-accessories-over-drive-trailer-cover', 'title': 'CLASSIC ACCESSORIES OVER DRIVE TRAILER COVER', 'lot_number': '2115', 'number_of_bids': 10, 'currency': 'CAD', 'max_bid': 12.0}, {'link': 'https://hibid.com/lot/167896501/2-pairs-car-pats-replacement-parts', 'title': '2 PAIRS CAR PATS REPLACEMENT PARTS', 'lot_number': '2116', 'number_of_bids': 1, 'currency': 'CAD', 'max_bid': 1.0}, {'link': 'https://hibid.com/lot/167896502/storex-plastic-drawer-file-cabinet', 'title': 'STOREX PLASTIC DRAWER FILE CABINET', 'lot_number': '2117', 'number_of_bids': 9, 'currency': 'CAD', 'max_bid': 8.0}, {'link': 'https://hibid.com/lot/167896503/final-sale-sign-of-usage-10-liter-step-trash-can', 'title': 'FINAL SALE SIGN OF USAGE 10 LITER STEP TRASH CAN', 'lot_number': '2118', 'number_of_bids': 6, 'currency': 'CAD', 'max_bid': 6.0}, {'link': 'https://hibid.com/lot/167896504/positive-plus-brake-pads-and-rotors', 'title': 'POSITIVE PLUS BRAKE PADS AND ROTORS', 'lot_number': '2119', 'number_of_bids': 13, 'currency': 'CAD', 'max_bid': 13.0}, {'link': 'https://hibid.com/lot/167896505/20-inches-anyzip-carry-on-luggage', 'title': '20 INCHES ANYZIP CARRY ON LUGGAGE', 'lot_number': '2120', 'number_of_bids': 22, 'currency': 'CAD', 'max_bid': 45.0}, {'link': 'https://hibid.com/lot/167896506/amazon-basics-speed-air-circulator', 'title': 'AMAZON BASICS SPEED AIR CIRCULATOR', 'lot_number': '2121', 'number_of_bids': 6, 'currency': 'CAD', 'max_bid': 7.0}, {'link': 'https://hibid.com/lot/167896507/stainless-steel-classic-coffee-percolator', 'title': 'STAINLESS STEEL CLASSIC COFFEE PERCOLATOR', 'lot_number': '2122', 'number_of_bids': 2, 'currency': 'CAD', 'max_bid': 2.0}, {'link': 'https://hibid.com/lot/167896508/vevor-commercial-soup-warmer', 'title': 'VEVOR COMMERCIAL SOUP WARMER', 'lot_number': '2123', 'number_of_bids': 24, 'currency': 'CAD', 'max_bid': 29.0}, {'link': 'https://hibid.com/lot/167896509/6-liter-simpl-human-step-trash-can', 'title': '6 LITER SIMPL HUMAN STEP TRASH CAN', 'lot_number': '2124', 'number_of_bids': 5, 'currency': 'CAD', 'max_bid': 5.0}, {'link': 'https://hibid.com/lot/167896510/chefman-anti-overflow-waffle-maker', 'title': 'CHEFMAN ANTI OVERFLOW WAFFLE MAKER', 'lot_number': '2125', 'number_of_bids': 9, 'currency': 'CAD', 'max_bid': 9.0}, {'link': 'https://hibid.com/lot/167896511/5-shelf-57-7-inches-furinno-plastic-corner', 'title': '5 SHELF 57.7 INCHES FURINNO PLASTIC CORNER', 'lot_number': '2126', 'number_of_bids': 16, 'currency': 'CAD', 'max_bid': 20.0}, {'link': 'https://hibid.com/lot/167896512/15-feet-camco-rhino-sewer-hose', 'title': '15 FEET CAMCO RHINO SEWER HOSE', 'lot_number': '2127', 'number_of_bids': 12, 'currency': 'CAD', 'max_bid': 21.0}, {'link': 'https://hibid.com/lot/167896513/final-sale-sign-of-usage-3-9x5-2-feet-jurlea-area', 'title': 'FINAL SALE SIGN OF USAGE 3.9X5.2 FEET JURLEA AREA', 'lot_number': '2128', 'number_of_bids': 9, 'currency': 'CAD', 'max_bid': 9.0}, {'link': 'https://hibid.com/lot/167896514/1hp-vevor-swimming-pool-pump', 'title': '1HP VEVOR SWIMMING POOL PUMP', 'lot_number': '2129', 'number_of_bids': 8, 'currency': 'CAD', 'max_bid': 8.0}, {'link': 'https://hibid.com/lot/167896515/boserman-4-step-dog-step-foam-only', 'title': 'BOSERMAN 4 STEP DOG STEP FOAM ONLY', 'lot_number': '2130', 'number_of_bids': 10, 'currency': 'CAD', 'max_bid': 11.0}, {'link': 'https://hibid.com/lot/167896516/4-pieces-sofa-cover-set-with-topper', 'title': '4 PIECES SOFA COVER SET WITH TOPPER', 'lot_number': '2131', 'number_of_bids': 2, 'currency': 'CAD', 'max_bid': 3.0}, {'link': 'https://hibid.com/lot/167896517/5-shelf-bush-business-furniture-cabinet', 'title': '5 SHELF BUSH BUSINESS FURNITURE CABINET', 'lot_number': '2132', 'number_of_bids': 15, 'currency': 'CAD', 'max_bid': 62.5}, {'link': 'https://hibid.com/lot/167896518/final-sale-replacement-parts-twin-bunk-bed-with', 'title': 'FINAL SALE REPLACEMENT PARTS TWIN BUNK BED WITH', 'lot_number': '2133', 'number_of_bids': 1, 'currency': 'CAD', 'max_bid': 1.0}, {'link': 'https://hibid.com/lot/167896519/queen-zinus-curtis-upholstered-bed-platform', 'title': 'QUEEN ZINUS CURTIS UPHOLSTERED BED PLATFORM', 'lot_number': '2134', 'number_of_bids': 16, 'currency': 'CAD', 'max_bid': 29.0}, {'link': 'https://hibid.com/lot/167896520/-sealed--42-inches-m3936b-bmc-draper-wall-mirror', 'title': '(SEALED) 42 INCHES M3936B BMC DRAPER WALL MIRROR', 'lot_number': '2135', 'number_of_bids': 18, 'currency': 'CAD', 'max_bid': 22.0}]\n"
     ]
    },
    {
     "name": "stderr",
     "output_type": "stream",
     "text": [
      "C:\\Users\\shiva\\AppData\\Local\\Temp\\ipykernel_2096\\2574675377.py:3: DeprecationWarning: Firefox will soon stop logging to geckodriver.log by default; Specify desired logs with log_output\n",
      "  service = Service(executable_path=\"geckodriver/geckodriver.exe\")\n"
     ]
    },
    {
     "name": "stdout",
     "output_type": "stream",
     "text": [
      "Number of detailed auctions: 45\n",
      "Number of condensed auctions: 26\n",
      "Total number of auctions: 71\n"
     ]
    },
    {
     "name": "stderr",
     "output_type": "stream",
     "text": [
      "C:\\Users\\shiva\\AppData\\Local\\Temp\\ipykernel_2096\\2574675377.py:3: DeprecationWarning: Firefox will soon stop logging to geckodriver.log by default; Specify desired logs with log_output\n",
      "  service = Service(executable_path=\"geckodriver/geckodriver.exe\")\n"
     ]
    },
    {
     "name": "stdout",
     "output_type": "stream",
     "text": [
      "Number of detailed auctions: 44\n",
      "Number of condensed auctions: 28\n",
      "Total number of auctions: 72\n"
     ]
    },
    {
     "name": "stderr",
     "output_type": "stream",
     "text": [
      "C:\\Users\\shiva\\AppData\\Local\\Temp\\ipykernel_2096\\2574675377.py:3: DeprecationWarning: Firefox will soon stop logging to geckodriver.log by default; Specify desired logs with log_output\n",
      "  service = Service(executable_path=\"geckodriver/geckodriver.exe\")\n"
     ]
    },
    {
     "name": "stdout",
     "output_type": "stream",
     "text": [
      "Number of detailed auctions: 46\n",
      "Number of condensed auctions: 28\n",
      "Total number of auctions: 74\n"
     ]
    },
    {
     "name": "stderr",
     "output_type": "stream",
     "text": [
      "C:\\Users\\shiva\\AppData\\Local\\Temp\\ipykernel_2096\\2574675377.py:3: DeprecationWarning: Firefox will soon stop logging to geckodriver.log by default; Specify desired logs with log_output\n",
      "  service = Service(executable_path=\"geckodriver/geckodriver.exe\")\n"
     ]
    },
    {
     "name": "stdout",
     "output_type": "stream",
     "text": [
      "Number of detailed auctions: 51\n",
      "Number of condensed auctions: 25\n",
      "Total number of auctions: 76\n"
     ]
    },
    {
     "name": "stderr",
     "output_type": "stream",
     "text": [
      "C:\\Users\\shiva\\AppData\\Local\\Temp\\ipykernel_2096\\2574675377.py:3: DeprecationWarning: Firefox will soon stop logging to geckodriver.log by default; Specify desired logs with log_output\n",
      "  service = Service(executable_path=\"geckodriver/geckodriver.exe\")\n"
     ]
    },
    {
     "name": "stdout",
     "output_type": "stream",
     "text": [
      "Number of detailed auctions: 45\n",
      "Number of condensed auctions: 29\n",
      "Total number of auctions: 74\n"
     ]
    },
    {
     "name": "stderr",
     "output_type": "stream",
     "text": [
      "C:\\Users\\shiva\\AppData\\Local\\Temp\\ipykernel_2096\\2574675377.py:3: DeprecationWarning: Firefox will soon stop logging to geckodriver.log by default; Specify desired logs with log_output\n",
      "  service = Service(executable_path=\"geckodriver/geckodriver.exe\")\n"
     ]
    },
    {
     "name": "stdout",
     "output_type": "stream",
     "text": [
      "Number of detailed auctions: 51\n",
      "Error extracting data for one of the auctions: Message: The element with the reference d6099b77-7c1f-4599-9e9f-70dbc25f3294 is stale; either its node document is not the active document, or it is no longer connected to the DOM; For documentation on this error, please visit: https://www.selenium.dev/documentation/webdriver/troubleshooting/errors#stale-element-reference-exception\n",
      "Stacktrace:\n",
      "RemoteError@chrome://remote/content/shared/RemoteError.sys.mjs:8:8\n",
      "WebDriverError@chrome://remote/content/shared/webdriver/Errors.sys.mjs:188:5\n",
      "StaleElementReferenceError@chrome://remote/content/shared/webdriver/Errors.sys.mjs:660:5\n",
      "getKnownElement@chrome://remote/content/marionette/json.sys.mjs:286:11\n",
      "deserializeJSON@chrome://remote/content/marionette/json.sys.mjs:233:20\n",
      "cloneObject@chrome://remote/content/marionette/json.sys.mjs:54:24\n",
      "deserializeJSON@chrome://remote/content/marionette/json.sys.mjs:240:16\n",
      "cloneObject@chrome://remote/content/marionette/json.sys.mjs:54:24\n",
      "deserializeJSON@chrome://remote/content/marionette/json.sys.mjs:240:16\n",
      "json.deserialize@chrome://remote/content/marionette/json.sys.mjs:244:10\n",
      "receiveMessage@chrome://remote/content/marionette/actors/MarionetteCommandsChild.sys.mjs:72:30\n",
      "\n",
      "Number of condensed auctions: 25\n",
      "Total number of auctions: 76\n",
      "Error updating the DataFrame: 'max_bid'\n",
      "{'link': 'https://hibid.com/lot/167896574/ecozy-portable-ice-maker-countertop'}\n",
      "[{'link': 'https://hibid.com/lot/168248898/3-seater-air-leather-recliner-sofa--black', 'title': '3 SEATER AIR LEATHER RECLINER SOFA, BLACK', 'lot_number': '1802a', 'number_of_bids': 68, 'currency': 'CAD', 'max_bid': 360.0}, {'link': 'https://hibid.com/lot/168048678/12-cup--braun-coffee-maker', 'title': '12 CUP, BRAUN COFFEE MAKER', 'lot_number': '1919', 'number_of_bids': 26, 'currency': 'CAD', 'max_bid': 40.0}, {'link': 'https://hibid.com/lot/168048699/yardforce-brushless-pressure-washer', 'title': 'YARDFORCE BRUSHLESS PRESSURE WASHER', 'lot_number': '2025', 'number_of_bids': 44, 'currency': 'CAD', 'max_bid': 110.0}, {'link': 'https://hibid.com/lot/168048708/65-lbs-hex-dumbbell', 'title': '65 LBS HEX DUMBBELL', 'lot_number': '2034', 'number_of_bids': 28, 'currency': 'CAD', 'max_bid': 55.0}, {'link': 'https://hibid.com/lot/168048732/queen-size-22-inch-dura-beeam-deluxe-high-rise', 'title': 'QUEEN SIZE 22 INCH DURA BEEAM DELUXE HIGH RISE', 'lot_number': '2058', 'number_of_bids': 20, 'currency': 'CAD', 'max_bid': 18.0}, {'link': 'https://hibid.com/lot/167896454/-sealed--14000-btu-midea-inverter-portable-air', 'title': '(SEALED) 14000 BTU MIDEA INVERTER PORTABLE AIR', 'lot_number': '2069', 'number_of_bids': 42, 'currency': 'CAD', 'max_bid': 90.0}, {'link': 'https://hibid.com/lot/167896482/kan-jam-disc-toss-target-game', 'title': 'KAN JAM DISC TOSS TARGET GAME', 'lot_number': '2097', 'number_of_bids': 28, 'currency': 'CAD', 'max_bid': 35.0}, {'link': 'https://hibid.com/lot/167896483/2-pieces-beckham-gel-sleeping-pillow', 'title': '2 PIECES BECKHAM GEL SLEEPING PILLOW', 'lot_number': '2098', 'number_of_bids': 26, 'currency': 'CAD', 'max_bid': 26.0}, {'link': 'https://hibid.com/lot/167896503/final-sale-sign-of-usage-10-liter-step-trash-can', 'title': 'FINAL SALE SIGN OF USAGE 10 LITER STEP TRASH CAN', 'lot_number': '2118', 'number_of_bids': 17, 'currency': 'CAD', 'max_bid': 16.0}, {'link': 'https://hibid.com/lot/167896509/6-liter-simpl-human-step-trash-can', 'title': '6 LITER SIMPL HUMAN STEP TRASH CAN', 'lot_number': '2124', 'number_of_bids': 8, 'currency': 'CAD', 'max_bid': 8.0}, {'link': 'https://hibid.com/lot/167896512/15-feet-camco-rhino-sewer-hose', 'title': '15 FEET CAMCO RHINO SEWER HOSE', 'lot_number': '2127', 'number_of_bids': 17, 'currency': 'CAD', 'max_bid': 25.0}, {'link': 'https://hibid.com/lot/167896513/final-sale-sign-of-usage-3-9x5-2-feet-jurlea-area', 'title': 'FINAL SALE SIGN OF USAGE 3.9X5.2 FEET JURLEA AREA', 'lot_number': '2128', 'number_of_bids': 18, 'currency': 'CAD', 'max_bid': 20.0}, {'link': 'https://hibid.com/lot/167896514/1hp-vevor-swimming-pool-pump', 'title': '1HP VEVOR SWIMMING POOL PUMP', 'lot_number': '2129', 'number_of_bids': 22, 'currency': 'CAD', 'max_bid': 25.0}, {'link': 'https://hibid.com/lot/167896519/queen-zinus-curtis-upholstered-bed-platform', 'title': 'QUEEN ZINUS CURTIS UPHOLSTERED BED PLATFORM', 'lot_number': '2134', 'number_of_bids': 26, 'currency': 'CAD', 'max_bid': 82.5}, {'link': 'https://hibid.com/lot/167896523/queen-upholstered-platform-bed-6905-slats-and-bed', 'title': 'QUEEN UPHOLSTERED PLATFORM BED 6905 SLATS AND BED', 'lot_number': '2138', 'number_of_bids': 29, 'currency': 'CAD', 'max_bid': 82.5}, {'link': 'https://hibid.com/lot/167896528/merach-mr-e09s-magnetic-elliptical-machine', 'title': 'MERACH MR-E09S MAGNETIC ELLIPTICAL MACHINE', 'lot_number': '2143', 'number_of_bids': 29, 'currency': 'CAD', 'max_bid': 70.0}, {'link': 'https://hibid.com/lot/167896529/set-of-2-sriwatana-wall-shelves-white', 'title': 'SET OF 2 SRIWATANA WALL SHELVES WHITE', 'lot_number': '2144', 'number_of_bids': 11, 'currency': 'CAD', 'max_bid': 11.0}, {'link': 'https://hibid.com/lot/167896530/5-3-gallon-vevor-fuel-can', 'title': '5.3 GALLON VEVOR FUEL CAN', 'lot_number': '2145', 'number_of_bids': 20, 'currency': 'CAD', 'max_bid': 27.0}, {'link': 'https://hibid.com/lot/167896535/eaz-lift-adjustable-sway-control', 'title': 'EAZ LIFT ADJUSTABLE SWAY CONTROL', 'lot_number': '2150', 'number_of_bids': 17, 'currency': 'CAD', 'max_bid': 21.0}, {'link': 'https://hibid.com/lot/167896538/20-inches-hanke-carry-on-luggage', 'title': '20 INCHES HANKE CARRY ON LUGGAGE', 'lot_number': '2153', 'number_of_bids': 26, 'currency': 'CAD', 'max_bid': 42.5}, {'link': 'https://hibid.com/lot/167896540/nespresso-vertuo-coffee-and-espresso-machine', 'title': 'NESPRESSO VERTUO COFFEE AND ESPRESSO MACHINE', 'lot_number': '2155', 'number_of_bids': 11, 'currency': 'CAD', 'max_bid': 20.0}, {'link': 'https://hibid.com/lot/167896541/yaheetech-bathroom-floor-sorting-units88', 'title': 'YAHEETECH BATHROOM FLOOR SORTING UNITS88', 'lot_number': '2156', 'number_of_bids': 20, 'currency': 'CAD', 'max_bid': 27.0}, {'link': 'https://hibid.com/lot/167896543/metabo-heavy-duty-folding-sawhorse', 'title': 'METABO HEAVY DUTY FOLDING SAWHORSE', 'lot_number': '2158', 'number_of_bids': 18, 'currency': 'CAD', 'max_bid': 27.0}, {'link': 'https://hibid.com/lot/167896554/191-cm-feandrea-cat-tree-tower', 'title': '191 CM FEANDREA CAT TREE TOWER', 'lot_number': '2169', 'number_of_bids': 37, 'currency': 'CAD', 'max_bid': 67.5}, {'link': 'https://hibid.com/lot/167896557/king-12-inches-swiss-ortho-sleep-pocket-spring', 'title': 'KING 12 INCHES SWISS ORTHO SLEEP POCKET SPRING', 'lot_number': '2172', 'number_of_bids': 21, 'currency': 'CAD', 'max_bid': 140.0}, {'link': 'https://hibid.com/lot/167896558/whirlpool-whes40e-40000-grain-water-softener', 'title': 'WHIRLPOOL WHES40E 40000 GRAIN WATER SOFTENER', 'lot_number': '2173', 'number_of_bids': 40, 'currency': 'CAD', 'max_bid': 97.5}, {'link': 'https://hibid.com/lot/167896559/whirlpool-whes40e-40000-grain-water-softener', 'title': 'WHIRLPOOL WHES40E 40000 GRAIN WATER SOFTENER', 'lot_number': '2174', 'number_of_bids': 44, 'currency': 'CAD', 'max_bid': 100.0}, {'link': 'https://hibid.com/lot/167896560/59-inches-kkl-shaped-desk-with-drawer', 'title': '59 INCHES KKL SHAPED DESK WITH DRAWER', 'lot_number': '2175', 'number_of_bids': 20, 'currency': 'CAD', 'max_bid': 24.0}, {'link': 'https://hibid.com/lot/167896565/-sealed----18-inch--glacier-bay-beresford-corner', 'title': '(SEALED) - 18 INCH, GLACIER BAY BERESFORD CORNER', 'lot_number': '2180', 'number_of_bids': 11, 'currency': 'CAD', 'max_bid': 42.5}, {'link': 'https://hibid.com/lot/167896566/size-twin-dorel-metal-daybed-and-trundle', 'title': 'SIZE TWIN DOREL METAL DAYBED AND TRUNDLE', 'lot_number': '2181', 'number_of_bids': 20, 'currency': 'CAD', 'max_bid': 25.0}, {'link': 'https://hibid.com/lot/167896567/5-panel-78-in--strongbird-room-divider', 'title': '5 PANEL 78 IN. STRONGBIRD ROOM DIVIDER', 'lot_number': '2182', 'number_of_bids': 13, 'currency': 'CAD', 'max_bid': 18.0}, {'link': 'https://hibid.com/lot/167896568/urevo-under-the-desk-portable-treadmill', 'title': 'UREVO UNDER THE DESK PORTABLE TREADMILL', 'lot_number': '2183', 'number_of_bids': 11, 'currency': 'CAD', 'max_bid': 120.0}, {'link': 'https://hibid.com/lot/167896569/niceday-indoor-recumbent-exercise-bike', 'title': 'NICEDAY INDOOR RECUMBENT EXERCISE BIKE', 'lot_number': '2184', 'number_of_bids': 27, 'currency': 'CAD', 'max_bid': 57.5}, {'link': 'https://hibid.com/lot/167896570/niceday-indoor-recumbent-exercise-bike', 'title': 'NICEDAY INDOOR RECUMBENT EXERCISE BIKE', 'lot_number': '2185', 'number_of_bids': 24, 'currency': 'CAD', 'max_bid': 60.0}, {'link': 'https://hibid.com/lot/167896572/-sealed--60x51x64-cm-aivermeil-furniture-dog', 'title': '(SEALED) 60X51X64 CM AIVERMEIL FURNITURE DOG', 'lot_number': '2187', 'number_of_bids': 16, 'currency': 'CAD', 'max_bid': 45.0}, {'link': 'https://hibid.com/lot/167896573/gator-deluze-frameworks-desktop-mic-boom-stand', 'title': 'GATOR DELUZE FRAMEWORKS DESKTOP MIC BOOM STAND', 'lot_number': '2188', 'number_of_bids': 18, 'currency': 'CAD', 'max_bid': 22.0}, {'link': 'https://hibid.com/lot/167896574/ecozy-portable-ice-maker-countertop'}, {'link': 'https://hibid.com/lot/167896575/4-pieces-vevor-stainless-steel-table-stanchion', 'title': '4 PIECES VEVOR STAINLESS STEEL TABLE STANCHION', 'lot_number': '2190', 'number_of_bids': 9, 'currency': 'CAD', 'max_bid': 42.5}, {'link': 'https://hibid.com/lot/167896576/medline-durable-non-slip-bath-transfer-bench', 'title': 'MEDLINE DURABLE NON-SLIP BATH TRANSFER BENCH', 'lot_number': '2191', 'number_of_bids': 11, 'currency': 'CAD', 'max_bid': 21.0}, {'link': 'https://hibid.com/lot/167896577/-with-signs-of-usage--vevor-underhoist-stand-3-4', 'title': '(WITH SIGNS OF USAGE) VEVOR UNDERHOIST STAND 3/4', 'lot_number': '2192', 'number_of_bids': 7, 'currency': 'CAD', 'max_bid': 6.0}, {'link': 'https://hibid.com/lot/167896578/dometic-k801700-fan-motor', 'title': 'DOMETIC K801700 FAN MOTOR', 'lot_number': '2193', 'number_of_bids': 4, 'currency': 'CAD', 'max_bid': 6.0}, {'link': 'https://hibid.com/lot/167896579/59x59-inch--mloong-baby-playpen', 'title': '59X59 INCH, MLOONG BABY PLAYPEN', 'lot_number': '2194', 'number_of_bids': 10, 'currency': 'CAD', 'max_bid': 42.5}, {'link': 'https://hibid.com/lot/167896580/approximate-size---twin-mattress-pad', 'title': 'APPROXIMATE SIZE - TWIN MATTRESS PAD', 'lot_number': '2195', 'number_of_bids': 9, 'currency': 'CAD', 'max_bid': 22.0}, {'link': 'https://hibid.com/lot/167896581/25-lbs--danby-portable-countertop-ice-maker', 'title': '25 LBS. DANBY PORTABLE COUNTERTOP ICE MAKER', 'lot_number': '2196', 'number_of_bids': 24, 'currency': 'CAD', 'max_bid': 62.5}, {'link': 'https://hibid.com/lot/167896582/8-liters--portable-air-conditioners', 'title': '8-LITERS, PORTABLE AIR CONDITIONERS', 'lot_number': '2197', 'number_of_bids': 4, 'currency': 'CAD', 'max_bid': 4.0}, {'link': 'https://hibid.com/lot/167896583/melissa-and-doug-mine-to-love-deluxe-baby-care-play', 'title': 'MELISSA & DOUG MINE TO LOVE DELUXE BABY CARE PLAY', 'lot_number': '2198', 'number_of_bids': 10, 'currency': 'CAD', 'max_bid': 25.0}, {'link': 'https://hibid.com/lot/167896584/cuisinart-elemental-food-processor', 'title': 'CUISINART ELEMENTAL FOOD PROCESSOR', 'lot_number': '2199', 'number_of_bids': 10, 'currency': 'CAD', 'max_bid': 12.0}, {'link': 'https://hibid.com/lot/167896585/-with-signs-of-usage--conair-garment-upright', 'title': '(WITH SIGNS OF USAGE) CONAIR GARMENT UPRIGHT', 'lot_number': '2200', 'number_of_bids': 2, 'currency': 'CAD', 'max_bid': 2.0}, {'link': 'https://hibid.com/lot/167896586/guardian-two-button-folding-walker', 'title': 'GUARDIAN TWO-BUTTON FOLDING WALKER', 'lot_number': '2201', 'number_of_bids': 3, 'currency': 'CAD', 'max_bid': 8.0}, {'link': 'https://hibid.com/lot/167896590/queen-size--intex-elevated-dura-beam-fiber-tech', 'title': 'QUEEN SIZE, INTEX ELEVATED DURA BEAM FIBER TECH', 'lot_number': '2205', 'number_of_bids': 24, 'currency': 'CAD', 'max_bid': 35.0}, {'link': 'https://hibid.com/lot/167896591/100-cup--winco-commercial-grade-electric-rice', 'title': '100-CUP, WINCO COMMERCIAL-GRADE ELECTRIC RICE', 'lot_number': '2206', 'number_of_bids': 14, 'currency': 'CAD', 'max_bid': 22.0}, {'link': 'https://hibid.com/lot/167896589/4-packs-ithwiu-transparent-shoe-display-case', 'title': '4 PACKS ITHWIU TRANSPARENT SHOE DISPLAY CASE', 'lot_number': '2204', 'number_of_bids': 13, 'currency': 'CAD', 'max_bid': 16.0}, {'link': 'https://hibid.com/lot/167896592/dreo-inverter-window-air-conditioner', 'title': 'DREO INVERTER WINDOW AIR CONDITIONER', 'lot_number': '2207', 'number_of_bids': 7, 'currency': 'CAD', 'max_bid': 11.0}, {'link': 'https://hibid.com/lot/167896593/nordictrack-select-a-weight-adjustable-dumbbells', 'title': 'NORDICTRACK SELECT-A-WEIGHT ADJUSTABLE DUMBBELLS', 'lot_number': '2208', 'number_of_bids': 27, 'currency': 'CAD', 'max_bid': 110.0}, {'link': 'https://hibid.com/lot/167896594/homedant-5-tier-laminated-metal-shelving-unit', 'title': 'HOMEDANT 5 TIER LAMINATED METAL SHELVING UNIT', 'lot_number': '2209', 'number_of_bids': 24, 'currency': 'CAD', 'max_bid': 72.5}, {'link': 'https://hibid.com/lot/167896595/-parts-not-verified--king-size-9-inch-zinus-metal', 'title': '(PARTS NOT VERIFIED) KING SIZE 9 INCH ZINUS METAL', 'lot_number': '2210', 'number_of_bids': 10, 'currency': 'CAD', 'max_bid': 12.0}, {'link': 'https://hibid.com/lot/167896596/full-size--9-inch-zinus-metal-smart-boxspring', 'title': 'FULL SIZE, 9 INCH ZINUS METAL SMART BOXSPRING', 'lot_number': '2211', 'number_of_bids': 6, 'currency': 'CAD', 'max_bid': 42.5}, {'link': 'https://hibid.com/lot/167896597/simpson-mega-shot-gas-pressure-washer-with-axial', 'title': 'SIMPSON MEGA SHOT GAS PRESSURE WASHER WITH AXIAL', 'lot_number': '2212', 'number_of_bids': 25, 'currency': 'CAD', 'max_bid': 260.0}, {'link': 'https://hibid.com/lot/167896598/-with-signs-of-usage--bestway-st--lucia-saluspa-2', 'title': '(WITH SIGNS OF USAGE) BESTWAY ST. LUCIA SALUSPA 2', 'lot_number': '2213', 'number_of_bids': 21, 'currency': 'CAD', 'max_bid': 170.0}, {'link': 'https://hibid.com/lot/167896600/marvel-tech-360-photo-booth', 'title': 'MARVEL TECH 360 PHOTO BOOTH', 'lot_number': '2215', 'number_of_bids': 15, 'currency': 'CAD', 'max_bid': 670.0}, {'link': 'https://hibid.com/lot/167896601/12000-btu-frigidaire-window-air-conditioner', 'title': '12000 BTU FRIGIDAIRE WINDOW AIR CONDITIONER', 'lot_number': '2216', 'number_of_bids': 5, 'currency': 'CAD', 'max_bid': 120.0}, {'link': 'https://hibid.com/lot/167896602/simpson-mega-shot-gas-pressure-washer-with-axial', 'title': 'SIMPSON MEGA SHOT GAS PRESSURE WASHER WITH AXIAL', 'lot_number': '2217', 'number_of_bids': 20, 'currency': 'CAD', 'max_bid': 250.0}, {'link': 'https://hibid.com/lot/167896603/delonghi-coffee-maker', 'title': 'DELONGHI COFFEE MAKER', 'lot_number': '2218', 'number_of_bids': 13, 'currency': 'CAD', 'max_bid': 23.0}, {'link': 'https://hibid.com/lot/167896604/tuxmat---for-toyota-rav4-hybrid-2019-2024-models', 'title': 'TUXMAT - FOR TOYOTA RAV4 HYBRID 2019-2024 MODELS', 'lot_number': '2219', 'number_of_bids': 10, 'currency': 'CAD', 'max_bid': 60.0}, {'link': 'https://hibid.com/lot/167896605/azmall-3-tier-rolling-storage-cart', 'title': 'AZMALL 3-TIER ROLLING STORAGE CART', 'lot_number': '2220', 'number_of_bids': 16, 'currency': 'CAD', 'max_bid': 21.0}, {'link': 'https://hibid.com/lot/167896606/35lb-fixed-rubber-dumbbell--in-rack-g-', 'title': '35LB FIXED RUBBER DUMBBELL (IN RACK G)', 'lot_number': '2221', 'number_of_bids': 15, 'currency': 'CAD', 'max_bid': 25.0}, {'link': 'https://hibid.com/lot/167896607/35lb-fixed-rubber-dumbbell--in-rack-g-', 'title': '35LB FIXED RUBBER DUMBBELL (IN RACK G)', 'lot_number': '2222', 'number_of_bids': 15, 'currency': 'CAD', 'max_bid': 25.0}, {'link': 'https://hibid.com/lot/167896608/38-5-inch-regalo-easy-step-baby-gate', 'title': '38.5-INCH REGALO EASY STEP BABY GATE', 'lot_number': '2223', 'number_of_bids': 8, 'currency': 'CAD', 'max_bid': 11.0}, {'link': 'https://hibid.com/lot/167896609/maxliner-smartliner-second-row-floor-liners-b0568', 'title': 'MAXLINER SMARTLINER SECOND ROW FLOOR LINERS B0568', 'lot_number': '2224', 'number_of_bids': 0, 'currency': 'CAD', 'max_bid': 0.0}, {'link': 'https://hibid.com/lot/167896610/arctic-air-tower-2-0-evaporative-air-cooler', 'title': 'ARCTIC AIR TOWER 2.0 EVAPORATIVE AIR COOLER', 'lot_number': '2225', 'number_of_bids': 8, 'currency': 'CAD', 'max_bid': 9.0}, {'link': 'https://hibid.com/lot/167896611/vileda-promist-max-microfibre-spray-mop', 'title': 'VILEDA PROMIST MAX MICROFIBRE SPRAY MOP', 'lot_number': '2226', 'number_of_bids': 13, 'currency': 'CAD', 'max_bid': 13.0}, {'link': 'https://hibid.com/lot/167896612/-with-signs-of-usage--zuru-x-shot-fast-fill-epic', 'title': '(WITH SIGNS OF USAGE) ZURU X-SHOT FAST-FILL EPIC', 'lot_number': '2227', 'number_of_bids': 5, 'currency': 'CAD', 'max_bid': 6.0}, {'link': 'https://hibid.com/lot/167896613/summer-pop-n-sit-portable-booster', 'title': 'SUMMER POP N SIT PORTABLE BOOSTER', 'lot_number': '2228', 'number_of_bids': 6, 'currency': 'CAD', 'max_bid': 12.0}, {'link': 'https://hibid.com/lot/167896614/-sealed--12-cup-amazon-basics-digital-coffee', 'title': '(SEALED) 12-CUP AMAZON BASICS DIGITAL COFFEE', 'lot_number': '2229', 'number_of_bids': 8, 'currency': 'CAD', 'max_bid': 10.0}, {'link': 'https://hibid.com/lot/167896615/-sealed--baby-brezza-one-step-bottle-sterilizer', 'title': '(SEALED) BABY BREZZA ONE STEP BOTTLE STERILIZER', 'lot_number': '2230', 'number_of_bids': 18, 'currency': 'CAD', 'max_bid': 60.0}, {'link': 'https://hibid.com/lot/167896616/24-inch--new-world-folding-metal-dog-crate', 'title': '24-INCH, NEW WORLD FOLDING METAL DOG CRATE', 'lot_number': '2231', 'number_of_bids': 4, 'currency': 'CAD', 'max_bid': 7.0}]\n"
     ]
    },
    {
     "name": "stderr",
     "output_type": "stream",
     "text": [
      "C:\\Users\\shiva\\AppData\\Local\\Temp\\ipykernel_2096\\2574675377.py:3: DeprecationWarning: Firefox will soon stop logging to geckodriver.log by default; Specify desired logs with log_output\n",
      "  service = Service(executable_path=\"geckodriver/geckodriver.exe\")\n"
     ]
    },
    {
     "name": "stdout",
     "output_type": "stream",
     "text": [
      "Number of detailed auctions: 49\n",
      "Number of condensed auctions: 30\n",
      "Total number of auctions: 79\n"
     ]
    },
    {
     "name": "stderr",
     "output_type": "stream",
     "text": [
      "C:\\Users\\shiva\\AppData\\Local\\Temp\\ipykernel_2096\\2574675377.py:3: DeprecationWarning: Firefox will soon stop logging to geckodriver.log by default; Specify desired logs with log_output\n",
      "  service = Service(executable_path=\"geckodriver/geckodriver.exe\")\n"
     ]
    },
    {
     "name": "stdout",
     "output_type": "stream",
     "text": [
      "Number of detailed auctions: 48\n",
      "Number of condensed auctions: 30\n",
      "Total number of auctions: 78\n"
     ]
    },
    {
     "name": "stderr",
     "output_type": "stream",
     "text": [
      "C:\\Users\\shiva\\AppData\\Local\\Temp\\ipykernel_2096\\2574675377.py:3: DeprecationWarning: Firefox will soon stop logging to geckodriver.log by default; Specify desired logs with log_output\n",
      "  service = Service(executable_path=\"geckodriver/geckodriver.exe\")\n"
     ]
    },
    {
     "name": "stdout",
     "output_type": "stream",
     "text": [
      "Number of detailed auctions: 46\n",
      "Number of condensed auctions: 25\n",
      "Total number of auctions: 71\n"
     ]
    },
    {
     "name": "stderr",
     "output_type": "stream",
     "text": [
      "C:\\Users\\shiva\\AppData\\Local\\Temp\\ipykernel_2096\\2574675377.py:3: DeprecationWarning: Firefox will soon stop logging to geckodriver.log by default; Specify desired logs with log_output\n",
      "  service = Service(executable_path=\"geckodriver/geckodriver.exe\")\n"
     ]
    },
    {
     "name": "stdout",
     "output_type": "stream",
     "text": [
      "Number of detailed auctions: 40\n",
      "Number of condensed auctions: 29\n",
      "Total number of auctions: 69\n"
     ]
    },
    {
     "name": "stderr",
     "output_type": "stream",
     "text": [
      "C:\\Users\\shiva\\AppData\\Local\\Temp\\ipykernel_2096\\2574675377.py:3: DeprecationWarning: Firefox will soon stop logging to geckodriver.log by default; Specify desired logs with log_output\n",
      "  service = Service(executable_path=\"geckodriver/geckodriver.exe\")\n"
     ]
    },
    {
     "name": "stdout",
     "output_type": "stream",
     "text": [
      "Number of detailed auctions: 39\n",
      "Number of condensed auctions: 28\n",
      "Total number of auctions: 67\n"
     ]
    },
    {
     "name": "stderr",
     "output_type": "stream",
     "text": [
      "C:\\Users\\shiva\\AppData\\Local\\Temp\\ipykernel_2096\\2574675377.py:3: DeprecationWarning: Firefox will soon stop logging to geckodriver.log by default; Specify desired logs with log_output\n",
      "  service = Service(executable_path=\"geckodriver/geckodriver.exe\")\n"
     ]
    },
    {
     "name": "stdout",
     "output_type": "stream",
     "text": [
      "Number of detailed auctions: 37\n",
      "Number of condensed auctions: 29\n",
      "Total number of auctions: 66\n"
     ]
    },
    {
     "name": "stderr",
     "output_type": "stream",
     "text": [
      "C:\\Users\\shiva\\AppData\\Local\\Temp\\ipykernel_2096\\2574675377.py:3: DeprecationWarning: Firefox will soon stop logging to geckodriver.log by default; Specify desired logs with log_output\n",
      "  service = Service(executable_path=\"geckodriver/geckodriver.exe\")\n"
     ]
    },
    {
     "name": "stdout",
     "output_type": "stream",
     "text": [
      "Number of detailed auctions: 36\n",
      "Number of condensed auctions: 26\n",
      "Total number of auctions: 62\n"
     ]
    },
    {
     "name": "stderr",
     "output_type": "stream",
     "text": [
      "C:\\Users\\shiva\\AppData\\Local\\Temp\\ipykernel_2096\\2574675377.py:3: DeprecationWarning: Firefox will soon stop logging to geckodriver.log by default; Specify desired logs with log_output\n",
      "  service = Service(executable_path=\"geckodriver/geckodriver.exe\")\n"
     ]
    },
    {
     "name": "stdout",
     "output_type": "stream",
     "text": [
      "Number of detailed auctions: 39\n",
      "Number of condensed auctions: 27\n",
      "Total number of auctions: 66\n"
     ]
    },
    {
     "name": "stderr",
     "output_type": "stream",
     "text": [
      "C:\\Users\\shiva\\AppData\\Local\\Temp\\ipykernel_2096\\2574675377.py:3: DeprecationWarning: Firefox will soon stop logging to geckodriver.log by default; Specify desired logs with log_output\n",
      "  service = Service(executable_path=\"geckodriver/geckodriver.exe\")\n"
     ]
    },
    {
     "name": "stdout",
     "output_type": "stream",
     "text": [
      "Number of detailed auctions: 34\n",
      "Number of condensed auctions: 28\n",
      "Total number of auctions: 62\n"
     ]
    },
    {
     "name": "stderr",
     "output_type": "stream",
     "text": [
      "C:\\Users\\shiva\\AppData\\Local\\Temp\\ipykernel_2096\\2574675377.py:3: DeprecationWarning: Firefox will soon stop logging to geckodriver.log by default; Specify desired logs with log_output\n",
      "  service = Service(executable_path=\"geckodriver/geckodriver.exe\")\n"
     ]
    },
    {
     "name": "stdout",
     "output_type": "stream",
     "text": [
      "Number of detailed auctions: 36\n",
      "Number of condensed auctions: 28\n",
      "Total number of auctions: 64\n"
     ]
    },
    {
     "name": "stderr",
     "output_type": "stream",
     "text": [
      "C:\\Users\\shiva\\AppData\\Local\\Temp\\ipykernel_2096\\2574675377.py:3: DeprecationWarning: Firefox will soon stop logging to geckodriver.log by default; Specify desired logs with log_output\n",
      "  service = Service(executable_path=\"geckodriver/geckodriver.exe\")\n"
     ]
    },
    {
     "name": "stdout",
     "output_type": "stream",
     "text": [
      "Number of detailed auctions: 35\n",
      "Number of condensed auctions: 29\n",
      "Total number of auctions: 64\n"
     ]
    },
    {
     "name": "stderr",
     "output_type": "stream",
     "text": [
      "C:\\Users\\shiva\\AppData\\Local\\Temp\\ipykernel_2096\\2574675377.py:3: DeprecationWarning: Firefox will soon stop logging to geckodriver.log by default; Specify desired logs with log_output\n",
      "  service = Service(executable_path=\"geckodriver/geckodriver.exe\")\n"
     ]
    },
    {
     "name": "stdout",
     "output_type": "stream",
     "text": [
      "Number of detailed auctions: 31\n",
      "Number of condensed auctions: 29\n",
      "Total number of auctions: 60\n"
     ]
    },
    {
     "name": "stderr",
     "output_type": "stream",
     "text": [
      "C:\\Users\\shiva\\AppData\\Local\\Temp\\ipykernel_2096\\2574675377.py:3: DeprecationWarning: Firefox will soon stop logging to geckodriver.log by default; Specify desired logs with log_output\n",
      "  service = Service(executable_path=\"geckodriver/geckodriver.exe\")\n"
     ]
    },
    {
     "name": "stdout",
     "output_type": "stream",
     "text": [
      "Number of detailed auctions: 28\n",
      "Number of condensed auctions: 28\n",
      "Total number of auctions: 56\n"
     ]
    },
    {
     "name": "stderr",
     "output_type": "stream",
     "text": [
      "C:\\Users\\shiva\\AppData\\Local\\Temp\\ipykernel_2096\\2574675377.py:3: DeprecationWarning: Firefox will soon stop logging to geckodriver.log by default; Specify desired logs with log_output\n",
      "  service = Service(executable_path=\"geckodriver/geckodriver.exe\")\n"
     ]
    },
    {
     "name": "stdout",
     "output_type": "stream",
     "text": [
      "Number of detailed auctions: 33\n",
      "Number of condensed auctions: 27\n",
      "Total number of auctions: 60\n"
     ]
    },
    {
     "name": "stderr",
     "output_type": "stream",
     "text": [
      "C:\\Users\\shiva\\AppData\\Local\\Temp\\ipykernel_2096\\2574675377.py:3: DeprecationWarning: Firefox will soon stop logging to geckodriver.log by default; Specify desired logs with log_output\n",
      "  service = Service(executable_path=\"geckodriver/geckodriver.exe\")\n"
     ]
    },
    {
     "name": "stdout",
     "output_type": "stream",
     "text": [
      "Number of detailed auctions: 31\n",
      "Number of condensed auctions: 29\n",
      "Total number of auctions: 60\n"
     ]
    },
    {
     "name": "stderr",
     "output_type": "stream",
     "text": [
      "C:\\Users\\shiva\\AppData\\Local\\Temp\\ipykernel_2096\\2574675377.py:3: DeprecationWarning: Firefox will soon stop logging to geckodriver.log by default; Specify desired logs with log_output\n",
      "  service = Service(executable_path=\"geckodriver/geckodriver.exe\")\n"
     ]
    },
    {
     "name": "stdout",
     "output_type": "stream",
     "text": [
      "Number of detailed auctions: 33\n",
      "Number of condensed auctions: 29\n",
      "Total number of auctions: 62\n"
     ]
    },
    {
     "name": "stderr",
     "output_type": "stream",
     "text": [
      "C:\\Users\\shiva\\AppData\\Local\\Temp\\ipykernel_2096\\2574675377.py:3: DeprecationWarning: Firefox will soon stop logging to geckodriver.log by default; Specify desired logs with log_output\n",
      "  service = Service(executable_path=\"geckodriver/geckodriver.exe\")\n"
     ]
    },
    {
     "name": "stdout",
     "output_type": "stream",
     "text": [
      "Number of detailed auctions: 29\n",
      "Number of condensed auctions: 30\n",
      "Total number of auctions: 59\n"
     ]
    },
    {
     "name": "stderr",
     "output_type": "stream",
     "text": [
      "C:\\Users\\shiva\\AppData\\Local\\Temp\\ipykernel_2096\\2574675377.py:3: DeprecationWarning: Firefox will soon stop logging to geckodriver.log by default; Specify desired logs with log_output\n",
      "  service = Service(executable_path=\"geckodriver/geckodriver.exe\")\n"
     ]
    },
    {
     "name": "stdout",
     "output_type": "stream",
     "text": [
      "Number of detailed auctions: 26\n",
      "Number of condensed auctions: 28\n",
      "Total number of auctions: 54\n"
     ]
    },
    {
     "name": "stderr",
     "output_type": "stream",
     "text": [
      "C:\\Users\\shiva\\AppData\\Local\\Temp\\ipykernel_2096\\2574675377.py:3: DeprecationWarning: Firefox will soon stop logging to geckodriver.log by default; Specify desired logs with log_output\n",
      "  service = Service(executable_path=\"geckodriver/geckodriver.exe\")\n"
     ]
    },
    {
     "name": "stdout",
     "output_type": "stream",
     "text": [
      "Number of detailed auctions: 25\n",
      "Number of condensed auctions: 29\n",
      "Total number of auctions: 54\n"
     ]
    },
    {
     "name": "stderr",
     "output_type": "stream",
     "text": [
      "C:\\Users\\shiva\\AppData\\Local\\Temp\\ipykernel_2096\\2574675377.py:3: DeprecationWarning: Firefox will soon stop logging to geckodriver.log by default; Specify desired logs with log_output\n",
      "  service = Service(executable_path=\"geckodriver/geckodriver.exe\")\n"
     ]
    },
    {
     "name": "stdout",
     "output_type": "stream",
     "text": [
      "Number of detailed auctions: 24\n",
      "Number of condensed auctions: 28\n",
      "Error extracting data for one of the auctions: Message: The element with the reference 3c1a6c85-820d-4646-88d1-8ca83c9c19c8 is stale; either its node document is not the active document, or it is no longer connected to the DOM; For documentation on this error, please visit: https://www.selenium.dev/documentation/webdriver/troubleshooting/errors#stale-element-reference-exception\n",
      "Stacktrace:\n",
      "RemoteError@chrome://remote/content/shared/RemoteError.sys.mjs:8:8\n",
      "WebDriverError@chrome://remote/content/shared/webdriver/Errors.sys.mjs:188:5\n",
      "StaleElementReferenceError@chrome://remote/content/shared/webdriver/Errors.sys.mjs:660:5\n",
      "getKnownElement@chrome://remote/content/marionette/json.sys.mjs:286:11\n",
      "deserializeJSON@chrome://remote/content/marionette/json.sys.mjs:233:20\n",
      "cloneObject@chrome://remote/content/marionette/json.sys.mjs:54:24\n",
      "deserializeJSON@chrome://remote/content/marionette/json.sys.mjs:240:16\n",
      "cloneObject@chrome://remote/content/marionette/json.sys.mjs:54:24\n",
      "deserializeJSON@chrome://remote/content/marionette/json.sys.mjs:240:16\n",
      "json.deserialize@chrome://remote/content/marionette/json.sys.mjs:244:10\n",
      "receiveMessage@chrome://remote/content/marionette/actors/MarionetteCommandsChild.sys.mjs:72:30\n",
      "\n",
      "Total number of auctions: 52\n",
      "Error updating the DataFrame: 'link'\n",
      "{}\n",
      "[{'link': 'https://hibid.com/lot/167896669/142-inch--little-giant-ladder-systems-skyscraper', 'title': '142 INCH, LITTLE GIANT LADDER SYSTEMS SKYSCRAPER', 'lot_number': '2286', 'number_of_bids': 36, 'currency': 'CAD', 'max_bid': 310.0}, {'link': 'https://hibid.com/lot/167826243/queen-size-molblly-upholstered-tufted-bed-frame', 'title': 'QUEEN SIZE MOLBLLY UPHOLSTERED TUFTED BED FRAME', 'lot_number': '2425', 'number_of_bids': 29, 'currency': 'CAD', 'max_bid': 110.0}, {'link': 'https://hibid.com/lot/167826301/carxs-universal-car-seat-cover-set', 'title': 'CARXS UNIVERSAL CAR SEAT COVER SET', 'lot_number': '2483', 'number_of_bids': 6, 'currency': 'CAD', 'max_bid': 6.0}, {'link': 'https://hibid.com/lot/167826305/cosori-1-7l-electric-kettle', 'title': 'COSORI 1.7L ELECTRIC KETTLE', 'lot_number': '2487', 'number_of_bids': 7, 'currency': 'CAD', 'max_bid': 8.0}, {'link': 'https://hibid.com/lot/167826308/hamilton-beach-12-cup-coffee-maker', 'title': 'HAMILTON BEACH 12 CUP COFFEE MAKER', 'lot_number': '2490', 'number_of_bids': 6, 'currency': 'CAD', 'max_bid': 7.0}, {'link': 'https://hibid.com/lot/167826310/bissell-steam-shot-hard-surface-cleaner', 'title': 'BISSELL STEAM SHOT HARD SURFACE CLEANER', 'lot_number': '2492', 'number_of_bids': 10, 'currency': 'CAD', 'max_bid': 19.0}, {'link': 'https://hibid.com/lot/167826312/queen-size-down-alternative-blanket', 'title': 'QUEEN SIZE DOWN ALTERNATIVE BLANKET', 'lot_number': '2494', 'number_of_bids': 12, 'currency': 'CAD', 'max_bid': 11.0}, {'link': 'https://hibid.com/lot/167826317/gene-kelly-2m-collapsible-rack', 'title': 'GENE KELLY 2M COLLAPSIBLE RACK', 'lot_number': '2499', 'number_of_bids': 13, 'currency': 'CAD', 'max_bid': 17.0}, {'link': 'https://hibid.com/lot/167826318/gyrocopter-electric-hoverboard', 'title': 'GYROCOPTER ELECTRIC HOVERBOARD', 'lot_number': '2500', 'number_of_bids': 21, 'currency': 'CAD', 'max_bid': 40.0}, {'link': 'https://hibid.com/lot/167826326/gyrocopter-electric-hoverboard', 'title': 'GYROCOPTER ELECTRIC HOVERBOARD', 'lot_number': '2508', 'number_of_bids': 21, 'currency': 'CAD', 'max_bid': 32.5}, {'link': 'https://hibid.com/lot/167826327/-final-sale--box-2-of-2-only--dream-on-me-5-in-1', 'title': '(FINAL SALE) BOX 2 OF 2 ONLY, DREAM ON ME 5 IN 1', 'lot_number': '2509', 'number_of_bids': 5, 'currency': 'CAD', 'max_bid': 6.0}, {'link': 'https://hibid.com/lot/167826328/gotrax-eclispe-electric-scooter', 'title': 'GOTRAX ECLISPE ELECTRIC SCOOTER', 'lot_number': '2510', 'number_of_bids': 34, 'currency': 'CAD', 'max_bid': 310.0}, {'link': 'https://hibid.com/lot/167826329/kohler-elongated-toilet-base-seat-only', 'title': 'KOHLER ELONGATED TOILET BASE SEAT ONLY', 'lot_number': '2511', 'number_of_bids': 1, 'currency': 'CAD', 'max_bid': 1.0}, {'link': 'https://hibid.com/lot/167826330/joy-pebble-12-000-btu-window-air-conditioner', 'title': 'JOY PEBBLE 12,000 BTU WINDOW AIR CONDITIONER', 'lot_number': '2512', 'number_of_bids': 9, 'currency': 'CAD', 'max_bid': 140.0}, {'link': 'https://hibid.com/lot/167826331/sealed---davinci-autumn-convertible-crib', 'title': 'SEALED - DAVINCI AUTUMN CONVERTIBLE CRIB', 'lot_number': '2513', 'number_of_bids': 17, 'currency': 'CAD', 'max_bid': 140.0}, {'link': 'https://hibid.com/lot/167826332/sealed---frigidaire-6000-btu-room-air-conditioner', 'title': 'SEALED - FRIGIDAIRE 6000 BTU ROOM AIR CONDITIONER', 'lot_number': '2514', 'number_of_bids': 6, 'currency': 'CAD', 'max_bid': 67.5}, {'link': 'https://hibid.com/lot/167826333/flash-furniture-mesh-back-office-chair', 'title': 'FLASH FURNITURE MESH BACK OFFICE CHAIR', 'lot_number': '2515', 'number_of_bids': 24, 'currency': 'CAD', 'max_bid': 60.0}, {'link': 'https://hibid.com/lot/167826334/sealed---westinghouse-14-000-btu-portable-air', 'title': 'SEALED - WESTINGHOUSE 14,000 BTU PORTABLE AIR', 'lot_number': '2516', 'number_of_bids': 28, 'currency': 'CAD', 'max_bid': 200.0}, {'link': 'https://hibid.com/lot/167826335/final-sale--1-panel-broken--homedant-5-tier', 'title': 'FINAL SALE, 1 PANEL BROKEN, HOMEDANT 5 TIER', 'lot_number': '2517', 'number_of_bids': 16, 'currency': 'CAD', 'max_bid': 32.5}, {'link': 'https://hibid.com/lot/167826336/sealed---6x8-ft-mininfa-natural-rolled-bamboo', 'title': 'SEALED - 6X8 FT MININFA NATURAL ROLLED BAMBOO', 'lot_number': '2518', 'number_of_bids': 20, 'currency': 'CAD', 'max_bid': 80.0}, {'link': 'https://hibid.com/lot/167826337/sealed---6x8-ft-mininfa-natural-rolled-bamboo', 'title': 'SEALED - 6X8 FT MININFA NATURAL ROLLED BAMBOO', 'lot_number': '2519', 'number_of_bids': 12, 'currency': 'CAD', 'max_bid': 87.5}, {'link': 'https://hibid.com/lot/167826338/harritpure-65-x-22-inch-arched-full-length-mirror', 'title': 'HARRITPURE 65 X 22 INCH ARCHED FULL LENGTH MIRROR', 'lot_number': '2520', 'number_of_bids': 21, 'currency': 'CAD', 'max_bid': 110.0}, {'link': 'https://hibid.com/lot/167826341/sealed---yigahome-sideboard-buffet-storage', 'title': 'SEALED - YIGAHOME SIDEBOARD BUFFET STORAGE', 'lot_number': '2523', 'number_of_bids': 28, 'currency': 'CAD', 'max_bid': 140.0}, {'link': 'https://hibid.com/lot/167826343/sealed---6x8-ft-mininfa-natural-rolled-bamboo', 'title': 'SEALED - 6X8 FT MININFA NATURAL ROLLED BAMBOO', 'lot_number': '2525', 'number_of_bids': 10, 'currency': 'CAD', 'max_bid': 80.0}, {'link': 'https://hibid.com/lot/167826340/egofit-walker-pro-treadmill', 'title': 'EGOFIT WALKER PRO TREADMILL', 'lot_number': '2522', 'number_of_bids': 12, 'currency': 'CAD', 'max_bid': 150.0}, {'link': 'https://hibid.com/lot/167826342/mellow-queen-size-14-inch-metal-bed-frame', 'title': 'MELLOW QUEEN SIZE 14 INCH METAL BED FRAME', 'lot_number': '2524', 'number_of_bids': 13, 'currency': 'CAD', 'max_bid': 75.0}, {'link': 'https://hibid.com/lot/167826344/vacuum-sealed--queen-size-12-inch-spring-hybrid', 'title': 'VACUUM SEALED, QUEEN SIZE 12 INCH SPRING HYBRID', 'lot_number': '2526', 'number_of_bids': 9, 'currency': 'CAD', 'max_bid': 160.0}, {'link': 'https://hibid.com/lot/167896722/enlitoys-kids-artit-easel', 'title': 'ENLITOYS KIDS ARTIT EASEL', 'lot_number': '2527', 'number_of_bids': 9, 'currency': 'CAD', 'max_bid': 9.0}, {'link': 'https://hibid.com/lot/167896723/5-pcs-10-x-9-inch--picture-frame', 'title': '5 PCS 10 X 9 INCH, PICTURE FRAME', 'lot_number': '2528', 'number_of_bids': 5, 'currency': 'CAD', 'max_bid': 5.0}, {'link': 'https://hibid.com/lot/167896724/37-86-inch--usx-full-monitor-tv-wall-mount', 'title': '37-86 INCH, USX FULL MONITOR TV WALL MOUNT', 'lot_number': '2529', 'number_of_bids': 16, 'currency': 'CAD', 'max_bid': 22.0}, {}, {'link': 'https://hibid.com/lot/167896726/15-x-19-inch--iris-elevated-feeder', 'title': '15 X 19 INCH, IRIS ELEVATED FEEDER', 'lot_number': '2531', 'number_of_bids': 10, 'currency': 'CAD', 'max_bid': 17.0}, {'link': 'https://hibid.com/lot/167896727/paw-patrol-launch-n-haul-toy', 'title': 'PAW PATROL LAUNCH N HAUL TOY', 'lot_number': '2532', 'number_of_bids': 9, 'currency': 'CAD', 'max_bid': 11.0}, {'link': 'https://hibid.com/lot/167896728/35-inch--spexdarxs-croquet-set', 'title': '35 INCH, SPEXDARXS CROQUET SET', 'lot_number': '2533', 'number_of_bids': 6, 'currency': 'CAD', 'max_bid': 12.0}, {'link': 'https://hibid.com/lot/167896729/renpho-body-composition-scale', 'title': 'RENPHO BODY COMPOSITION SCALE', 'lot_number': '2534', 'number_of_bids': 4, 'currency': 'CAD', 'max_bid': 4.0}, {'link': 'https://hibid.com/lot/167896730/2-pcs-king-size--luxury-soft-pillow', 'title': '2 PCS KING SIZE, LUXURY SOFT PILLOW', 'lot_number': '2535', 'number_of_bids': 24, 'currency': 'CAD', 'max_bid': 27.0}, {'link': 'https://hibid.com/lot/167896731/solar-hanging-lamp', 'title': 'SOLAR HANGING LAMP', 'lot_number': '2536', 'number_of_bids': 6, 'currency': 'CAD', 'max_bid': 8.0}, {'link': 'https://hibid.com/lot/167896732/12-inch--led-ceiling-lamp', 'title': '12 INCH, LED CEILING LAMP', 'lot_number': '2537', 'number_of_bids': 11, 'currency': 'CAD', 'max_bid': 15.0}, {'link': 'https://hibid.com/lot/167896733/vtech-sit-to-stand-learning-walker', 'title': 'VTECH SIT TO STAND LEARNING WALKER', 'lot_number': '2538', 'number_of_bids': 7, 'currency': 'CAD', 'max_bid': 11.0}, {'link': 'https://hibid.com/lot/167896734/sealed---35-inch--sivomens-dog-bed', 'title': 'SEALED - 35 INCH, SIVOMENS DOG BED', 'lot_number': '2539', 'number_of_bids': 6, 'currency': 'CAD', 'max_bid': 20.0}, {'link': 'https://hibid.com/lot/167896735/35-inch--sivomens-dog-bed', 'title': '35 INCH, SIVOMENS DOG BED', 'lot_number': '2540', 'number_of_bids': 9, 'currency': 'CAD', 'max_bid': 21.0}, {'link': 'https://hibid.com/lot/167896736/-with-sign-of-usage--logitech-g-saitek-pro-usb', 'title': '(WITH SIGN OF USAGE) LOGITECH G SAITEK PRO USB', 'lot_number': '2541', 'number_of_bids': 16, 'currency': 'CAD', 'max_bid': 42.5}, {'link': 'https://hibid.com/lot/167896737/size-7-women--5-inch-heels-sam-edelmon-sandals', 'title': 'SIZE 7 WOMEN, 5 INCH HEELS SAM EDELMON SANDALS', 'lot_number': '2542', 'number_of_bids': 5, 'currency': 'CAD', 'max_bid': 7.0}, {'link': 'https://hibid.com/lot/167896738/medium-size--amazon-essentials-womens-fleece', 'title': 'MEDIUM SIZE, AMAZON ESSENTIALS WOMENS FLEECE', 'lot_number': '2543', 'number_of_bids': 5, 'currency': 'CAD', 'max_bid': 5.0}, {'link': 'https://hibid.com/lot/167896739/jyx-portable-speaker', 'title': 'JYX PORTABLE SPEAKER', 'lot_number': '2544', 'number_of_bids': 32, 'currency': 'CAD', 'max_bid': 47.5}, {'link': 'https://hibid.com/lot/167896740/900-ml-capacity--air-cooler-fan', 'title': '900 ML CAPACITY, AIR COOLER FAN', 'lot_number': '2545', 'number_of_bids': 4, 'currency': 'CAD', 'max_bid': 4.0}, {'link': 'https://hibid.com/lot/167896741/geekpure-reverse-osmosis-water-filtration-system', 'title': 'GEEKPURE REVERSE OSMOSIS WATER FILTRATION SYSTEM', 'lot_number': '2546', 'number_of_bids': 16, 'currency': 'CAD', 'max_bid': 37.5}, {'link': 'https://hibid.com/lot/167896742/4-pcs-18-x-18-inch--miulee-throw-pillows', 'title': '4 PCS 18 X 18 INCH, MIULEE THROW PILLOWS', 'lot_number': '2547', 'number_of_bids': 10, 'currency': 'CAD', 'max_bid': 10.0}, {'link': 'https://hibid.com/lot/167896743/5-5-l--countertop-cereal-dispenser', 'title': '5.5 L, COUNTERTOP CEREAL DISPENSER', 'lot_number': '2548', 'number_of_bids': 9, 'currency': 'CAD', 'max_bid': 9.0}, {'link': 'https://hibid.com/lot/167896744/-with-sign-of-usage--61-key-musical-keyboard', 'title': '(WITH SIGN OF USAGE) 61 KEY MUSICAL KEYBOARD', 'lot_number': '2549', 'number_of_bids': 6, 'currency': 'CAD', 'max_bid': 9.0}, {'link': 'https://hibid.com/lot/167896745/ninja-master-prep-pro-blender', 'title': 'NINJA MASTER PREP PRO BLENDER', 'lot_number': '2550', 'number_of_bids': 11, 'currency': 'CAD', 'max_bid': 12.0}, {'link': 'https://hibid.com/lot/167826345/2-pcs--clean-connect-vacuum-filter', 'title': '2 PCS, CLEAN CONNECT VACUUM FILTER', 'lot_number': '2551', 'number_of_bids': 2, 'currency': 'CAD', 'max_bid': 2.0}]\n"
     ]
    },
    {
     "name": "stderr",
     "output_type": "stream",
     "text": [
      "C:\\Users\\shiva\\AppData\\Local\\Temp\\ipykernel_2096\\2574675377.py:3: DeprecationWarning: Firefox will soon stop logging to geckodriver.log by default; Specify desired logs with log_output\n",
      "  service = Service(executable_path=\"geckodriver/geckodriver.exe\")\n"
     ]
    },
    {
     "name": "stdout",
     "output_type": "stream",
     "text": [
      "Number of detailed auctions: 25\n",
      "Number of condensed auctions: 29\n",
      "Total number of auctions: 54\n"
     ]
    },
    {
     "name": "stderr",
     "output_type": "stream",
     "text": [
      "C:\\Users\\shiva\\AppData\\Local\\Temp\\ipykernel_2096\\2574675377.py:3: DeprecationWarning: Firefox will soon stop logging to geckodriver.log by default; Specify desired logs with log_output\n",
      "  service = Service(executable_path=\"geckodriver/geckodriver.exe\")\n"
     ]
    },
    {
     "name": "stdout",
     "output_type": "stream",
     "text": [
      "Number of detailed auctions: 36\n",
      "Number of condensed auctions: 26\n",
      "Total number of auctions: 62\n"
     ]
    },
    {
     "name": "stderr",
     "output_type": "stream",
     "text": [
      "C:\\Users\\shiva\\AppData\\Local\\Temp\\ipykernel_2096\\2574675377.py:3: DeprecationWarning: Firefox will soon stop logging to geckodriver.log by default; Specify desired logs with log_output\n",
      "  service = Service(executable_path=\"geckodriver/geckodriver.exe\")\n"
     ]
    },
    {
     "name": "stdout",
     "output_type": "stream",
     "text": [
      "Number of detailed auctions: 42\n",
      "Number of condensed auctions: 49\n",
      "Total number of auctions: 91\n"
     ]
    },
    {
     "name": "stderr",
     "output_type": "stream",
     "text": [
      "C:\\Users\\shiva\\AppData\\Local\\Temp\\ipykernel_2096\\2574675377.py:3: DeprecationWarning: Firefox will soon stop logging to geckodriver.log by default; Specify desired logs with log_output\n",
      "  service = Service(executable_path=\"geckodriver/geckodriver.exe\")\n"
     ]
    },
    {
     "name": "stdout",
     "output_type": "stream",
     "text": [
      "Number of detailed auctions: 43\n",
      "Error extracting data for one of the auctions: Message: The element with the reference e7178830-6404-453d-bd86-48fcb90458e5 is stale; either its node document is not the active document, or it is no longer connected to the DOM; For documentation on this error, please visit: https://www.selenium.dev/documentation/webdriver/troubleshooting/errors#stale-element-reference-exception\n",
      "Stacktrace:\n",
      "RemoteError@chrome://remote/content/shared/RemoteError.sys.mjs:8:8\n",
      "WebDriverError@chrome://remote/content/shared/webdriver/Errors.sys.mjs:188:5\n",
      "StaleElementReferenceError@chrome://remote/content/shared/webdriver/Errors.sys.mjs:660:5\n",
      "getKnownElement@chrome://remote/content/marionette/json.sys.mjs:286:11\n",
      "deserializeJSON@chrome://remote/content/marionette/json.sys.mjs:233:20\n",
      "cloneObject@chrome://remote/content/marionette/json.sys.mjs:54:24\n",
      "deserializeJSON@chrome://remote/content/marionette/json.sys.mjs:240:16\n",
      "cloneObject@chrome://remote/content/marionette/json.sys.mjs:54:24\n",
      "deserializeJSON@chrome://remote/content/marionette/json.sys.mjs:240:16\n",
      "json.deserialize@chrome://remote/content/marionette/json.sys.mjs:244:10\n",
      "receiveMessage@chrome://remote/content/marionette/actors/MarionetteCommandsChild.sys.mjs:72:30\n",
      "\n",
      "Error extracting data for one of the auctions: Message: The element with the reference 70d9faa5-4048-4d30-9f30-b70d2003dfda is stale; either its node document is not the active document, or it is no longer connected to the DOM; For documentation on this error, please visit: https://www.selenium.dev/documentation/webdriver/troubleshooting/errors#stale-element-reference-exception\n",
      "Stacktrace:\n",
      "RemoteError@chrome://remote/content/shared/RemoteError.sys.mjs:8:8\n",
      "WebDriverError@chrome://remote/content/shared/webdriver/Errors.sys.mjs:188:5\n",
      "StaleElementReferenceError@chrome://remote/content/shared/webdriver/Errors.sys.mjs:660:5\n",
      "getKnownElement@chrome://remote/content/marionette/json.sys.mjs:286:11\n",
      "deserializeJSON@chrome://remote/content/marionette/json.sys.mjs:233:20\n",
      "cloneObject@chrome://remote/content/marionette/json.sys.mjs:54:24\n",
      "deserializeJSON@chrome://remote/content/marionette/json.sys.mjs:240:16\n",
      "cloneObject@chrome://remote/content/marionette/json.sys.mjs:54:24\n",
      "deserializeJSON@chrome://remote/content/marionette/json.sys.mjs:240:16\n",
      "json.deserialize@chrome://remote/content/marionette/json.sys.mjs:244:10\n",
      "receiveMessage@chrome://remote/content/marionette/actors/MarionetteCommandsChild.sys.mjs:72:30\n",
      "\n",
      "Error extracting data for one of the auctions: Message: The element with the reference a4c4a9e2-0341-4c2f-b149-34bfb0af1f6c is stale; either its node document is not the active document, or it is no longer connected to the DOM; For documentation on this error, please visit: https://www.selenium.dev/documentation/webdriver/troubleshooting/errors#stale-element-reference-exception\n",
      "Stacktrace:\n",
      "RemoteError@chrome://remote/content/shared/RemoteError.sys.mjs:8:8\n",
      "WebDriverError@chrome://remote/content/shared/webdriver/Errors.sys.mjs:188:5\n",
      "StaleElementReferenceError@chrome://remote/content/shared/webdriver/Errors.sys.mjs:660:5\n",
      "getKnownElement@chrome://remote/content/marionette/json.sys.mjs:286:11\n",
      "deserializeJSON@chrome://remote/content/marionette/json.sys.mjs:233:20\n",
      "cloneObject@chrome://remote/content/marionette/json.sys.mjs:54:24\n",
      "deserializeJSON@chrome://remote/content/marionette/json.sys.mjs:240:16\n",
      "cloneObject@chrome://remote/content/marionette/json.sys.mjs:54:24\n",
      "deserializeJSON@chrome://remote/content/marionette/json.sys.mjs:240:16\n",
      "json.deserialize@chrome://remote/content/marionette/json.sys.mjs:244:10\n",
      "receiveMessage@chrome://remote/content/marionette/actors/MarionetteCommandsChild.sys.mjs:72:30\n",
      "\n",
      "Number of condensed auctions: 27\n",
      "Total number of auctions: 70\n",
      "Error updating the DataFrame: 'max_bid'\n",
      "{'link': 'https://hibid.com/lot/167826341/sealed---yigahome-sideboard-buffet-storage'}\n",
      "[{'link': 'https://hibid.com/lot/167826317/gene-kelly-2m-collapsible-rack', 'title': 'GENE KELLY 2M COLLAPSIBLE RACK', 'lot_number': '2499', 'number_of_bids': 18, 'currency': 'CAD', 'max_bid': 24.0}, {'link': 'https://hibid.com/lot/167826318/gyrocopter-electric-hoverboard', 'title': 'GYROCOPTER ELECTRIC HOVERBOARD', 'lot_number': '2500', 'number_of_bids': 26, 'currency': 'CAD', 'max_bid': 57.5}, {'link': 'https://hibid.com/lot/167826326/gyrocopter-electric-hoverboard', 'title': 'GYROCOPTER ELECTRIC HOVERBOARD', 'lot_number': '2508', 'number_of_bids': 27, 'currency': 'CAD', 'max_bid': 55.0}, {'link': 'https://hibid.com/lot/167826327/-final-sale--box-2-of-2-only--dream-on-me-5-in-1', 'title': '(FINAL SALE) BOX 2 OF 2 ONLY, DREAM ON ME 5 IN 1', 'lot_number': '2509', 'number_of_bids': 11, 'currency': 'CAD', 'max_bid': 12.0}, {'link': 'https://hibid.com/lot/167826336/sealed---6x8-ft-mininfa-natural-rolled-bamboo', 'title': 'SEALED - 6X8 FT MININFA NATURAL ROLLED BAMBOO', 'lot_number': '2518', 'number_of_bids': 26, 'currency': 'CAD', 'max_bid': 92.5}, {'link': 'https://hibid.com/lot/167826341/sealed---yigahome-sideboard-buffet-storage'}, {'link': 'https://hibid.com/lot/167826343/sealed---6x8-ft-mininfa-natural-rolled-bamboo', 'title': 'SEALED - 6X8 FT MININFA NATURAL ROLLED BAMBOO', 'lot_number': '2525', 'number_of_bids': 15, 'currency': 'CAD', 'max_bid': 95.0}, {'link': 'https://hibid.com/lot/167826344/vacuum-sealed--queen-size-12-inch-spring-hybrid', 'title': 'VACUUM SEALED, QUEEN SIZE 12 INCH SPRING HYBRID', 'lot_number': '2526', 'number_of_bids': 11, 'currency': 'CAD', 'max_bid': 180.0}, {'link': 'https://hibid.com/lot/167896724/37-86-inch--usx-full-monitor-tv-wall-mount', 'title': '37-86 INCH, USX FULL MONITOR TV WALL MOUNT', 'lot_number': '2529', 'number_of_bids': 19, 'currency': 'CAD', 'max_bid': 25.0}, {'link': 'https://hibid.com/lot/167896728/35-inch--spexdarxs-croquet-set', 'title': '35 INCH, SPEXDARXS CROQUET SET', 'lot_number': '2533', 'number_of_bids': 8, 'currency': 'CAD', 'max_bid': 14.0}, {'link': 'https://hibid.com/lot/167896731/solar-hanging-lamp', 'title': 'SOLAR HANGING LAMP', 'lot_number': '2536', 'number_of_bids': 11, 'currency': 'CAD', 'max_bid': 13.0}, {'link': 'https://hibid.com/lot/167896735/35-inch--sivomens-dog-bed', 'title': '35 INCH, SIVOMENS DOG BED', 'lot_number': '2540', 'number_of_bids': 12, 'currency': 'CAD', 'max_bid': 23.0}, {'link': 'https://hibid.com/lot/167896739/jyx-portable-speaker', 'title': 'JYX PORTABLE SPEAKER', 'lot_number': '2544', 'number_of_bids': 36, 'currency': 'CAD', 'max_bid': 57.5}, {}, {}, {'link': 'https://hibid.com/lot/167896744/-with-sign-of-usage--61-key-musical-keyboard', 'title': '(WITH SIGN OF USAGE) 61 KEY MUSICAL KEYBOARD', 'lot_number': '2549', 'number_of_bids': 17, 'currency': 'CAD', 'max_bid': 40.0}, {'link': 'https://hibid.com/lot/167896745/ninja-master-prep-pro-blender', 'title': 'NINJA MASTER PREP PRO BLENDER', 'lot_number': '2550', 'number_of_bids': 13, 'currency': 'CAD', 'max_bid': 14.0}, {'link': 'https://hibid.com/lot/167826346/24x36-inch--aluminium-snap-cadre-pour-poster', 'title': '24X36 INCH, ALUMINIUM SNAP CADRE POUR POSTER', 'lot_number': '2552', 'number_of_bids': 2, 'currency': 'CAD', 'max_bid': 2.0}, {'link': 'https://hibid.com/lot/167826347/size-6-5--naturalizer-womens-heels', 'title': 'SIZE 6.5, NATURALIZER WOMENS HEELS', 'lot_number': '2553', 'number_of_bids': 6, 'currency': 'CAD', 'max_bid': 12.0}, {'link': 'https://hibid.com/lot/167826348/kiss-pro-hair-dryer', 'title': 'KISS PRO HAIR DRYER', 'lot_number': '2554', 'number_of_bids': 5, 'currency': 'CAD', 'max_bid': 7.0}, {'link': 'https://hibid.com/lot/167826349/-signs-of-usage--440-lbs-cap--smart-weigh', 'title': '(SIGNS OF USAGE) 440 LBS CAP, SMART WEIGH', 'lot_number': '2555', 'number_of_bids': 3, 'currency': 'CAD', 'max_bid': 3.0}, {'link': 'https://hibid.com/lot/167826350/medical-king-heated-blanket', 'title': 'MEDICAL KING HEATED BLANKET', 'lot_number': '2556', 'number_of_bids': 21, 'currency': 'CAD', 'max_bid': 30.0}, {'link': 'https://hibid.com/lot/167826352/-sealed--mina-modern-tv-stand-cabinet', 'title': '(SEALED) MINA MODERN TV STAND CABINET', 'lot_number': '2558', 'number_of_bids': 19, 'currency': 'CAD', 'max_bid': 50.0}, {'link': 'https://hibid.com/lot/167826357/4-100-btu--black-decker-portable-air-conditioner', 'title': '4,100 BTU, BLACK DECKER PORTABLE AIR CONDITIONER', 'lot_number': '2563', 'number_of_bids': 19, 'currency': 'CAD', 'max_bid': 35.0}, {'link': 'https://hibid.com/lot/167826359/akeenu-baby-playpen', 'title': 'AKEENU BABY PLAYPEN', 'lot_number': '2565', 'number_of_bids': 17, 'currency': 'CAD', 'max_bid': 28.0}, {'link': 'https://hibid.com/lot/167826362/-sealed--12-inch--queen--swiss-ortho-sleep', 'title': '(SEALED) 12 INCH, QUEEN, SWISS ORTHO SLEEP', 'lot_number': '2568', 'number_of_bids': 31, 'currency': 'CAD', 'max_bid': 180.0}, {'link': 'https://hibid.com/lot/167826363/47-inch--benzara-serving-buffet-cabinet', 'title': '47 INCH, BENZARA SERVING BUFFET CABINET', 'lot_number': '2569', 'number_of_bids': 19, 'currency': 'CAD', 'max_bid': 67.5}, {'link': 'https://hibid.com/lot/167826364/-no-box--starpower-treadmill', 'title': '(NO BOX) STARPOWER TREADMILL', 'lot_number': '2570', 'number_of_bids': 18, 'currency': 'CAD', 'max_bid': 24.0}, {'link': 'https://hibid.com/lot/167826365/sealed---6x8-ft-mininfa-natural-rolled-bamboo', 'title': 'SEALED - 6X8 FT MININFA NATURAL ROLLED BAMBOO', 'lot_number': '2571', 'number_of_bids': 25, 'currency': 'CAD', 'max_bid': 120.0}, {'link': 'https://hibid.com/lot/167826366/sealed---6x8-ft-mininfa-natural-rolled-bamboo', 'title': 'SEALED - 6X8 FT MININFA NATURAL ROLLED BAMBOO', 'lot_number': '2572', 'number_of_bids': 16, 'currency': 'CAD', 'max_bid': 100.0}, {'link': 'https://hibid.com/lot/167826367/sealed---6x8-ft-mininfa-natural-rolled-bamboo', 'title': 'SEALED - 6X8 FT MININFA NATURAL ROLLED BAMBOO', 'lot_number': '2573', 'number_of_bids': 14, 'currency': 'CAD', 'max_bid': 100.0}, {'link': 'https://hibid.com/lot/167826368/-sealed--12-inch--king--zinus-green-tea-memory', 'title': '(SEALED) 12 INCH, KING, ZINUS GREEN TEA MEMORY', 'lot_number': '2574', 'number_of_bids': 24, 'currency': 'CAD', 'max_bid': 180.0}, {'link': 'https://hibid.com/lot/167826369/monxook-2-slice-waffle-maker', 'title': 'MONXOOK 2 SLICE WAFFLE MAKER', 'lot_number': '2575', 'number_of_bids': 11, 'currency': 'CAD', 'max_bid': 13.0}, {'link': 'https://hibid.com/lot/167826370/chefman-electric-panini-press-grill', 'title': 'CHEFMAN ELECTRIC PANINI PRESS GRILL', 'lot_number': '2576', 'number_of_bids': 11, 'currency': 'CAD', 'max_bid': 13.0}, {'link': 'https://hibid.com/lot/167826371/portable-aircon-vent-seal-and-hose-kit', 'title': 'PORTABLE AIRCON VENT SEAL AND HOSE KIT', 'lot_number': '2577', 'number_of_bids': 10, 'currency': 'CAD', 'max_bid': 12.0}, {'link': 'https://hibid.com/lot/167826372/-sealed--6-000-btu--frigidaire-window-air', 'title': '(SEALED) 6,000 BTU, FRIGIDAIRE WINDOW AIR', 'lot_number': '2578', 'number_of_bids': 7, 'currency': 'CAD', 'max_bid': 42.5}, {'link': 'https://hibid.com/lot/167826373/4-cube-storage-rack', 'title': '4 CUBE STORAGE RACK', 'lot_number': '2579', 'number_of_bids': 16, 'currency': 'CAD', 'max_bid': 16.0}, {'link': 'https://hibid.com/lot/167826374/set-of-4-pcs--carxs-black-leather-car-seat-covers', 'title': 'SET OF 4 PCS, CARXS BLACK LEATHER CAR SEAT COVERS', 'lot_number': '2580', 'number_of_bids': 12, 'currency': 'CAD', 'max_bid': 12.0}, {'link': 'https://hibid.com/lot/167826375/2-quart--ninja-mini-air-fryer', 'title': '2 QUART, NINJA MINI AIR FRYER', 'lot_number': '2581', 'number_of_bids': 22, 'currency': 'CAD', 'max_bid': 35.0}, {'link': 'https://hibid.com/lot/167826376/20-w--solperk-solar-panel', 'title': '20 W, SOLPERK SOLAR PANEL', 'lot_number': '2582', 'number_of_bids': 12, 'currency': 'CAD', 'max_bid': 21.0}, {'link': 'https://hibid.com/lot/167826377/chefman-electric-panini-press-grill', 'title': 'CHEFMAN ELECTRIC PANINI PRESS GRILL', 'lot_number': '2583', 'number_of_bids': 11, 'currency': 'CAD', 'max_bid': 13.0}, {'link': 'https://hibid.com/lot/167826380/-sealed--set-of-16-pcs-stoneware-dinnerware', 'title': '(SEALED) SET OF 16 PCS STONEWARE DINNERWARE', 'lot_number': '2586', 'number_of_bids': 24, 'currency': 'CAD', 'max_bid': 37.5}, {'link': 'https://hibid.com/lot/167826385/cal--king-size--emonia-waterproof-mattress', 'title': 'CAL. KING SIZE, EMONIA WATERPROOF MATTRESS', 'lot_number': '2591', 'number_of_bids': 9, 'currency': 'CAD', 'max_bid': 9.0}, {'link': 'https://hibid.com/lot/167826381/12-cup--kenmore-coffee-maker', 'title': '12 CUP, KENMORE COFFEE MAKER', 'lot_number': '2587', 'number_of_bids': 5, 'currency': 'CAD', 'max_bid': 8.0}, {'link': 'https://hibid.com/lot/167826382/560-wipes--10-packs--huggies-baby-wipe', 'title': '560 WIPES, 10 PACKS, HUGGIES BABY WIPE', 'lot_number': '2588', 'number_of_bids': 13, 'currency': 'CAD', 'max_bid': 16.0}, {'link': 'https://hibid.com/lot/167826383/-signs-of-usage--1-l--hamilton-beach-compact', 'title': '(SIGNS OF USAGE) 1 L, HAMILTON BEACH COMPACT', 'lot_number': '2589', 'number_of_bids': 4, 'currency': 'CAD', 'max_bid': 3.0}, {'link': 'https://hibid.com/lot/167826384/10-5-quart--camp-chef-aluminum-frying-pot-set', 'title': '10.5 QUART, CAMP CHEF ALUMINUM FRYING POT SET', 'lot_number': '2590', 'number_of_bids': 9, 'currency': 'CAD', 'max_bid': 25.0}, {'link': 'https://hibid.com/lot/167826386/proctor-silex-4-slice-toaster', 'title': 'PROCTOR SILEX 4 SLICE TOASTER', 'lot_number': '2592', 'number_of_bids': 17, 'currency': 'CAD', 'max_bid': 15.0}, {'link': 'https://hibid.com/lot/167826387/breville-the-milk-cafe-maker', 'title': 'BREVILLE THE MILK CAFE MAKER', 'lot_number': '2593', 'number_of_bids': 11, 'currency': 'CAD', 'max_bid': 17.0}, {'link': 'https://hibid.com/lot/167826388/8-pcs--gosports-cornhole-bean-bags', 'title': '8 PCS, GOSPORTS CORNHOLE BEAN BAGS', 'lot_number': '2594', 'number_of_bids': 10, 'currency': 'CAD', 'max_bid': 27.0}, {'link': 'https://hibid.com/lot/167826389/hercules-djcontrol-mix-dj-controller', 'title': 'HERCULES DJCONTROL MIX DJ CONTROLLER', 'lot_number': '2595', 'number_of_bids': 11, 'currency': 'CAD', 'max_bid': 47.5}, {'link': 'https://hibid.com/lot/167826390/boppy-nursing-pillow', 'title': 'BOPPY NURSING PILLOW', 'lot_number': '2596', 'number_of_bids': 5, 'currency': 'CAD', 'max_bid': 6.0}, {'link': 'https://hibid.com/lot/167826391/1-7-l--elite-gourmet-electric-kettle', 'title': '1.7 L, ELITE GOURMET ELECTRIC KETTLE', 'lot_number': '2597', 'number_of_bids': 4, 'currency': 'CAD', 'max_bid': 4.0}, {'link': 'https://hibid.com/lot/167826392/size-10--under-armour-mens-shoe', 'title': 'SIZE 10, UNDER ARMOUR MENS SHOE', 'lot_number': '2598', 'number_of_bids': 19, 'currency': 'CAD', 'max_bid': 25.0}, {'link': 'https://hibid.com/lot/167826393/coleman-1-burner-propane-camping-stove', 'title': 'COLEMAN 1 BURNER PROPANE CAMPING STOVE', 'lot_number': '2599', 'number_of_bids': 16, 'currency': 'CAD', 'max_bid': 25.0}, {'link': 'https://hibid.com/lot/167826394/828-ml--starfrit-personal-blender', 'title': '828 ML, STARFRIT PERSONAL BLENDER', 'lot_number': '2600', 'number_of_bids': 3, 'currency': 'CAD', 'max_bid': 6.0}, {'link': 'https://hibid.com/lot/167826395/size-8-5--skechers-womens-shoe', 'title': 'SIZE 8.5, SKECHERS WOMENS SHOE', 'lot_number': '2601', 'number_of_bids': 15, 'currency': 'CAD', 'max_bid': 16.0}, {'link': 'https://hibid.com/lot/167826397/size-8-5--new-balance-womens-shoes', 'title': 'SIZE 8.5, NEW BALANCE WOMENS SHOES', 'lot_number': '2603', 'number_of_bids': 29, 'currency': 'CAD', 'max_bid': 32.5}, {'link': 'https://hibid.com/lot/167826398/2-pcs--10-inch--wheel-replacement', 'title': '2 PCS, 10 INCH, WHEEL REPLACEMENT', 'lot_number': '2604', 'number_of_bids': 17, 'currency': 'CAD', 'max_bid': 25.0}, {'link': 'https://hibid.com/lot/167826399/14-inch--cuisinart-portable-charcoal-grill', 'title': '14 INCH, CUISINART PORTABLE CHARCOAL GRILL', 'lot_number': '2605', 'number_of_bids': 14, 'currency': 'CAD', 'max_bid': 16.0}, {'link': 'https://hibid.com/lot/167826400/-sealed--36-inch-high--safety-1st-walk-through', 'title': '(SEALED) 36 INCH HIGH, SAFETY 1ST WALK THROUGH', 'lot_number': '2606', 'number_of_bids': 4, 'currency': 'CAD', 'max_bid': 12.0}, {'link': 'https://hibid.com/lot/167826401/24-packs--scotch-brite-stainless-steel-scouring', 'title': '24 PACKS, SCOTCH BRITE STAINLESS STEEL SCOURING', 'lot_number': '2607', 'number_of_bids': 8, 'currency': 'CAD', 'max_bid': 8.0}, {'link': 'https://hibid.com/lot/167826402/1-8-l--chefman-electric-kettle', 'title': '1.8 L, CHEFMAN ELECTRIC KETTLE', 'lot_number': '2608', 'number_of_bids': 4, 'currency': 'CAD', 'max_bid': 4.0}, {'link': 'https://hibid.com/lot/167826403/26-l--igloo-cooler', 'title': '26 L, IGLOO COOLER', 'lot_number': '2609', 'number_of_bids': 10, 'currency': 'CAD', 'max_bid': 28.0}, {'link': 'https://hibid.com/lot/167826404/39-8-inch--rivet-farr-lotus-accent-chair', 'title': '39.8 INCH, RIVET FARR LOTUS ACCENT CHAIR', 'lot_number': '2610', 'number_of_bids': 18, 'currency': 'CAD', 'max_bid': 45.0}, {'link': 'https://hibid.com/lot/167826405/1-5-l--ninja-master-prep', 'title': '1.5 L, NINJA MASTER PREP', 'lot_number': '2611', 'number_of_bids': 14, 'currency': 'CAD', 'max_bid': 15.0}, {'link': 'https://hibid.com/lot/167826406/-sealed--46-5-inch--finch-alfred-wooden-round', 'title': '(SEALED) 46.5 INCH, FINCH ALFRED WOODEN ROUND', 'lot_number': '2612', 'number_of_bids': 18, 'currency': 'CAD', 'max_bid': 87.5}, {'link': 'https://hibid.com/lot/167826407/-sealed--yosuda-exercise-bike', 'title': '(SEALED) YOSUDA EXERCISE BIKE', 'lot_number': '2613', 'number_of_bids': 36, 'currency': 'CAD', 'max_bid': 110.0}, {'link': 'https://hibid.com/lot/167826408/-sealed--6-000-btu---frigidaire-window-air', 'title': '(SEALED) 6,000 BTU, FRIGIDAIRE WINDOW AIR', 'lot_number': '2614', 'number_of_bids': 10, 'currency': 'CAD', 'max_bid': 42.5}, {'link': 'https://hibid.com/lot/167826409/-sealed--hapfan-5-in-1-metal-swing-set', 'title': '(SEALED) HAPFAN 5-IN-1 METAL SWING SET', 'lot_number': '2615', 'number_of_bids': 19, 'currency': 'CAD', 'max_bid': 57.5}]\n",
      "Error updating the DataFrame: 'link'\n",
      "{}\n",
      "[{'link': 'https://hibid.com/lot/167826317/gene-kelly-2m-collapsible-rack', 'title': 'GENE KELLY 2M COLLAPSIBLE RACK', 'lot_number': '2499', 'number_of_bids': 18, 'currency': 'CAD', 'max_bid': 24.0}, {'link': 'https://hibid.com/lot/167826318/gyrocopter-electric-hoverboard', 'title': 'GYROCOPTER ELECTRIC HOVERBOARD', 'lot_number': '2500', 'number_of_bids': 26, 'currency': 'CAD', 'max_bid': 57.5}, {'link': 'https://hibid.com/lot/167826326/gyrocopter-electric-hoverboard', 'title': 'GYROCOPTER ELECTRIC HOVERBOARD', 'lot_number': '2508', 'number_of_bids': 27, 'currency': 'CAD', 'max_bid': 55.0}, {'link': 'https://hibid.com/lot/167826327/-final-sale--box-2-of-2-only--dream-on-me-5-in-1', 'title': '(FINAL SALE) BOX 2 OF 2 ONLY, DREAM ON ME 5 IN 1', 'lot_number': '2509', 'number_of_bids': 11, 'currency': 'CAD', 'max_bid': 12.0}, {'link': 'https://hibid.com/lot/167826336/sealed---6x8-ft-mininfa-natural-rolled-bamboo', 'title': 'SEALED - 6X8 FT MININFA NATURAL ROLLED BAMBOO', 'lot_number': '2518', 'number_of_bids': 26, 'currency': 'CAD', 'max_bid': 92.5}, {'link': 'https://hibid.com/lot/167826341/sealed---yigahome-sideboard-buffet-storage'}, {'link': 'https://hibid.com/lot/167826343/sealed---6x8-ft-mininfa-natural-rolled-bamboo', 'title': 'SEALED - 6X8 FT MININFA NATURAL ROLLED BAMBOO', 'lot_number': '2525', 'number_of_bids': 15, 'currency': 'CAD', 'max_bid': 95.0}, {'link': 'https://hibid.com/lot/167826344/vacuum-sealed--queen-size-12-inch-spring-hybrid', 'title': 'VACUUM SEALED, QUEEN SIZE 12 INCH SPRING HYBRID', 'lot_number': '2526', 'number_of_bids': 11, 'currency': 'CAD', 'max_bid': 180.0}, {'link': 'https://hibid.com/lot/167896724/37-86-inch--usx-full-monitor-tv-wall-mount', 'title': '37-86 INCH, USX FULL MONITOR TV WALL MOUNT', 'lot_number': '2529', 'number_of_bids': 19, 'currency': 'CAD', 'max_bid': 25.0}, {'link': 'https://hibid.com/lot/167896728/35-inch--spexdarxs-croquet-set', 'title': '35 INCH, SPEXDARXS CROQUET SET', 'lot_number': '2533', 'number_of_bids': 8, 'currency': 'CAD', 'max_bid': 14.0}, {'link': 'https://hibid.com/lot/167896731/solar-hanging-lamp', 'title': 'SOLAR HANGING LAMP', 'lot_number': '2536', 'number_of_bids': 11, 'currency': 'CAD', 'max_bid': 13.0}, {'link': 'https://hibid.com/lot/167896735/35-inch--sivomens-dog-bed', 'title': '35 INCH, SIVOMENS DOG BED', 'lot_number': '2540', 'number_of_bids': 12, 'currency': 'CAD', 'max_bid': 23.0}, {'link': 'https://hibid.com/lot/167896739/jyx-portable-speaker', 'title': 'JYX PORTABLE SPEAKER', 'lot_number': '2544', 'number_of_bids': 36, 'currency': 'CAD', 'max_bid': 57.5}, {}, {}, {'link': 'https://hibid.com/lot/167896744/-with-sign-of-usage--61-key-musical-keyboard', 'title': '(WITH SIGN OF USAGE) 61 KEY MUSICAL KEYBOARD', 'lot_number': '2549', 'number_of_bids': 17, 'currency': 'CAD', 'max_bid': 40.0}, {'link': 'https://hibid.com/lot/167896745/ninja-master-prep-pro-blender', 'title': 'NINJA MASTER PREP PRO BLENDER', 'lot_number': '2550', 'number_of_bids': 13, 'currency': 'CAD', 'max_bid': 14.0}, {'link': 'https://hibid.com/lot/167826346/24x36-inch--aluminium-snap-cadre-pour-poster', 'title': '24X36 INCH, ALUMINIUM SNAP CADRE POUR POSTER', 'lot_number': '2552', 'number_of_bids': 2, 'currency': 'CAD', 'max_bid': 2.0}, {'link': 'https://hibid.com/lot/167826347/size-6-5--naturalizer-womens-heels', 'title': 'SIZE 6.5, NATURALIZER WOMENS HEELS', 'lot_number': '2553', 'number_of_bids': 6, 'currency': 'CAD', 'max_bid': 12.0}, {'link': 'https://hibid.com/lot/167826348/kiss-pro-hair-dryer', 'title': 'KISS PRO HAIR DRYER', 'lot_number': '2554', 'number_of_bids': 5, 'currency': 'CAD', 'max_bid': 7.0}, {'link': 'https://hibid.com/lot/167826349/-signs-of-usage--440-lbs-cap--smart-weigh', 'title': '(SIGNS OF USAGE) 440 LBS CAP, SMART WEIGH', 'lot_number': '2555', 'number_of_bids': 3, 'currency': 'CAD', 'max_bid': 3.0}, {'link': 'https://hibid.com/lot/167826350/medical-king-heated-blanket', 'title': 'MEDICAL KING HEATED BLANKET', 'lot_number': '2556', 'number_of_bids': 21, 'currency': 'CAD', 'max_bid': 30.0}, {'link': 'https://hibid.com/lot/167826352/-sealed--mina-modern-tv-stand-cabinet', 'title': '(SEALED) MINA MODERN TV STAND CABINET', 'lot_number': '2558', 'number_of_bids': 19, 'currency': 'CAD', 'max_bid': 50.0}, {'link': 'https://hibid.com/lot/167826357/4-100-btu--black-decker-portable-air-conditioner', 'title': '4,100 BTU, BLACK DECKER PORTABLE AIR CONDITIONER', 'lot_number': '2563', 'number_of_bids': 19, 'currency': 'CAD', 'max_bid': 35.0}, {'link': 'https://hibid.com/lot/167826359/akeenu-baby-playpen', 'title': 'AKEENU BABY PLAYPEN', 'lot_number': '2565', 'number_of_bids': 17, 'currency': 'CAD', 'max_bid': 28.0}, {'link': 'https://hibid.com/lot/167826362/-sealed--12-inch--queen--swiss-ortho-sleep', 'title': '(SEALED) 12 INCH, QUEEN, SWISS ORTHO SLEEP', 'lot_number': '2568', 'number_of_bids': 31, 'currency': 'CAD', 'max_bid': 180.0}, {'link': 'https://hibid.com/lot/167826363/47-inch--benzara-serving-buffet-cabinet', 'title': '47 INCH, BENZARA SERVING BUFFET CABINET', 'lot_number': '2569', 'number_of_bids': 19, 'currency': 'CAD', 'max_bid': 67.5}, {'link': 'https://hibid.com/lot/167826364/-no-box--starpower-treadmill', 'title': '(NO BOX) STARPOWER TREADMILL', 'lot_number': '2570', 'number_of_bids': 18, 'currency': 'CAD', 'max_bid': 24.0}, {'link': 'https://hibid.com/lot/167826365/sealed---6x8-ft-mininfa-natural-rolled-bamboo', 'title': 'SEALED - 6X8 FT MININFA NATURAL ROLLED BAMBOO', 'lot_number': '2571', 'number_of_bids': 25, 'currency': 'CAD', 'max_bid': 120.0}, {'link': 'https://hibid.com/lot/167826366/sealed---6x8-ft-mininfa-natural-rolled-bamboo', 'title': 'SEALED - 6X8 FT MININFA NATURAL ROLLED BAMBOO', 'lot_number': '2572', 'number_of_bids': 16, 'currency': 'CAD', 'max_bid': 100.0}, {'link': 'https://hibid.com/lot/167826367/sealed---6x8-ft-mininfa-natural-rolled-bamboo', 'title': 'SEALED - 6X8 FT MININFA NATURAL ROLLED BAMBOO', 'lot_number': '2573', 'number_of_bids': 14, 'currency': 'CAD', 'max_bid': 100.0}, {'link': 'https://hibid.com/lot/167826368/-sealed--12-inch--king--zinus-green-tea-memory', 'title': '(SEALED) 12 INCH, KING, ZINUS GREEN TEA MEMORY', 'lot_number': '2574', 'number_of_bids': 24, 'currency': 'CAD', 'max_bid': 180.0}, {'link': 'https://hibid.com/lot/167826369/monxook-2-slice-waffle-maker', 'title': 'MONXOOK 2 SLICE WAFFLE MAKER', 'lot_number': '2575', 'number_of_bids': 11, 'currency': 'CAD', 'max_bid': 13.0}, {'link': 'https://hibid.com/lot/167826370/chefman-electric-panini-press-grill', 'title': 'CHEFMAN ELECTRIC PANINI PRESS GRILL', 'lot_number': '2576', 'number_of_bids': 11, 'currency': 'CAD', 'max_bid': 13.0}, {'link': 'https://hibid.com/lot/167826371/portable-aircon-vent-seal-and-hose-kit', 'title': 'PORTABLE AIRCON VENT SEAL AND HOSE KIT', 'lot_number': '2577', 'number_of_bids': 10, 'currency': 'CAD', 'max_bid': 12.0}, {'link': 'https://hibid.com/lot/167826372/-sealed--6-000-btu--frigidaire-window-air', 'title': '(SEALED) 6,000 BTU, FRIGIDAIRE WINDOW AIR', 'lot_number': '2578', 'number_of_bids': 7, 'currency': 'CAD', 'max_bid': 42.5}, {'link': 'https://hibid.com/lot/167826373/4-cube-storage-rack', 'title': '4 CUBE STORAGE RACK', 'lot_number': '2579', 'number_of_bids': 16, 'currency': 'CAD', 'max_bid': 16.0}, {'link': 'https://hibid.com/lot/167826374/set-of-4-pcs--carxs-black-leather-car-seat-covers', 'title': 'SET OF 4 PCS, CARXS BLACK LEATHER CAR SEAT COVERS', 'lot_number': '2580', 'number_of_bids': 12, 'currency': 'CAD', 'max_bid': 12.0}, {'link': 'https://hibid.com/lot/167826375/2-quart--ninja-mini-air-fryer', 'title': '2 QUART, NINJA MINI AIR FRYER', 'lot_number': '2581', 'number_of_bids': 22, 'currency': 'CAD', 'max_bid': 35.0}, {'link': 'https://hibid.com/lot/167826376/20-w--solperk-solar-panel', 'title': '20 W, SOLPERK SOLAR PANEL', 'lot_number': '2582', 'number_of_bids': 12, 'currency': 'CAD', 'max_bid': 21.0}, {'link': 'https://hibid.com/lot/167826377/chefman-electric-panini-press-grill', 'title': 'CHEFMAN ELECTRIC PANINI PRESS GRILL', 'lot_number': '2583', 'number_of_bids': 11, 'currency': 'CAD', 'max_bid': 13.0}, {'link': 'https://hibid.com/lot/167826380/-sealed--set-of-16-pcs-stoneware-dinnerware', 'title': '(SEALED) SET OF 16 PCS STONEWARE DINNERWARE', 'lot_number': '2586', 'number_of_bids': 24, 'currency': 'CAD', 'max_bid': 37.5}, {'link': 'https://hibid.com/lot/167826385/cal--king-size--emonia-waterproof-mattress', 'title': 'CAL. KING SIZE, EMONIA WATERPROOF MATTRESS', 'lot_number': '2591', 'number_of_bids': 9, 'currency': 'CAD', 'max_bid': 9.0}, {'link': 'https://hibid.com/lot/167826381/12-cup--kenmore-coffee-maker', 'title': '12 CUP, KENMORE COFFEE MAKER', 'lot_number': '2587', 'number_of_bids': 5, 'currency': 'CAD', 'max_bid': 8.0}, {'link': 'https://hibid.com/lot/167826382/560-wipes--10-packs--huggies-baby-wipe', 'title': '560 WIPES, 10 PACKS, HUGGIES BABY WIPE', 'lot_number': '2588', 'number_of_bids': 13, 'currency': 'CAD', 'max_bid': 16.0}, {'link': 'https://hibid.com/lot/167826383/-signs-of-usage--1-l--hamilton-beach-compact', 'title': '(SIGNS OF USAGE) 1 L, HAMILTON BEACH COMPACT', 'lot_number': '2589', 'number_of_bids': 4, 'currency': 'CAD', 'max_bid': 3.0}, {'link': 'https://hibid.com/lot/167826384/10-5-quart--camp-chef-aluminum-frying-pot-set', 'title': '10.5 QUART, CAMP CHEF ALUMINUM FRYING POT SET', 'lot_number': '2590', 'number_of_bids': 9, 'currency': 'CAD', 'max_bid': 25.0}, {'link': 'https://hibid.com/lot/167826386/proctor-silex-4-slice-toaster', 'title': 'PROCTOR SILEX 4 SLICE TOASTER', 'lot_number': '2592', 'number_of_bids': 17, 'currency': 'CAD', 'max_bid': 15.0}, {'link': 'https://hibid.com/lot/167826387/breville-the-milk-cafe-maker', 'title': 'BREVILLE THE MILK CAFE MAKER', 'lot_number': '2593', 'number_of_bids': 11, 'currency': 'CAD', 'max_bid': 17.0}, {'link': 'https://hibid.com/lot/167826388/8-pcs--gosports-cornhole-bean-bags', 'title': '8 PCS, GOSPORTS CORNHOLE BEAN BAGS', 'lot_number': '2594', 'number_of_bids': 10, 'currency': 'CAD', 'max_bid': 27.0}, {'link': 'https://hibid.com/lot/167826389/hercules-djcontrol-mix-dj-controller', 'title': 'HERCULES DJCONTROL MIX DJ CONTROLLER', 'lot_number': '2595', 'number_of_bids': 11, 'currency': 'CAD', 'max_bid': 47.5}, {'link': 'https://hibid.com/lot/167826390/boppy-nursing-pillow', 'title': 'BOPPY NURSING PILLOW', 'lot_number': '2596', 'number_of_bids': 5, 'currency': 'CAD', 'max_bid': 6.0}, {'link': 'https://hibid.com/lot/167826391/1-7-l--elite-gourmet-electric-kettle', 'title': '1.7 L, ELITE GOURMET ELECTRIC KETTLE', 'lot_number': '2597', 'number_of_bids': 4, 'currency': 'CAD', 'max_bid': 4.0}, {'link': 'https://hibid.com/lot/167826392/size-10--under-armour-mens-shoe', 'title': 'SIZE 10, UNDER ARMOUR MENS SHOE', 'lot_number': '2598', 'number_of_bids': 19, 'currency': 'CAD', 'max_bid': 25.0}, {'link': 'https://hibid.com/lot/167826393/coleman-1-burner-propane-camping-stove', 'title': 'COLEMAN 1 BURNER PROPANE CAMPING STOVE', 'lot_number': '2599', 'number_of_bids': 16, 'currency': 'CAD', 'max_bid': 25.0}, {'link': 'https://hibid.com/lot/167826394/828-ml--starfrit-personal-blender', 'title': '828 ML, STARFRIT PERSONAL BLENDER', 'lot_number': '2600', 'number_of_bids': 3, 'currency': 'CAD', 'max_bid': 6.0}, {'link': 'https://hibid.com/lot/167826395/size-8-5--skechers-womens-shoe', 'title': 'SIZE 8.5, SKECHERS WOMENS SHOE', 'lot_number': '2601', 'number_of_bids': 15, 'currency': 'CAD', 'max_bid': 16.0}, {'link': 'https://hibid.com/lot/167826397/size-8-5--new-balance-womens-shoes', 'title': 'SIZE 8.5, NEW BALANCE WOMENS SHOES', 'lot_number': '2603', 'number_of_bids': 29, 'currency': 'CAD', 'max_bid': 32.5}, {'link': 'https://hibid.com/lot/167826398/2-pcs--10-inch--wheel-replacement', 'title': '2 PCS, 10 INCH, WHEEL REPLACEMENT', 'lot_number': '2604', 'number_of_bids': 17, 'currency': 'CAD', 'max_bid': 25.0}, {'link': 'https://hibid.com/lot/167826399/14-inch--cuisinart-portable-charcoal-grill', 'title': '14 INCH, CUISINART PORTABLE CHARCOAL GRILL', 'lot_number': '2605', 'number_of_bids': 14, 'currency': 'CAD', 'max_bid': 16.0}, {'link': 'https://hibid.com/lot/167826400/-sealed--36-inch-high--safety-1st-walk-through', 'title': '(SEALED) 36 INCH HIGH, SAFETY 1ST WALK THROUGH', 'lot_number': '2606', 'number_of_bids': 4, 'currency': 'CAD', 'max_bid': 12.0}, {'link': 'https://hibid.com/lot/167826401/24-packs--scotch-brite-stainless-steel-scouring', 'title': '24 PACKS, SCOTCH BRITE STAINLESS STEEL SCOURING', 'lot_number': '2607', 'number_of_bids': 8, 'currency': 'CAD', 'max_bid': 8.0}, {'link': 'https://hibid.com/lot/167826402/1-8-l--chefman-electric-kettle', 'title': '1.8 L, CHEFMAN ELECTRIC KETTLE', 'lot_number': '2608', 'number_of_bids': 4, 'currency': 'CAD', 'max_bid': 4.0}, {'link': 'https://hibid.com/lot/167826403/26-l--igloo-cooler', 'title': '26 L, IGLOO COOLER', 'lot_number': '2609', 'number_of_bids': 10, 'currency': 'CAD', 'max_bid': 28.0}, {'link': 'https://hibid.com/lot/167826404/39-8-inch--rivet-farr-lotus-accent-chair', 'title': '39.8 INCH, RIVET FARR LOTUS ACCENT CHAIR', 'lot_number': '2610', 'number_of_bids': 18, 'currency': 'CAD', 'max_bid': 45.0}, {'link': 'https://hibid.com/lot/167826405/1-5-l--ninja-master-prep', 'title': '1.5 L, NINJA MASTER PREP', 'lot_number': '2611', 'number_of_bids': 14, 'currency': 'CAD', 'max_bid': 15.0}, {'link': 'https://hibid.com/lot/167826406/-sealed--46-5-inch--finch-alfred-wooden-round', 'title': '(SEALED) 46.5 INCH, FINCH ALFRED WOODEN ROUND', 'lot_number': '2612', 'number_of_bids': 18, 'currency': 'CAD', 'max_bid': 87.5}, {'link': 'https://hibid.com/lot/167826407/-sealed--yosuda-exercise-bike', 'title': '(SEALED) YOSUDA EXERCISE BIKE', 'lot_number': '2613', 'number_of_bids': 36, 'currency': 'CAD', 'max_bid': 110.0}, {'link': 'https://hibid.com/lot/167826408/-sealed--6-000-btu---frigidaire-window-air', 'title': '(SEALED) 6,000 BTU, FRIGIDAIRE WINDOW AIR', 'lot_number': '2614', 'number_of_bids': 10, 'currency': 'CAD', 'max_bid': 42.5}, {'link': 'https://hibid.com/lot/167826409/-sealed--hapfan-5-in-1-metal-swing-set', 'title': '(SEALED) HAPFAN 5-IN-1 METAL SWING SET', 'lot_number': '2615', 'number_of_bids': 19, 'currency': 'CAD', 'max_bid': 57.5}]\n",
      "Error updating the DataFrame: 'link'\n",
      "{}\n",
      "[{'link': 'https://hibid.com/lot/167826317/gene-kelly-2m-collapsible-rack', 'title': 'GENE KELLY 2M COLLAPSIBLE RACK', 'lot_number': '2499', 'number_of_bids': 18, 'currency': 'CAD', 'max_bid': 24.0}, {'link': 'https://hibid.com/lot/167826318/gyrocopter-electric-hoverboard', 'title': 'GYROCOPTER ELECTRIC HOVERBOARD', 'lot_number': '2500', 'number_of_bids': 26, 'currency': 'CAD', 'max_bid': 57.5}, {'link': 'https://hibid.com/lot/167826326/gyrocopter-electric-hoverboard', 'title': 'GYROCOPTER ELECTRIC HOVERBOARD', 'lot_number': '2508', 'number_of_bids': 27, 'currency': 'CAD', 'max_bid': 55.0}, {'link': 'https://hibid.com/lot/167826327/-final-sale--box-2-of-2-only--dream-on-me-5-in-1', 'title': '(FINAL SALE) BOX 2 OF 2 ONLY, DREAM ON ME 5 IN 1', 'lot_number': '2509', 'number_of_bids': 11, 'currency': 'CAD', 'max_bid': 12.0}, {'link': 'https://hibid.com/lot/167826336/sealed---6x8-ft-mininfa-natural-rolled-bamboo', 'title': 'SEALED - 6X8 FT MININFA NATURAL ROLLED BAMBOO', 'lot_number': '2518', 'number_of_bids': 26, 'currency': 'CAD', 'max_bid': 92.5}, {'link': 'https://hibid.com/lot/167826341/sealed---yigahome-sideboard-buffet-storage'}, {'link': 'https://hibid.com/lot/167826343/sealed---6x8-ft-mininfa-natural-rolled-bamboo', 'title': 'SEALED - 6X8 FT MININFA NATURAL ROLLED BAMBOO', 'lot_number': '2525', 'number_of_bids': 15, 'currency': 'CAD', 'max_bid': 95.0}, {'link': 'https://hibid.com/lot/167826344/vacuum-sealed--queen-size-12-inch-spring-hybrid', 'title': 'VACUUM SEALED, QUEEN SIZE 12 INCH SPRING HYBRID', 'lot_number': '2526', 'number_of_bids': 11, 'currency': 'CAD', 'max_bid': 180.0}, {'link': 'https://hibid.com/lot/167896724/37-86-inch--usx-full-monitor-tv-wall-mount', 'title': '37-86 INCH, USX FULL MONITOR TV WALL MOUNT', 'lot_number': '2529', 'number_of_bids': 19, 'currency': 'CAD', 'max_bid': 25.0}, {'link': 'https://hibid.com/lot/167896728/35-inch--spexdarxs-croquet-set', 'title': '35 INCH, SPEXDARXS CROQUET SET', 'lot_number': '2533', 'number_of_bids': 8, 'currency': 'CAD', 'max_bid': 14.0}, {'link': 'https://hibid.com/lot/167896731/solar-hanging-lamp', 'title': 'SOLAR HANGING LAMP', 'lot_number': '2536', 'number_of_bids': 11, 'currency': 'CAD', 'max_bid': 13.0}, {'link': 'https://hibid.com/lot/167896735/35-inch--sivomens-dog-bed', 'title': '35 INCH, SIVOMENS DOG BED', 'lot_number': '2540', 'number_of_bids': 12, 'currency': 'CAD', 'max_bid': 23.0}, {'link': 'https://hibid.com/lot/167896739/jyx-portable-speaker', 'title': 'JYX PORTABLE SPEAKER', 'lot_number': '2544', 'number_of_bids': 36, 'currency': 'CAD', 'max_bid': 57.5}, {}, {}, {'link': 'https://hibid.com/lot/167896744/-with-sign-of-usage--61-key-musical-keyboard', 'title': '(WITH SIGN OF USAGE) 61 KEY MUSICAL KEYBOARD', 'lot_number': '2549', 'number_of_bids': 17, 'currency': 'CAD', 'max_bid': 40.0}, {'link': 'https://hibid.com/lot/167896745/ninja-master-prep-pro-blender', 'title': 'NINJA MASTER PREP PRO BLENDER', 'lot_number': '2550', 'number_of_bids': 13, 'currency': 'CAD', 'max_bid': 14.0}, {'link': 'https://hibid.com/lot/167826346/24x36-inch--aluminium-snap-cadre-pour-poster', 'title': '24X36 INCH, ALUMINIUM SNAP CADRE POUR POSTER', 'lot_number': '2552', 'number_of_bids': 2, 'currency': 'CAD', 'max_bid': 2.0}, {'link': 'https://hibid.com/lot/167826347/size-6-5--naturalizer-womens-heels', 'title': 'SIZE 6.5, NATURALIZER WOMENS HEELS', 'lot_number': '2553', 'number_of_bids': 6, 'currency': 'CAD', 'max_bid': 12.0}, {'link': 'https://hibid.com/lot/167826348/kiss-pro-hair-dryer', 'title': 'KISS PRO HAIR DRYER', 'lot_number': '2554', 'number_of_bids': 5, 'currency': 'CAD', 'max_bid': 7.0}, {'link': 'https://hibid.com/lot/167826349/-signs-of-usage--440-lbs-cap--smart-weigh', 'title': '(SIGNS OF USAGE) 440 LBS CAP, SMART WEIGH', 'lot_number': '2555', 'number_of_bids': 3, 'currency': 'CAD', 'max_bid': 3.0}, {'link': 'https://hibid.com/lot/167826350/medical-king-heated-blanket', 'title': 'MEDICAL KING HEATED BLANKET', 'lot_number': '2556', 'number_of_bids': 21, 'currency': 'CAD', 'max_bid': 30.0}, {'link': 'https://hibid.com/lot/167826352/-sealed--mina-modern-tv-stand-cabinet', 'title': '(SEALED) MINA MODERN TV STAND CABINET', 'lot_number': '2558', 'number_of_bids': 19, 'currency': 'CAD', 'max_bid': 50.0}, {'link': 'https://hibid.com/lot/167826357/4-100-btu--black-decker-portable-air-conditioner', 'title': '4,100 BTU, BLACK DECKER PORTABLE AIR CONDITIONER', 'lot_number': '2563', 'number_of_bids': 19, 'currency': 'CAD', 'max_bid': 35.0}, {'link': 'https://hibid.com/lot/167826359/akeenu-baby-playpen', 'title': 'AKEENU BABY PLAYPEN', 'lot_number': '2565', 'number_of_bids': 17, 'currency': 'CAD', 'max_bid': 28.0}, {'link': 'https://hibid.com/lot/167826362/-sealed--12-inch--queen--swiss-ortho-sleep', 'title': '(SEALED) 12 INCH, QUEEN, SWISS ORTHO SLEEP', 'lot_number': '2568', 'number_of_bids': 31, 'currency': 'CAD', 'max_bid': 180.0}, {'link': 'https://hibid.com/lot/167826363/47-inch--benzara-serving-buffet-cabinet', 'title': '47 INCH, BENZARA SERVING BUFFET CABINET', 'lot_number': '2569', 'number_of_bids': 19, 'currency': 'CAD', 'max_bid': 67.5}, {'link': 'https://hibid.com/lot/167826364/-no-box--starpower-treadmill', 'title': '(NO BOX) STARPOWER TREADMILL', 'lot_number': '2570', 'number_of_bids': 18, 'currency': 'CAD', 'max_bid': 24.0}, {'link': 'https://hibid.com/lot/167826365/sealed---6x8-ft-mininfa-natural-rolled-bamboo', 'title': 'SEALED - 6X8 FT MININFA NATURAL ROLLED BAMBOO', 'lot_number': '2571', 'number_of_bids': 25, 'currency': 'CAD', 'max_bid': 120.0}, {'link': 'https://hibid.com/lot/167826366/sealed---6x8-ft-mininfa-natural-rolled-bamboo', 'title': 'SEALED - 6X8 FT MININFA NATURAL ROLLED BAMBOO', 'lot_number': '2572', 'number_of_bids': 16, 'currency': 'CAD', 'max_bid': 100.0}, {'link': 'https://hibid.com/lot/167826367/sealed---6x8-ft-mininfa-natural-rolled-bamboo', 'title': 'SEALED - 6X8 FT MININFA NATURAL ROLLED BAMBOO', 'lot_number': '2573', 'number_of_bids': 14, 'currency': 'CAD', 'max_bid': 100.0}, {'link': 'https://hibid.com/lot/167826368/-sealed--12-inch--king--zinus-green-tea-memory', 'title': '(SEALED) 12 INCH, KING, ZINUS GREEN TEA MEMORY', 'lot_number': '2574', 'number_of_bids': 24, 'currency': 'CAD', 'max_bid': 180.0}, {'link': 'https://hibid.com/lot/167826369/monxook-2-slice-waffle-maker', 'title': 'MONXOOK 2 SLICE WAFFLE MAKER', 'lot_number': '2575', 'number_of_bids': 11, 'currency': 'CAD', 'max_bid': 13.0}, {'link': 'https://hibid.com/lot/167826370/chefman-electric-panini-press-grill', 'title': 'CHEFMAN ELECTRIC PANINI PRESS GRILL', 'lot_number': '2576', 'number_of_bids': 11, 'currency': 'CAD', 'max_bid': 13.0}, {'link': 'https://hibid.com/lot/167826371/portable-aircon-vent-seal-and-hose-kit', 'title': 'PORTABLE AIRCON VENT SEAL AND HOSE KIT', 'lot_number': '2577', 'number_of_bids': 10, 'currency': 'CAD', 'max_bid': 12.0}, {'link': 'https://hibid.com/lot/167826372/-sealed--6-000-btu--frigidaire-window-air', 'title': '(SEALED) 6,000 BTU, FRIGIDAIRE WINDOW AIR', 'lot_number': '2578', 'number_of_bids': 7, 'currency': 'CAD', 'max_bid': 42.5}, {'link': 'https://hibid.com/lot/167826373/4-cube-storage-rack', 'title': '4 CUBE STORAGE RACK', 'lot_number': '2579', 'number_of_bids': 16, 'currency': 'CAD', 'max_bid': 16.0}, {'link': 'https://hibid.com/lot/167826374/set-of-4-pcs--carxs-black-leather-car-seat-covers', 'title': 'SET OF 4 PCS, CARXS BLACK LEATHER CAR SEAT COVERS', 'lot_number': '2580', 'number_of_bids': 12, 'currency': 'CAD', 'max_bid': 12.0}, {'link': 'https://hibid.com/lot/167826375/2-quart--ninja-mini-air-fryer', 'title': '2 QUART, NINJA MINI AIR FRYER', 'lot_number': '2581', 'number_of_bids': 22, 'currency': 'CAD', 'max_bid': 35.0}, {'link': 'https://hibid.com/lot/167826376/20-w--solperk-solar-panel', 'title': '20 W, SOLPERK SOLAR PANEL', 'lot_number': '2582', 'number_of_bids': 12, 'currency': 'CAD', 'max_bid': 21.0}, {'link': 'https://hibid.com/lot/167826377/chefman-electric-panini-press-grill', 'title': 'CHEFMAN ELECTRIC PANINI PRESS GRILL', 'lot_number': '2583', 'number_of_bids': 11, 'currency': 'CAD', 'max_bid': 13.0}, {'link': 'https://hibid.com/lot/167826380/-sealed--set-of-16-pcs-stoneware-dinnerware', 'title': '(SEALED) SET OF 16 PCS STONEWARE DINNERWARE', 'lot_number': '2586', 'number_of_bids': 24, 'currency': 'CAD', 'max_bid': 37.5}, {'link': 'https://hibid.com/lot/167826385/cal--king-size--emonia-waterproof-mattress', 'title': 'CAL. KING SIZE, EMONIA WATERPROOF MATTRESS', 'lot_number': '2591', 'number_of_bids': 9, 'currency': 'CAD', 'max_bid': 9.0}, {'link': 'https://hibid.com/lot/167826381/12-cup--kenmore-coffee-maker', 'title': '12 CUP, KENMORE COFFEE MAKER', 'lot_number': '2587', 'number_of_bids': 5, 'currency': 'CAD', 'max_bid': 8.0}, {'link': 'https://hibid.com/lot/167826382/560-wipes--10-packs--huggies-baby-wipe', 'title': '560 WIPES, 10 PACKS, HUGGIES BABY WIPE', 'lot_number': '2588', 'number_of_bids': 13, 'currency': 'CAD', 'max_bid': 16.0}, {'link': 'https://hibid.com/lot/167826383/-signs-of-usage--1-l--hamilton-beach-compact', 'title': '(SIGNS OF USAGE) 1 L, HAMILTON BEACH COMPACT', 'lot_number': '2589', 'number_of_bids': 4, 'currency': 'CAD', 'max_bid': 3.0}, {'link': 'https://hibid.com/lot/167826384/10-5-quart--camp-chef-aluminum-frying-pot-set', 'title': '10.5 QUART, CAMP CHEF ALUMINUM FRYING POT SET', 'lot_number': '2590', 'number_of_bids': 9, 'currency': 'CAD', 'max_bid': 25.0}, {'link': 'https://hibid.com/lot/167826386/proctor-silex-4-slice-toaster', 'title': 'PROCTOR SILEX 4 SLICE TOASTER', 'lot_number': '2592', 'number_of_bids': 17, 'currency': 'CAD', 'max_bid': 15.0}, {'link': 'https://hibid.com/lot/167826387/breville-the-milk-cafe-maker', 'title': 'BREVILLE THE MILK CAFE MAKER', 'lot_number': '2593', 'number_of_bids': 11, 'currency': 'CAD', 'max_bid': 17.0}, {'link': 'https://hibid.com/lot/167826388/8-pcs--gosports-cornhole-bean-bags', 'title': '8 PCS, GOSPORTS CORNHOLE BEAN BAGS', 'lot_number': '2594', 'number_of_bids': 10, 'currency': 'CAD', 'max_bid': 27.0}, {'link': 'https://hibid.com/lot/167826389/hercules-djcontrol-mix-dj-controller', 'title': 'HERCULES DJCONTROL MIX DJ CONTROLLER', 'lot_number': '2595', 'number_of_bids': 11, 'currency': 'CAD', 'max_bid': 47.5}, {'link': 'https://hibid.com/lot/167826390/boppy-nursing-pillow', 'title': 'BOPPY NURSING PILLOW', 'lot_number': '2596', 'number_of_bids': 5, 'currency': 'CAD', 'max_bid': 6.0}, {'link': 'https://hibid.com/lot/167826391/1-7-l--elite-gourmet-electric-kettle', 'title': '1.7 L, ELITE GOURMET ELECTRIC KETTLE', 'lot_number': '2597', 'number_of_bids': 4, 'currency': 'CAD', 'max_bid': 4.0}, {'link': 'https://hibid.com/lot/167826392/size-10--under-armour-mens-shoe', 'title': 'SIZE 10, UNDER ARMOUR MENS SHOE', 'lot_number': '2598', 'number_of_bids': 19, 'currency': 'CAD', 'max_bid': 25.0}, {'link': 'https://hibid.com/lot/167826393/coleman-1-burner-propane-camping-stove', 'title': 'COLEMAN 1 BURNER PROPANE CAMPING STOVE', 'lot_number': '2599', 'number_of_bids': 16, 'currency': 'CAD', 'max_bid': 25.0}, {'link': 'https://hibid.com/lot/167826394/828-ml--starfrit-personal-blender', 'title': '828 ML, STARFRIT PERSONAL BLENDER', 'lot_number': '2600', 'number_of_bids': 3, 'currency': 'CAD', 'max_bid': 6.0}, {'link': 'https://hibid.com/lot/167826395/size-8-5--skechers-womens-shoe', 'title': 'SIZE 8.5, SKECHERS WOMENS SHOE', 'lot_number': '2601', 'number_of_bids': 15, 'currency': 'CAD', 'max_bid': 16.0}, {'link': 'https://hibid.com/lot/167826397/size-8-5--new-balance-womens-shoes', 'title': 'SIZE 8.5, NEW BALANCE WOMENS SHOES', 'lot_number': '2603', 'number_of_bids': 29, 'currency': 'CAD', 'max_bid': 32.5}, {'link': 'https://hibid.com/lot/167826398/2-pcs--10-inch--wheel-replacement', 'title': '2 PCS, 10 INCH, WHEEL REPLACEMENT', 'lot_number': '2604', 'number_of_bids': 17, 'currency': 'CAD', 'max_bid': 25.0}, {'link': 'https://hibid.com/lot/167826399/14-inch--cuisinart-portable-charcoal-grill', 'title': '14 INCH, CUISINART PORTABLE CHARCOAL GRILL', 'lot_number': '2605', 'number_of_bids': 14, 'currency': 'CAD', 'max_bid': 16.0}, {'link': 'https://hibid.com/lot/167826400/-sealed--36-inch-high--safety-1st-walk-through', 'title': '(SEALED) 36 INCH HIGH, SAFETY 1ST WALK THROUGH', 'lot_number': '2606', 'number_of_bids': 4, 'currency': 'CAD', 'max_bid': 12.0}, {'link': 'https://hibid.com/lot/167826401/24-packs--scotch-brite-stainless-steel-scouring', 'title': '24 PACKS, SCOTCH BRITE STAINLESS STEEL SCOURING', 'lot_number': '2607', 'number_of_bids': 8, 'currency': 'CAD', 'max_bid': 8.0}, {'link': 'https://hibid.com/lot/167826402/1-8-l--chefman-electric-kettle', 'title': '1.8 L, CHEFMAN ELECTRIC KETTLE', 'lot_number': '2608', 'number_of_bids': 4, 'currency': 'CAD', 'max_bid': 4.0}, {'link': 'https://hibid.com/lot/167826403/26-l--igloo-cooler', 'title': '26 L, IGLOO COOLER', 'lot_number': '2609', 'number_of_bids': 10, 'currency': 'CAD', 'max_bid': 28.0}, {'link': 'https://hibid.com/lot/167826404/39-8-inch--rivet-farr-lotus-accent-chair', 'title': '39.8 INCH, RIVET FARR LOTUS ACCENT CHAIR', 'lot_number': '2610', 'number_of_bids': 18, 'currency': 'CAD', 'max_bid': 45.0}, {'link': 'https://hibid.com/lot/167826405/1-5-l--ninja-master-prep', 'title': '1.5 L, NINJA MASTER PREP', 'lot_number': '2611', 'number_of_bids': 14, 'currency': 'CAD', 'max_bid': 15.0}, {'link': 'https://hibid.com/lot/167826406/-sealed--46-5-inch--finch-alfred-wooden-round', 'title': '(SEALED) 46.5 INCH, FINCH ALFRED WOODEN ROUND', 'lot_number': '2612', 'number_of_bids': 18, 'currency': 'CAD', 'max_bid': 87.5}, {'link': 'https://hibid.com/lot/167826407/-sealed--yosuda-exercise-bike', 'title': '(SEALED) YOSUDA EXERCISE BIKE', 'lot_number': '2613', 'number_of_bids': 36, 'currency': 'CAD', 'max_bid': 110.0}, {'link': 'https://hibid.com/lot/167826408/-sealed--6-000-btu---frigidaire-window-air', 'title': '(SEALED) 6,000 BTU, FRIGIDAIRE WINDOW AIR', 'lot_number': '2614', 'number_of_bids': 10, 'currency': 'CAD', 'max_bid': 42.5}, {'link': 'https://hibid.com/lot/167826409/-sealed--hapfan-5-in-1-metal-swing-set', 'title': '(SEALED) HAPFAN 5-IN-1 METAL SWING SET', 'lot_number': '2615', 'number_of_bids': 19, 'currency': 'CAD', 'max_bid': 57.5}]\n"
     ]
    },
    {
     "name": "stderr",
     "output_type": "stream",
     "text": [
      "C:\\Users\\shiva\\AppData\\Local\\Temp\\ipykernel_2096\\2574675377.py:3: DeprecationWarning: Firefox will soon stop logging to geckodriver.log by default; Specify desired logs with log_output\n",
      "  service = Service(executable_path=\"geckodriver/geckodriver.exe\")\n"
     ]
    },
    {
     "name": "stdout",
     "output_type": "stream",
     "text": [
      "Number of detailed auctions: 45\n",
      "Number of condensed auctions: 27\n",
      "Total number of auctions: 72\n"
     ]
    },
    {
     "name": "stderr",
     "output_type": "stream",
     "text": [
      "C:\\Users\\shiva\\AppData\\Local\\Temp\\ipykernel_2096\\2574675377.py:3: DeprecationWarning: Firefox will soon stop logging to geckodriver.log by default; Specify desired logs with log_output\n",
      "  service = Service(executable_path=\"geckodriver/geckodriver.exe\")\n"
     ]
    },
    {
     "name": "stdout",
     "output_type": "stream",
     "text": [
      "Number of detailed auctions: 39\n",
      "Error extracting data for one of the auctions: Message: The element with the reference e1ce83be-aa90-4823-b201-40c366b63b84 is stale; either its node document is not the active document, or it is no longer connected to the DOM; For documentation on this error, please visit: https://www.selenium.dev/documentation/webdriver/troubleshooting/errors#stale-element-reference-exception\n",
      "Stacktrace:\n",
      "RemoteError@chrome://remote/content/shared/RemoteError.sys.mjs:8:8\n",
      "WebDriverError@chrome://remote/content/shared/webdriver/Errors.sys.mjs:188:5\n",
      "StaleElementReferenceError@chrome://remote/content/shared/webdriver/Errors.sys.mjs:660:5\n",
      "getKnownElement@chrome://remote/content/marionette/json.sys.mjs:286:11\n",
      "deserializeJSON@chrome://remote/content/marionette/json.sys.mjs:233:20\n",
      "cloneObject@chrome://remote/content/marionette/json.sys.mjs:54:24\n",
      "deserializeJSON@chrome://remote/content/marionette/json.sys.mjs:240:16\n",
      "cloneObject@chrome://remote/content/marionette/json.sys.mjs:54:24\n",
      "deserializeJSON@chrome://remote/content/marionette/json.sys.mjs:240:16\n",
      "json.deserialize@chrome://remote/content/marionette/json.sys.mjs:244:10\n",
      "receiveMessage@chrome://remote/content/marionette/actors/MarionetteCommandsChild.sys.mjs:72:30\n",
      "\n",
      "Number of condensed auctions: 30\n",
      "Total number of auctions: 69\n",
      "Error updating the DataFrame: 'link'\n",
      "{}\n",
      "[{'link': 'https://hibid.com/lot/167826317/gene-kelly-2m-collapsible-rack', 'title': 'GENE KELLY 2M COLLAPSIBLE RACK', 'lot_number': '2499', 'number_of_bids': 19, 'currency': 'CAD', 'max_bid': 25.0}, {'link': 'https://hibid.com/lot/167826326/gyrocopter-electric-hoverboard', 'title': 'GYROCOPTER ELECTRIC HOVERBOARD', 'lot_number': '2508', 'number_of_bids': 28, 'currency': 'CAD', 'max_bid': 57.5}, {'link': 'https://hibid.com/lot/167896728/35-inch--spexdarxs-croquet-set', 'title': '35 INCH, SPEXDARXS CROQUET SET', 'lot_number': '2533', 'number_of_bids': 9, 'currency': 'CAD', 'max_bid': 15.0}, {'link': 'https://hibid.com/lot/167896731/solar-hanging-lamp', 'title': 'SOLAR HANGING LAMP', 'lot_number': '2536', 'number_of_bids': 11, 'currency': 'CAD', 'max_bid': 13.0}, {'link': 'https://hibid.com/lot/167896735/35-inch--sivomens-dog-bed', 'title': '35 INCH, SIVOMENS DOG BED', 'lot_number': '2540', 'number_of_bids': 12, 'currency': 'CAD', 'max_bid': 23.0}, {'link': 'https://hibid.com/lot/167826350/medical-king-heated-blanket', 'title': 'MEDICAL KING HEATED BLANKET', 'lot_number': '2556', 'number_of_bids': 23, 'currency': 'CAD', 'max_bid': 37.5}, {'link': 'https://hibid.com/lot/167826352/-sealed--mina-modern-tv-stand-cabinet', 'title': '(SEALED) MINA MODERN TV STAND CABINET', 'lot_number': '2558', 'number_of_bids': 21, 'currency': 'CAD', 'max_bid': 55.0}, {'link': 'https://hibid.com/lot/167826357/4-100-btu--black-decker-portable-air-conditioner', 'title': '4,100 BTU, BLACK DECKER PORTABLE AIR CONDITIONER', 'lot_number': '2563', 'number_of_bids': 20, 'currency': 'CAD', 'max_bid': 40.0}, {'link': 'https://hibid.com/lot/167826362/-sealed--12-inch--queen--swiss-ortho-sleep', 'title': '(SEALED) 12 INCH, QUEEN, SWISS ORTHO SLEEP', 'lot_number': '2568', 'number_of_bids': 32, 'currency': 'CAD', 'max_bid': 190.0}, {'link': 'https://hibid.com/lot/167826364/-no-box--starpower-treadmill', 'title': '(NO BOX) STARPOWER TREADMILL', 'lot_number': '2570', 'number_of_bids': 18, 'currency': 'CAD', 'max_bid': 24.0}, {'link': 'https://hibid.com/lot/167826365/sealed---6x8-ft-mininfa-natural-rolled-bamboo', 'title': 'SEALED - 6X8 FT MININFA NATURAL ROLLED BAMBOO', 'lot_number': '2571', 'number_of_bids': 29, 'currency': 'CAD', 'max_bid': 160.0}, {'link': 'https://hibid.com/lot/167826366/sealed---6x8-ft-mininfa-natural-rolled-bamboo', 'title': 'SEALED - 6X8 FT MININFA NATURAL ROLLED BAMBOO', 'lot_number': '2572', 'number_of_bids': 19, 'currency': 'CAD', 'max_bid': 140.0}, {'link': 'https://hibid.com/lot/167826367/sealed---6x8-ft-mininfa-natural-rolled-bamboo', 'title': 'SEALED - 6X8 FT MININFA NATURAL ROLLED BAMBOO', 'lot_number': '2573', 'number_of_bids': 17, 'currency': 'CAD', 'max_bid': 140.0}, {'link': 'https://hibid.com/lot/167826368/-sealed--12-inch--king--zinus-green-tea-memory', 'title': '(SEALED) 12 INCH, KING, ZINUS GREEN TEA MEMORY', 'lot_number': '2574', 'number_of_bids': 26, 'currency': 'CAD', 'max_bid': 200.0}, {'link': 'https://hibid.com/lot/167826369/monxook-2-slice-waffle-maker', 'title': 'MONXOOK 2 SLICE WAFFLE MAKER', 'lot_number': '2575', 'number_of_bids': 13, 'currency': 'CAD', 'max_bid': 19.0}, {'link': 'https://hibid.com/lot/167826370/chefman-electric-panini-press-grill', 'title': 'CHEFMAN ELECTRIC PANINI PRESS GRILL', 'lot_number': '2576', 'number_of_bids': 13, 'currency': 'CAD', 'max_bid': 15.0}, {'link': 'https://hibid.com/lot/167826371/portable-aircon-vent-seal-and-hose-kit', 'title': 'PORTABLE AIRCON VENT SEAL AND HOSE KIT', 'lot_number': '2577', 'number_of_bids': 12, 'currency': 'CAD', 'max_bid': 14.0}, {}, {'link': 'https://hibid.com/lot/167826375/2-quart--ninja-mini-air-fryer', 'title': '2 QUART, NINJA MINI AIR FRYER', 'lot_number': '2581', 'number_of_bids': 22, 'currency': 'CAD', 'max_bid': 35.0}, {'link': 'https://hibid.com/lot/167826376/20-w--solperk-solar-panel', 'title': '20 W, SOLPERK SOLAR PANEL', 'lot_number': '2582', 'number_of_bids': 13, 'currency': 'CAD', 'max_bid': 23.0}, {'link': 'https://hibid.com/lot/167826380/-sealed--set-of-16-pcs-stoneware-dinnerware', 'title': '(SEALED) SET OF 16 PCS STONEWARE DINNERWARE', 'lot_number': '2586', 'number_of_bids': 25, 'currency': 'CAD', 'max_bid': 40.0}, {'link': 'https://hibid.com/lot/167826383/-signs-of-usage--1-l--hamilton-beach-compact', 'title': '(SIGNS OF USAGE) 1 L, HAMILTON BEACH COMPACT', 'lot_number': '2589', 'number_of_bids': 5, 'currency': 'CAD', 'max_bid': 4.0}, {'link': 'https://hibid.com/lot/167826385/cal--king-size--emonia-waterproof-mattress', 'title': 'CAL. KING SIZE, EMONIA WATERPROOF MATTRESS', 'lot_number': '2591', 'number_of_bids': 9, 'currency': 'CAD', 'max_bid': 9.0}, {'link': 'https://hibid.com/lot/167826386/proctor-silex-4-slice-toaster', 'title': 'PROCTOR SILEX 4 SLICE TOASTER', 'lot_number': '2592', 'number_of_bids': 19, 'currency': 'CAD', 'max_bid': 17.0}, {'link': 'https://hibid.com/lot/167826391/1-7-l--elite-gourmet-electric-kettle', 'title': '1.7 L, ELITE GOURMET ELECTRIC KETTLE', 'lot_number': '2597', 'number_of_bids': 8, 'currency': 'CAD', 'max_bid': 8.0}, {'link': 'https://hibid.com/lot/167826394/828-ml--starfrit-personal-blender', 'title': '828 ML, STARFRIT PERSONAL BLENDER', 'lot_number': '2600', 'number_of_bids': 4, 'currency': 'CAD', 'max_bid': 7.0}, {'link': 'https://hibid.com/lot/167826399/14-inch--cuisinart-portable-charcoal-grill', 'title': '14 INCH, CUISINART PORTABLE CHARCOAL GRILL', 'lot_number': '2605', 'number_of_bids': 17, 'currency': 'CAD', 'max_bid': 20.0}, {'link': 'https://hibid.com/lot/167826400/-sealed--36-inch-high--safety-1st-walk-through', 'title': '(SEALED) 36 INCH HIGH, SAFETY 1ST WALK THROUGH', 'lot_number': '2606', 'number_of_bids': 5, 'currency': 'CAD', 'max_bid': 13.0}, {'link': 'https://hibid.com/lot/167826401/24-packs--scotch-brite-stainless-steel-scouring', 'title': '24 PACKS, SCOTCH BRITE STAINLESS STEEL SCOURING', 'lot_number': '2607', 'number_of_bids': 10, 'currency': 'CAD', 'max_bid': 11.0}, {'link': 'https://hibid.com/lot/167826402/1-8-l--chefman-electric-kettle', 'title': '1.8 L, CHEFMAN ELECTRIC KETTLE', 'lot_number': '2608', 'number_of_bids': 6, 'currency': 'CAD', 'max_bid': 6.0}, {'link': 'https://hibid.com/lot/167826403/26-l--igloo-cooler', 'title': '26 L, IGLOO COOLER', 'lot_number': '2609', 'number_of_bids': 12, 'currency': 'CAD', 'max_bid': 32.5}, {'link': 'https://hibid.com/lot/167826404/39-8-inch--rivet-farr-lotus-accent-chair', 'title': '39.8 INCH, RIVET FARR LOTUS ACCENT CHAIR', 'lot_number': '2610', 'number_of_bids': 18, 'currency': 'CAD', 'max_bid': 45.0}, {'link': 'https://hibid.com/lot/167826405/1-5-l--ninja-master-prep', 'title': '1.5 L, NINJA MASTER PREP', 'lot_number': '2611', 'number_of_bids': 15, 'currency': 'CAD', 'max_bid': 16.0}, {'link': 'https://hibid.com/lot/167826406/-sealed--46-5-inch--finch-alfred-wooden-round', 'title': '(SEALED) 46.5 INCH, FINCH ALFRED WOODEN ROUND', 'lot_number': '2612', 'number_of_bids': 18, 'currency': 'CAD', 'max_bid': 87.5}, {'link': 'https://hibid.com/lot/167826407/-sealed--yosuda-exercise-bike', 'title': '(SEALED) YOSUDA EXERCISE BIKE', 'lot_number': '2613', 'number_of_bids': 36, 'currency': 'CAD', 'max_bid': 110.0}, {'link': 'https://hibid.com/lot/167826408/-sealed--6-000-btu---frigidaire-window-air', 'title': '(SEALED) 6,000 BTU, FRIGIDAIRE WINDOW AIR', 'lot_number': '2614', 'number_of_bids': 10, 'currency': 'CAD', 'max_bid': 42.5}, {'link': 'https://hibid.com/lot/167826409/-sealed--hapfan-5-in-1-metal-swing-set', 'title': '(SEALED) HAPFAN 5-IN-1 METAL SWING SET', 'lot_number': '2615', 'number_of_bids': 20, 'currency': 'CAD', 'max_bid': 62.5}, {'link': 'https://hibid.com/lot/167826410/set-of-approx--3-ft-long-with-swing-pad', 'title': 'SET OF APPROX. 3 FT LONG WITH SWING PAD', 'lot_number': '2616', 'number_of_bids': 5, 'currency': 'CAD', 'max_bid': 5.0}, {'link': 'https://hibid.com/lot/167826411/-sealed--16-ft--big-trampoline', 'title': '(SEALED) 16 FT, BIG TRAMPOLINE', 'lot_number': '2617', 'number_of_bids': 20, 'currency': 'CAD', 'max_bid': 160.0}, {'link': 'https://hibid.com/lot/167826412/brionna-vegan-leather-recliner', 'title': 'BRIONNA VEGAN LEATHER RECLINER', 'lot_number': '2618', 'number_of_bids': 45, 'currency': 'CAD', 'max_bid': 97.5}, {'link': 'https://hibid.com/lot/167826413/28-inch--blackstone-2-burner-griddle', 'title': '28 INCH, BLACKSTONE 2-BURNER GRIDDLE', 'lot_number': '2619', 'number_of_bids': 40, 'currency': 'CAD', 'max_bid': 260.0}, {'link': 'https://hibid.com/lot/167826414/size-10--new-balance-womens-shoe', 'title': 'SIZE 10, NEW BALANCE WOMENS SHOE', 'lot_number': '2620', 'number_of_bids': 10, 'currency': 'CAD', 'max_bid': 18.0}, {'link': 'https://hibid.com/lot/167826415/fisher-price-zebra-learning-toy', 'title': 'FISHER-PRICE ZEBRA LEARNING TOY', 'lot_number': '2621', 'number_of_bids': 3, 'currency': 'CAD', 'max_bid': 5.0}, {'link': 'https://hibid.com/lot/167826416/26-gal--barker-plastic-water-tank', 'title': '26 GAL, BARKER PLASTIC WATER TANK', 'lot_number': '2622', 'number_of_bids': 8, 'currency': 'CAD', 'max_bid': 23.0}, {'link': 'https://hibid.com/lot/167826417/bissell-little-green-machine', 'title': 'BISSELL LITTLE GREEN MACHINE', 'lot_number': '2623', 'number_of_bids': 20, 'currency': 'CAD', 'max_bid': 47.5}, {'link': 'https://hibid.com/lot/167826418/suncast-sidewinder-hose-reel-taupe', 'title': 'SUNCAST SIDEWINDER HOSE REEL TAUPE', 'lot_number': '2624', 'number_of_bids': 16, 'currency': 'CAD', 'max_bid': 18.0}, {'link': 'https://hibid.com/lot/167826419/1-8-l--chefman-electric-kettle', 'title': '1.8 L, CHEFMAN ELECTRIC KETTLE', 'lot_number': '2625', 'number_of_bids': 4, 'currency': 'CAD', 'max_bid': 6.0}, {'link': 'https://hibid.com/lot/167826420/scotch-thermal-laminator', 'title': 'SCOTCH THERMAL LAMINATOR', 'lot_number': '2626', 'number_of_bids': 13, 'currency': 'CAD', 'max_bid': 17.0}, {'link': 'https://hibid.com/lot/167826421/vastiny-ceiling-hanging-heater', 'title': 'VASTINY CEILING HANGING HEATER', 'lot_number': '2627', 'number_of_bids': 16, 'currency': 'CAD', 'max_bid': 28.0}, {'link': 'https://hibid.com/lot/167826422/thermaltake-micro-chassis', 'title': 'THERMALTAKE MICRO CHASSIS', 'lot_number': '2628', 'number_of_bids': 5, 'currency': 'CAD', 'max_bid': 11.0}, {'link': 'https://hibid.com/lot/167826423/foodsaver-vacuum-sealing-system', 'title': 'FOODSAVER VACUUM SEALING SYSTEM', 'lot_number': '2629', 'number_of_bids': 11, 'currency': 'CAD', 'max_bid': 22.0}, {'link': 'https://hibid.com/lot/167826424/cuisinart-4-slice-toaster', 'title': 'CUISINART 4-SLICE TOASTER', 'lot_number': '2630', 'number_of_bids': 10, 'currency': 'CAD', 'max_bid': 13.0}, {'link': 'https://hibid.com/lot/167826425/brindle-soft-memory-foam-dog-bed', 'title': 'BRINDLE SOFT MEMORY FOAM DOG BED', 'lot_number': '2631', 'number_of_bids': 4, 'currency': 'CAD', 'max_bid': 11.0}, {'link': 'https://hibid.com/lot/167826426/amazon-basics-easel-stand', 'title': 'AMAZON BASICS EASEL STAND', 'lot_number': '2632', 'number_of_bids': 3, 'currency': 'CAD', 'max_bid': 3.0}, {'link': 'https://hibid.com/lot/167826427/12-cup--kenmore-coffee-maker', 'title': '12-CUP, KENMORE COFFEE MAKER', 'lot_number': '2633', 'number_of_bids': 7, 'currency': 'CAD', 'max_bid': 7.0}, {'link': 'https://hibid.com/lot/167826428/the-doggie-dooley-waste-disposal-system', 'title': 'THE DOGGIE DOOLEY WASTE DISPOSAL SYSTEM', 'lot_number': '2634', 'number_of_bids': 4, 'currency': 'CAD', 'max_bid': 4.0}, {'link': 'https://hibid.com/lot/167826429/summer-pop-n-sit-portable-booster', 'title': 'SUMMER POP N SIT PORTABLE BOOSTER', 'lot_number': '2635', 'number_of_bids': 6, 'currency': 'CAD', 'max_bid': 8.0}, {'link': 'https://hibid.com/lot/167826430/adco-designer-series-tyre-gards', 'title': 'ADCO DESIGNER SERIES TYRE GARDS', 'lot_number': '2636', 'number_of_bids': 2, 'currency': 'CAD', 'max_bid': 3.0}, {'link': 'https://hibid.com/lot/167826431/approx--25-ft--generator-extension-cord', 'title': 'APPROX. 25 FT, GENERATOR EXTENSION CORD', 'lot_number': '2637', 'number_of_bids': 11, 'currency': 'CAD', 'max_bid': 40.0}, {'link': 'https://hibid.com/lot/167826432/alpine-reflective-glass-gazing-globe', 'title': 'ALPINE REFLECTIVE GLASS GAZING GLOBE', 'lot_number': '2638', 'number_of_bids': 11, 'currency': 'CAD', 'max_bid': 15.0}, {'link': 'https://hibid.com/lot/167826433/weekender-ventilated-gel-memory-foam-pillow', 'title': 'WEEKENDER VENTILATED GEL MEMORY FOAM PILLOW', 'lot_number': '2639', 'number_of_bids': 10, 'currency': 'CAD', 'max_bid': 13.0}, {'link': 'https://hibid.com/lot/167826434/10-l--bankers-box-plastic-storage', 'title': '10 L, BANKERS BOX PLASTIC STORAGE', 'lot_number': '2640', 'number_of_bids': 6, 'currency': 'CAD', 'max_bid': 7.0}, {'link': 'https://hibid.com/lot/167826435/easy-going-sofa-slipcover-reversible-protector', 'title': 'EASY GOING SOFA SLIPCOVER REVERSIBLE PROTECTOR', 'lot_number': '2641', 'number_of_bids': 6, 'currency': 'CAD', 'max_bid': 7.0}, {'link': 'https://hibid.com/lot/167826436/2-pack--1-kg--overture-petg-3d-printer-filament', 'title': '2 PACK, 1 KG, OVERTURE PETG 3D PRINTER FILAMENT', 'lot_number': '2642', 'number_of_bids': 9, 'currency': 'CAD', 'max_bid': 37.5}, {'link': 'https://hibid.com/lot/167826437/chefman-mini-portable-personal-fridge', 'title': 'CHEFMAN MINI PORTABLE PERSONAL FRIDGE', 'lot_number': '2643', 'number_of_bids': 12, 'currency': 'CAD', 'max_bid': 14.0}, {'link': 'https://hibid.com/lot/167826438/set-of-16-pcs--gibson-elite-dinnerware', 'title': 'SET OF 16 PCS, GIBSON ELITE DINNERWARE', 'lot_number': '2644', 'number_of_bids': 9, 'currency': 'CAD', 'max_bid': 9.0}, {'link': 'https://hibid.com/lot/167826439/10-qt--xl-2-basket-ninja-air-fryer', 'title': '10 QT, XL 2 BASKET NINJA AIR FRYER', 'lot_number': '2645', 'number_of_bids': 27, 'currency': 'CAD', 'max_bid': 70.0}, {'link': 'https://hibid.com/lot/167826440/6-000-btu--midea-window-air-conditioner', 'title': '6,000 BTU, MIDEA WINDOW AIR CONDITIONER', 'lot_number': '2646', 'number_of_bids': 6, 'currency': 'CAD', 'max_bid': 21.0}, {'link': 'https://hibid.com/lot/167826441/-sealed--6-inch--full--linenspa-spring-mattress', 'title': '(SEALED) 6 INCH, FULL, LINENSPA SPRING MATTRESS', 'lot_number': '2647', 'number_of_bids': 24, 'currency': 'CAD', 'max_bid': 52.5}]\n"
     ]
    },
    {
     "name": "stderr",
     "output_type": "stream",
     "text": [
      "C:\\Users\\shiva\\AppData\\Local\\Temp\\ipykernel_2096\\2574675377.py:3: DeprecationWarning: Firefox will soon stop logging to geckodriver.log by default; Specify desired logs with log_output\n",
      "  service = Service(executable_path=\"geckodriver/geckodriver.exe\")\n"
     ]
    },
    {
     "name": "stdout",
     "output_type": "stream",
     "text": [
      "Number of detailed auctions: 38\n",
      "Number of condensed auctions: 29\n",
      "Total number of auctions: 67\n"
     ]
    },
    {
     "name": "stderr",
     "output_type": "stream",
     "text": [
      "C:\\Users\\shiva\\AppData\\Local\\Temp\\ipykernel_2096\\2574675377.py:3: DeprecationWarning: Firefox will soon stop logging to geckodriver.log by default; Specify desired logs with log_output\n",
      "  service = Service(executable_path=\"geckodriver/geckodriver.exe\")\n"
     ]
    },
    {
     "name": "stdout",
     "output_type": "stream",
     "text": [
      "Number of detailed auctions: 39\n",
      "Number of condensed auctions: 29\n",
      "Total number of auctions: 68\n"
     ]
    },
    {
     "name": "stderr",
     "output_type": "stream",
     "text": [
      "C:\\Users\\shiva\\AppData\\Local\\Temp\\ipykernel_2096\\2574675377.py:3: DeprecationWarning: Firefox will soon stop logging to geckodriver.log by default; Specify desired logs with log_output\n",
      "  service = Service(executable_path=\"geckodriver/geckodriver.exe\")\n"
     ]
    },
    {
     "name": "stdout",
     "output_type": "stream",
     "text": [
      "Number of detailed auctions: 38\n",
      "Number of condensed auctions: 28\n",
      "Total number of auctions: 66\n"
     ]
    },
    {
     "name": "stderr",
     "output_type": "stream",
     "text": [
      "C:\\Users\\shiva\\AppData\\Local\\Temp\\ipykernel_2096\\2574675377.py:3: DeprecationWarning: Firefox will soon stop logging to geckodriver.log by default; Specify desired logs with log_output\n",
      "  service = Service(executable_path=\"geckodriver/geckodriver.exe\")\n"
     ]
    },
    {
     "name": "stdout",
     "output_type": "stream",
     "text": [
      "Number of detailed auctions: 39\n",
      "Number of condensed auctions: 27\n",
      "Total number of auctions: 66\n"
     ]
    },
    {
     "name": "stderr",
     "output_type": "stream",
     "text": [
      "C:\\Users\\shiva\\AppData\\Local\\Temp\\ipykernel_2096\\2574675377.py:3: DeprecationWarning: Firefox will soon stop logging to geckodriver.log by default; Specify desired logs with log_output\n",
      "  service = Service(executable_path=\"geckodriver/geckodriver.exe\")\n"
     ]
    },
    {
     "name": "stdout",
     "output_type": "stream",
     "text": [
      "Number of detailed auctions: 37\n",
      "Number of condensed auctions: 30\n",
      "Total number of auctions: 67\n"
     ]
    },
    {
     "name": "stderr",
     "output_type": "stream",
     "text": [
      "C:\\Users\\shiva\\AppData\\Local\\Temp\\ipykernel_2096\\2574675377.py:3: DeprecationWarning: Firefox will soon stop logging to geckodriver.log by default; Specify desired logs with log_output\n",
      "  service = Service(executable_path=\"geckodriver/geckodriver.exe\")\n"
     ]
    },
    {
     "name": "stdout",
     "output_type": "stream",
     "text": [
      "Number of detailed auctions: 35\n",
      "Number of condensed auctions: 29\n",
      "Total number of auctions: 64\n"
     ]
    },
    {
     "name": "stderr",
     "output_type": "stream",
     "text": [
      "C:\\Users\\shiva\\AppData\\Local\\Temp\\ipykernel_2096\\2574675377.py:3: DeprecationWarning: Firefox will soon stop logging to geckodriver.log by default; Specify desired logs with log_output\n",
      "  service = Service(executable_path=\"geckodriver/geckodriver.exe\")\n"
     ]
    },
    {
     "name": "stdout",
     "output_type": "stream",
     "text": [
      "Number of detailed auctions: 36\n",
      "Number of condensed auctions: 29\n",
      "Total number of auctions: 65\n"
     ]
    },
    {
     "name": "stderr",
     "output_type": "stream",
     "text": [
      "C:\\Users\\shiva\\AppData\\Local\\Temp\\ipykernel_2096\\2574675377.py:3: DeprecationWarning: Firefox will soon stop logging to geckodriver.log by default; Specify desired logs with log_output\n",
      "  service = Service(executable_path=\"geckodriver/geckodriver.exe\")\n"
     ]
    },
    {
     "name": "stdout",
     "output_type": "stream",
     "text": [
      "Number of detailed auctions: 40\n",
      "Number of condensed auctions: 28\n",
      "Total number of auctions: 68\n"
     ]
    },
    {
     "name": "stderr",
     "output_type": "stream",
     "text": [
      "C:\\Users\\shiva\\AppData\\Local\\Temp\\ipykernel_2096\\2574675377.py:3: DeprecationWarning: Firefox will soon stop logging to geckodriver.log by default; Specify desired logs with log_output\n",
      "  service = Service(executable_path=\"geckodriver/geckodriver.exe\")\n"
     ]
    },
    {
     "name": "stdout",
     "output_type": "stream",
     "text": [
      "Number of detailed auctions: 37\n",
      "Number of condensed auctions: 30\n",
      "Total number of auctions: 67\n"
     ]
    },
    {
     "name": "stderr",
     "output_type": "stream",
     "text": [
      "C:\\Users\\shiva\\AppData\\Local\\Temp\\ipykernel_2096\\2574675377.py:3: DeprecationWarning: Firefox will soon stop logging to geckodriver.log by default; Specify desired logs with log_output\n",
      "  service = Service(executable_path=\"geckodriver/geckodriver.exe\")\n"
     ]
    },
    {
     "name": "stdout",
     "output_type": "stream",
     "text": [
      "Number of detailed auctions: 41\n",
      "Number of condensed auctions: 29\n",
      "Total number of auctions: 70\n"
     ]
    },
    {
     "name": "stderr",
     "output_type": "stream",
     "text": [
      "C:\\Users\\shiva\\AppData\\Local\\Temp\\ipykernel_2096\\2574675377.py:3: DeprecationWarning: Firefox will soon stop logging to geckodriver.log by default; Specify desired logs with log_output\n",
      "  service = Service(executable_path=\"geckodriver/geckodriver.exe\")\n"
     ]
    },
    {
     "name": "stdout",
     "output_type": "stream",
     "text": [
      "Number of detailed auctions: 42\n",
      "Number of condensed auctions: 29\n",
      "Total number of auctions: 71\n"
     ]
    },
    {
     "name": "stderr",
     "output_type": "stream",
     "text": [
      "C:\\Users\\shiva\\AppData\\Local\\Temp\\ipykernel_2096\\2574675377.py:3: DeprecationWarning: Firefox will soon stop logging to geckodriver.log by default; Specify desired logs with log_output\n",
      "  service = Service(executable_path=\"geckodriver/geckodriver.exe\")\n"
     ]
    },
    {
     "name": "stdout",
     "output_type": "stream",
     "text": [
      "Number of detailed auctions: 45\n",
      "Number of condensed auctions: 28\n",
      "Total number of auctions: 73\n"
     ]
    },
    {
     "name": "stderr",
     "output_type": "stream",
     "text": [
      "C:\\Users\\shiva\\AppData\\Local\\Temp\\ipykernel_2096\\2574675377.py:3: DeprecationWarning: Firefox will soon stop logging to geckodriver.log by default; Specify desired logs with log_output\n",
      "  service = Service(executable_path=\"geckodriver/geckodriver.exe\")\n"
     ]
    },
    {
     "name": "stdout",
     "output_type": "stream",
     "text": [
      "Number of detailed auctions: 42\n",
      "Number of condensed auctions: 30\n",
      "Total number of auctions: 72\n"
     ]
    },
    {
     "name": "stderr",
     "output_type": "stream",
     "text": [
      "C:\\Users\\shiva\\AppData\\Local\\Temp\\ipykernel_2096\\2574675377.py:3: DeprecationWarning: Firefox will soon stop logging to geckodriver.log by default; Specify desired logs with log_output\n",
      "  service = Service(executable_path=\"geckodriver/geckodriver.exe\")\n"
     ]
    },
    {
     "name": "stdout",
     "output_type": "stream",
     "text": [
      "Number of detailed auctions: 40\n",
      "Number of condensed auctions: 29\n",
      "Total number of auctions: 69\n"
     ]
    },
    {
     "name": "stderr",
     "output_type": "stream",
     "text": [
      "C:\\Users\\shiva\\AppData\\Local\\Temp\\ipykernel_2096\\2574675377.py:3: DeprecationWarning: Firefox will soon stop logging to geckodriver.log by default; Specify desired logs with log_output\n",
      "  service = Service(executable_path=\"geckodriver/geckodriver.exe\")\n"
     ]
    },
    {
     "name": "stdout",
     "output_type": "stream",
     "text": [
      "Number of detailed auctions: 39\n",
      "Number of condensed auctions: 28\n",
      "Total number of auctions: 67\n"
     ]
    },
    {
     "name": "stderr",
     "output_type": "stream",
     "text": [
      "C:\\Users\\shiva\\AppData\\Local\\Temp\\ipykernel_2096\\2574675377.py:3: DeprecationWarning: Firefox will soon stop logging to geckodriver.log by default; Specify desired logs with log_output\n",
      "  service = Service(executable_path=\"geckodriver/geckodriver.exe\")\n"
     ]
    },
    {
     "name": "stdout",
     "output_type": "stream",
     "text": [
      "Number of detailed auctions: 40\n",
      "Number of condensed auctions: 30\n",
      "Total number of auctions: 70\n"
     ]
    },
    {
     "name": "stderr",
     "output_type": "stream",
     "text": [
      "C:\\Users\\shiva\\AppData\\Local\\Temp\\ipykernel_2096\\2574675377.py:3: DeprecationWarning: Firefox will soon stop logging to geckodriver.log by default; Specify desired logs with log_output\n",
      "  service = Service(executable_path=\"geckodriver/geckodriver.exe\")\n"
     ]
    },
    {
     "name": "stdout",
     "output_type": "stream",
     "text": [
      "Number of detailed auctions: 45\n",
      "Number of condensed auctions: 27\n",
      "Total number of auctions: 72\n"
     ]
    },
    {
     "name": "stderr",
     "output_type": "stream",
     "text": [
      "C:\\Users\\shiva\\AppData\\Local\\Temp\\ipykernel_2096\\2574675377.py:3: DeprecationWarning: Firefox will soon stop logging to geckodriver.log by default; Specify desired logs with log_output\n",
      "  service = Service(executable_path=\"geckodriver/geckodriver.exe\")\n"
     ]
    },
    {
     "name": "stdout",
     "output_type": "stream",
     "text": [
      "Number of detailed auctions: 42\n",
      "Number of condensed auctions: 30\n",
      "Total number of auctions: 72\n"
     ]
    },
    {
     "name": "stderr",
     "output_type": "stream",
     "text": [
      "C:\\Users\\shiva\\AppData\\Local\\Temp\\ipykernel_2096\\2574675377.py:3: DeprecationWarning: Firefox will soon stop logging to geckodriver.log by default; Specify desired logs with log_output\n",
      "  service = Service(executable_path=\"geckodriver/geckodriver.exe\")\n"
     ]
    },
    {
     "name": "stdout",
     "output_type": "stream",
     "text": [
      "Number of detailed auctions: 29\n",
      "Number of condensed auctions: 29\n",
      "Total number of auctions: 58\n"
     ]
    }
   ],
   "source": [
    "main()"
   ]
  }
 ],
 "metadata": {
  "kernelspec": {
   "display_name": "venv",
   "language": "python",
   "name": "python3"
  },
  "language_info": {
   "codemirror_mode": {
    "name": "ipython",
    "version": 3
   },
   "file_extension": ".py",
   "mimetype": "text/x-python",
   "name": "python",
   "nbconvert_exporter": "python",
   "pygments_lexer": "ipython3",
   "version": "3.11.4"
  },
  "orig_nbformat": 4
 },
 "nbformat": 4,
 "nbformat_minor": 2
}

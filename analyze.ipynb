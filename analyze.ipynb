{
 "cells": [
  {
   "cell_type": "code",
   "execution_count": 5,
   "metadata": {},
   "outputs": [
    {
     "name": "stdout",
     "output_type": "stream",
     "text": [
      "167107580\n",
      "10446596\n",
      "167113825\n",
      "10446836\n"
     ]
    }
   ],
   "source": [
    "import json\n",
    "\n",
    "with open('live_auction_api_data.json') as f:\n",
    "    data = json.load(f)\n",
    "    livelots = data[\"data\"][\"liveCatalogLots\"][\"liveLots\"]\n",
    "    upcominglots = data[\"data\"][\"liveCatalogLots\"][\"upcomingLots\"]\n",
    "    print(livelots[0][\"id\"])\n",
    "    print(livelots[0][\"itemId\"])\n",
    "    print(upcominglots[0][\"id\"])\n",
    "    print(upcominglots[0][\"itemId\"])"
   ]
  },
  {
   "cell_type": "code",
   "execution_count": 2,
   "metadata": {},
   "outputs": [
    {
     "name": "stdout",
     "output_type": "stream",
     "text": [
      "2037\n",
      "2037\n"
     ]
    }
   ],
   "source": [
    "import json\n",
    "\n",
    "# read api_result.json file\n",
    "with open(\"auctions\\Encore_Auctions_Inc_480682.json\") as f:\n",
    "    data = json.load(f)\n",
    "    items = [item[\"itemId\"] for item in data[\"lots\"]]\n",
    "    print(len(items))\n",
    "    print(len(set(items)))"
   ]
  }
 ],
 "metadata": {
  "kernelspec": {
   "display_name": "base",
   "language": "python",
   "name": "python3"
  },
  "language_info": {
   "codemirror_mode": {
    "name": "ipython",
    "version": 3
   },
   "file_extension": ".py",
   "mimetype": "text/x-python",
   "name": "python",
   "nbconvert_exporter": "python",
   "pygments_lexer": "ipython3",
   "version": "3.11.5"
  },
  "orig_nbformat": 4
 },
 "nbformat": 4,
 "nbformat_minor": 2
}

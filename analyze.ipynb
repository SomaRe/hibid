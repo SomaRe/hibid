{
 "cells": [
  {
   "cell_type": "code",
   "execution_count": 5,
   "metadata": {},
   "outputs": [
    {
     "name": "stdout",
     "output_type": "stream",
     "text": [
      "167107580\n",
      "10446596\n",
      "167113825\n",
      "10446836\n"
     ]
    }
   ],
   "source": [
    "import json\n",
    "\n",
    "with open('live_auction_api_data.json') as f:\n",
    "    data = json.load(f)\n",
    "    livelots = data[\"data\"][\"liveCatalogLots\"][\"liveLots\"]\n",
    "    upcominglots = data[\"data\"][\"liveCatalogLots\"][\"upcomingLots\"]\n",
    "    print(livelots[0][\"id\"])\n",
    "    print(livelots[0][\"itemId\"])\n",
    "    print(upcominglots[0][\"id\"])\n",
    "    print(upcominglots[0][\"itemId\"])"
   ]
  },
  {
   "cell_type": "code",
   "execution_count": 1,
   "metadata": {},
   "outputs": [
    {
     "name": "stdout",
     "output_type": "stream",
     "text": [
      "Index(['__typename', 'bidAmount', 'bidList', 'bidQuantity', 'category',\n",
      "       'description', 'estimate', 'forceLiveCatalog', 'fr8StarUrl',\n",
      "       'hideLeadWithDescription', 'id', 'itemId', 'lead', 'linkTypes', 'links',\n",
      "       'lotNavigator', 'lotNumber', 'pictureCount', 'pictures', 'quantity',\n",
      "       'ringNumber', 'rv', 'saleOrder', 'shippingOffered', 'simulcastStatus',\n",
      "       'featuredPicture.__typename', 'featuredPicture.description',\n",
      "       'featuredPicture.fullSizeLocation', 'featuredPicture.height',\n",
      "       'featuredPicture.thumbnailLocation', 'featuredPicture.width',\n",
      "       'lotState.__typename', 'lotState.bidCount', 'lotState.bidMax',\n",
      "       'lotState.bidMaxTotal', 'lotState.biddingExtended', 'lotState.buyNow',\n",
      "       'lotState.buyerBidStatus', 'lotState.buyerHighBid',\n",
      "       'lotState.buyerHighBidTotal', 'lotState.choiceType', 'lotState.highBid',\n",
      "       'lotState.highBuyerId', 'lotState.isArchived', 'lotState.isClosed',\n",
      "       'lotState.isHidden', 'lotState.isLive', 'lotState.isNotYetLive',\n",
      "       'lotState.isOnLiveCatalog', 'lotState.isPosted',\n",
      "       'lotState.isPublicHidden', 'lotState.isRegistered',\n",
      "       'lotState.isWatching', 'lotState.linkedSoftClose',\n",
      "       'lotState.mayHaveWonStatus', 'lotState.minBid',\n",
      "       'lotState.priceRealized', 'lotState.priceRealizedMessage',\n",
      "       'lotState.priceRealizedPerEach', 'lotState.productStatus',\n",
      "       'lotState.productUrl', 'lotState.quantitySold',\n",
      "       'lotState.reserveSatisfied', 'lotState.sealed',\n",
      "       'lotState.showBidStatus', 'lotState.showReserveStatus',\n",
      "       'lotState.softCloseMinutes', 'lotState.softCloseSeconds',\n",
      "       'lotState.status', 'lotState.timeLeft', 'lotState.timeLeftLead',\n",
      "       'lotState.timeLeftSeconds', 'lotState.timeLeftTitle',\n",
      "       'lotState.timeLeftWithLimboSeconds', 'lotState.watchNotes',\n",
      "       'site.__typename', 'site.currencyExpressUrl', 'site.domain',\n",
      "       'site.fr8StarUrl', 'site.isDomainRequest', 'site.isExtraWWWRequest',\n",
      "       'site.siteType', 'site.subdomain'],\n",
      "      dtype='object')\n"
     ]
    }
   ],
   "source": [
    "import json\n",
    "import pandas\n",
    "\n",
    "df = None\n",
    "# read api_result.json file\n",
    "with open(\"auctions\\Encore_Auctions_Inc_480682.json\") as f:\n",
    "    data = json.load(f)\n",
    "    # json to pandas dataframe\n",
    "    df = pandas.json_normalize(data[\"lots\"])\n",
    "\n",
    "# get all columns\n",
    "print(df.columns)"
   ]
  },
  {
   "cell_type": "code",
   "execution_count": 46,
   "metadata": {},
   "outputs": [
    {
     "name": "stdout",
     "output_type": "stream",
     "text": [
      "[1, 2, 3, 4, 5, 6, 7, 8, 9, 10, 11, 12, 13, 14, 15, 16, 17, 18, 19, 20, 21, 22, 23, 24, 25, 26, 27, 28, 29, 30, 31, 32, 33, 34, 35, 36, 37, 38, 39, 40, 41, 42, 43, 44, 45, 46, 48, 49, 50, 54, 56, 66, 78]\n"
     ]
    }
   ],
   "source": [
    "# get all unique from _typename column\n",
    "# print(df['category'].unique())\n",
    "\n",
    "# unique_tuples = df['category'].apply(tuple).unique()\n",
    "# unique_lists = [list(t) for t in unique_tuples]\n",
    "# print(unique_lists)\n",
    "\n",
    "print(sorted(df['rv'].unique()))"
   ]
  },
  {
   "cell_type": "code",
   "execution_count": 50,
   "metadata": {},
   "outputs": [
    {
     "name": "stdout",
     "output_type": "stream",
     "text": [
      "1996    SEALED - 86 IN. LG 86UH5C ULTRA HD SIGNAGE SCREEN\n",
      "Name: lead, dtype: object\n"
     ]
    }
   ],
   "source": [
    "# print all lead column where rv = 1\n",
    "print(df.loc[df['rv'] == 49, 'lead'])\n"
   ]
  },
  {
   "cell_type": "code",
   "execution_count": 53,
   "metadata": {},
   "outputs": [],
   "source": [
    "all_columns = ['__typename', 'bidAmount', 'bidList', 'bidQuantity', 'category',\n",
    "       'description', 'estimate', 'forceLiveCatalog', 'fr8StarUrl',\n",
    "       'hideLeadWithDescription', 'id', 'itemId', 'lead', 'linkTypes', 'links',\n",
    "       'lotNavigator', 'lotNumber', 'pictureCount', 'pictures', 'quantity',\n",
    "       'ringNumber', 'rv', 'saleOrder', 'shippingOffered', 'simulcastStatus',\n",
    "       'featuredPicture.__typename', 'featuredPicture.description',\n",
    "       'featuredPicture.fullSizeLocation', 'featuredPicture.height',\n",
    "       'featuredPicture.thumbnailLocation', 'featuredPicture.width',\n",
    "       'lotState.__typename', 'lotState.bidCount', 'lotState.bidMax',\n",
    "       'lotState.bidMaxTotal', 'lotState.biddingExtended', 'lotState.buyNow',\n",
    "       'lotState.buyerBidStatus', 'lotState.buyerHighBid',\n",
    "       'lotState.buyerHighBidTotal', 'lotState.choiceType', 'lotState.highBid',\n",
    "       'lotState.highBuyerId', 'lotState.isArchived', 'lotState.isClosed',\n",
    "       'lotState.isHidden', 'lotState.isLive', 'lotState.isNotYetLive',\n",
    "       'lotState.isOnLiveCatalog', 'lotState.isPosted',\n",
    "       'lotState.isPublicHidden', 'lotState.isRegistered',\n",
    "       'lotState.isWatching', 'lotState.linkedSoftClose',\n",
    "       'lotState.mayHaveWonStatus', 'lotState.minBid',\n",
    "       'lotState.priceRealized', 'lotState.priceRealizedMessage',\n",
    "       'lotState.priceRealizedPerEach', 'lotState.productStatus',\n",
    "       'lotState.productUrl', 'lotState.quantitySold',\n",
    "       'lotState.reserveSatisfied', 'lotState.sealed',\n",
    "       'lotState.showBidStatus', 'lotState.showReserveStatus',\n",
    "       'lotState.softCloseMinutes', 'lotState.softCloseSeconds',\n",
    "       'lotState.status', 'lotState.timeLeft', 'lotState.timeLeftLead',\n",
    "       'lotState.timeLeftSeconds', 'lotState.timeLeftTitle',\n",
    "       'lotState.timeLeftWithLimboSeconds', 'lotState.watchNotes',\n",
    "       'site.__typename', 'site.currencyExpressUrl', 'site.domain',\n",
    "       'site.fr8StarUrl', 'site.isDomainRequest', 'site.isExtraWWWRequest',\n",
    "       'site.siteType', 'site.subdomain']\n",
    "\n",
    "\n",
    "# description: Needs to be seperately scraped\n",
    "cols = [\"category\",\"description\", \"id\",\"itemId\", \"lead\", \"lotNumber\", \"rv\", \"shippingOffered\",\"lotState.bidCount\", \"lotState.highBid\"]\n",
    "\n",
    "df_selected = df[cols]\n",
    "\n",
    "# chnage column names where lotState is present\n",
    "df_selected = df_selected.rename(columns={\"lotState.bidCount\": \"bidCount\", \"lotState.highBid\": \"highBid\"})\n"
   ]
  },
  {
   "cell_type": "code",
   "execution_count": 54,
   "metadata": {},
   "outputs": [
    {
     "data": {
      "text/html": [
       "<div>\n",
       "<style scoped>\n",
       "    .dataframe tbody tr th:only-of-type {\n",
       "        vertical-align: middle;\n",
       "    }\n",
       "\n",
       "    .dataframe tbody tr th {\n",
       "        vertical-align: top;\n",
       "    }\n",
       "\n",
       "    .dataframe thead th {\n",
       "        text-align: right;\n",
       "    }\n",
       "</style>\n",
       "<table border=\"1\" class=\"dataframe\">\n",
       "  <thead>\n",
       "    <tr style=\"text-align: right;\">\n",
       "      <th></th>\n",
       "      <th>category</th>\n",
       "      <th>description</th>\n",
       "      <th>id</th>\n",
       "      <th>itemId</th>\n",
       "      <th>lead</th>\n",
       "      <th>lotNumber</th>\n",
       "      <th>rv</th>\n",
       "      <th>shippingOffered</th>\n",
       "      <th>bidCount</th>\n",
       "      <th>highBid</th>\n",
       "    </tr>\n",
       "  </thead>\n",
       "  <tbody>\n",
       "    <tr>\n",
       "      <th>0</th>\n",
       "      <td>[{'__typename': 'CategoryTree', 'baseCategoryI...</td>\n",
       "      <td></td>\n",
       "      <td>168623741</td>\n",
       "      <td>1630889</td>\n",
       "      <td>BABYLISS PRO PROFESSIONAL HAIR DRYER</td>\n",
       "      <td>1515</td>\n",
       "      <td>27</td>\n",
       "      <td>True</td>\n",
       "      <td>24</td>\n",
       "      <td>24.0</td>\n",
       "    </tr>\n",
       "    <tr>\n",
       "      <th>1</th>\n",
       "      <td>[{'__typename': 'CategoryTree', 'baseCategoryI...</td>\n",
       "      <td></td>\n",
       "      <td>168623742</td>\n",
       "      <td>1630896</td>\n",
       "      <td>QUEEN SIZE COMFII HOME 3-PIECE DUVET  COVER</td>\n",
       "      <td>1516</td>\n",
       "      <td>12</td>\n",
       "      <td>True</td>\n",
       "      <td>10</td>\n",
       "      <td>11.0</td>\n",
       "    </tr>\n",
       "    <tr>\n",
       "      <th>2</th>\n",
       "      <td>[{'__typename': 'CategoryTree', 'baseCategoryI...</td>\n",
       "      <td></td>\n",
       "      <td>168623754</td>\n",
       "      <td>1631128</td>\n",
       "      <td>3 PIECES SIZE XLARGE BOSS MENS BRIEF</td>\n",
       "      <td>1528</td>\n",
       "      <td>11</td>\n",
       "      <td>True</td>\n",
       "      <td>10</td>\n",
       "      <td>10.0</td>\n",
       "    </tr>\n",
       "    <tr>\n",
       "      <th>3</th>\n",
       "      <td>[{'__typename': 'CategoryTree', 'baseCategoryI...</td>\n",
       "      <td></td>\n",
       "      <td>168623758</td>\n",
       "      <td>1631174</td>\n",
       "      <td>HAMILTON BEACH NONSTICK SOLEPLATE IRON</td>\n",
       "      <td>1532</td>\n",
       "      <td>15</td>\n",
       "      <td>True</td>\n",
       "      <td>10</td>\n",
       "      <td>9.0</td>\n",
       "    </tr>\n",
       "    <tr>\n",
       "      <th>4</th>\n",
       "      <td>[{'__typename': 'CategoryTree', 'baseCategoryI...</td>\n",
       "      <td></td>\n",
       "      <td>168623764</td>\n",
       "      <td>1631288</td>\n",
       "      <td>ASSORTED KITCHEN ITEMS</td>\n",
       "      <td>1538</td>\n",
       "      <td>15</td>\n",
       "      <td>True</td>\n",
       "      <td>12</td>\n",
       "      <td>12.0</td>\n",
       "    </tr>\n",
       "  </tbody>\n",
       "</table>\n",
       "</div>"
      ],
      "text/plain": [
       "                                            category description         id  \\\n",
       "0  [{'__typename': 'CategoryTree', 'baseCategoryI...              168623741   \n",
       "1  [{'__typename': 'CategoryTree', 'baseCategoryI...              168623742   \n",
       "2  [{'__typename': 'CategoryTree', 'baseCategoryI...              168623754   \n",
       "3  [{'__typename': 'CategoryTree', 'baseCategoryI...              168623758   \n",
       "4  [{'__typename': 'CategoryTree', 'baseCategoryI...              168623764   \n",
       "\n",
       "    itemId                                         lead lotNumber  rv  \\\n",
       "0  1630889         BABYLISS PRO PROFESSIONAL HAIR DRYER      1515  27   \n",
       "1  1630896  QUEEN SIZE COMFII HOME 3-PIECE DUVET  COVER      1516  12   \n",
       "2  1631128         3 PIECES SIZE XLARGE BOSS MENS BRIEF      1528  11   \n",
       "3  1631174       HAMILTON BEACH NONSTICK SOLEPLATE IRON      1532  15   \n",
       "4  1631288                       ASSORTED KITCHEN ITEMS      1538  15   \n",
       "\n",
       "   shippingOffered  bidCount  highBid  \n",
       "0             True        24     24.0  \n",
       "1             True        10     11.0  \n",
       "2             True        10     10.0  \n",
       "3             True        10      9.0  \n",
       "4             True        12     12.0  "
      ]
     },
     "execution_count": 54,
     "metadata": {},
     "output_type": "execute_result"
    }
   ],
   "source": [
    "df_selected.head()"
   ]
  }
 ],
 "metadata": {
  "kernelspec": {
   "display_name": "base",
   "language": "python",
   "name": "python3"
  },
  "language_info": {
   "codemirror_mode": {
    "name": "ipython",
    "version": 3
   },
   "file_extension": ".py",
   "mimetype": "text/x-python",
   "name": "python",
   "nbconvert_exporter": "python",
   "pygments_lexer": "ipython3",
   "version": "3.11.4"
  },
  "orig_nbformat": 4
 },
 "nbformat": 4,
 "nbformat_minor": 2
}
